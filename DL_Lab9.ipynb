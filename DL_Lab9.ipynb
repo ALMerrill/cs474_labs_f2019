{
  "nbformat": 4,
  "nbformat_minor": 0,
  "metadata": {
    "colab": {
      "name": "DL_Lab9.ipynb",
      "provenance": [],
      "collapsed_sections": [],
      "include_colab_link": true
    },
    "kernelspec": {
      "name": "python3",
      "display_name": "Python 3"
    },
    "accelerator": "GPU"
  },
  "cells": [
    {
      "cell_type": "markdown",
      "metadata": {
        "id": "view-in-github",
        "colab_type": "text"
      },
      "source": [
        "<a href=\"https://colab.research.google.com/github/ALMerrill/cs474_labs_f2019/blob/master/DL_Lab9.ipynb\" target=\"_parent\"><img src=\"https://colab.research.google.com/assets/colab-badge.svg\" alt=\"Open In Colab\"/></a>"
      ]
    },
    {
      "cell_type": "markdown",
      "metadata": {
        "id": "w-jFCArcTC-B",
        "colab_type": "text"
      },
      "source": [
        "<a \n",
        "href=\"https://colab.research.google.com/github/wingated/cs474_labs_f2019/blob/master/DL_Lab9.ipynb\"\n",
        "  target=\"_parent\">\n",
        "  <img\n",
        "    src=\"https://colab.research.google.com/assets/colab-badge.svg\"\n",
        "    alt=\"Open In Colab\"/>\n",
        "</a>"
      ]
    },
    {
      "cell_type": "markdown",
      "metadata": {
        "id": "sl7hEuB3J4k3",
        "colab_type": "text"
      },
      "source": [
        "# Lab 9: Deep Reinforcement Learning\n",
        "\n",
        "## Objective\n",
        "\n",
        "- Build DQN and PPO Deep RL algorithms\n",
        "- Learn the difference between Q Learning and Policy Gradient techniques\n",
        "\n",
        "## Deliverable\n",
        "\n",
        "For this lab you will submit an ipython notebook via learning suite. This lab gives you a lot of code, and you should only need to modify two of the cells of this notebook. Feel free to download and modify this notebook or create your own. The below code is given for your convinience. You can modify any of the given code if you wish.\n",
        "\n",
        "## Tips\n",
        "\n",
        "Deep reinforcement learning is difficult. We provide hyperparameters, visualizations, and code for gathering experience, but require you to code up algorithms for training your networks. \n",
        "\n",
        "- Your networks should be able to demonstrate learning on cartpole within a minute of wall time.\n",
        "\n",
        "- Understand what your the starter code is doing. This will help you with the *TODO* sections. The main code block is similar for the two algorithms with some small yet important differences.\n",
        "\n",
        "- We provide hyperparameters for you to start with. Feel free to experiment with different values, but these worked for us.\n",
        "\n",
        "- **Print dtypes and shapes** throughout your code to make sure your tensors look the way you expect.\n",
        "\n",
        "- The DQN algorithm is significantly more unstable than PPO. Even with a correct implementation it may fail to learn every 1/10 times.\n",
        "\n",
        "- Unfortunately visualizing your agent acting in the environment is non-trivial in Colab. You can visualize your agent by running this code locally and uncommenting the `env.render()` line.\n",
        "\n",
        "## Grading\n",
        "\n",
        "- 35% Part 1: DQN *TODO* methods\n",
        "- 35% Part 2: PPO *TODO* methods\n",
        "- 20% Part 3: Cartpole learning curves\n",
        "- 10% Tidy legible code\n",
        "\n",
        "___\n",
        "\n",
        "## Part 1\n",
        "\n",
        "### DQN\n",
        "\n",
        "Deep Q-Network (https://www.cs.toronto.edu/~vmnih/docs/dqn.pdf) is a Q-learning algorithm that learns values for state-action pairs.\n",
        "\n",
        "Actions are sampled according to an $\\epsilon-greedy$ policy to help with exploration of the state space. Every time an action is sampled, the agent chooses a random action with $\\epsilon$ probability. Otherwise, the agent selects the action with the highest Q-value for a state. $\\epsilon$ decays over time according to $\\epsilon \\gets \\epsilon * epsilon\\_decay$.\n",
        "\n",
        "Tuples of state, action, reward, next_state, and terminal $(s,a,r,s',d)$ are collected during training. Every $learn\\_frequency$ steps $sample\\_size$ tuples are sampled and made into 5 tensors tensors of states, actions, rewarads, next_states, and terminals.\n",
        "\n",
        "The loss for a batch of size N is given below.\n",
        "\n",
        "$Loss=\\frac{1}{N}\\sum \\bigg(Q(s,a) - (r + \\gamma \\underset{a'\\sim A}{max} \\hat{Q}(s',a')(1-d))\\bigg)^2 $\n",
        "\n",
        "Loss is calculated and used to update the Q-Network. The target network $\\hat{Q}$ begins as a copy of the Q network but is not updated by the optimizer. Every $target\\_update$ steps, the target network is updated with the parameters of the Q-Network. This processes is a type of bootstrapping.\n",
        "\n",
        "### TODO\n",
        "\n",
        "- Implement get action method with e-greedy policy\n",
        "- Implement sample batch method\n",
        "- Implement DQN learning algorithm\n",
        "\n",
        "## Part 2\n",
        "\n",
        "### PPO\n",
        "\n",
        "Proximal Policy Optimization (https://arxiv.org/pdf/1707.06347.pdf) is a type of policy gradient method. Instead of calculating Q-values, we train a network $\\pi$ to optimize the probability of taking good actions directly, using states as inputs and actions as outputs. PPO also uses a value network $V$ that estimates state values in order to estimate the advantage $\\hat{A}$. \n",
        "\n",
        "Tuples of state, action distribution, action taken, and return $(s,\\pi(s), a,\\hat{R})$ are gathered for several rollouts. After training on this experience, these tuples are discarded and new experience is gathered.\n",
        "\n",
        "Loss for the value network and the policy network are calculated according to the following formula:\n",
        "\n",
        "$Loss=ValueLoss+PolicyLoss$\n",
        "\n",
        "$ValueLoss=\\frac{1}{N}\\sum \\bigg(\\hat{R} - V(s) \\bigg)^2 $\n",
        "\n",
        "$PolicyLoss=-\\frac{1}{N}\\sum \\min\\bigg( \\frac{\\pi'(a|s)}{\\pi(a|s)} \\hat{A}, clip(\\frac{\\pi'(a|s)}{\\pi(a|s)},1-\\epsilon,1+\\epsilon) \\hat{A} \\bigg) $\n",
        "\n",
        "$\\hat{R}_t = \\sum_{i=t}^H \\gamma^{i-1}r_i$\n",
        "\n",
        "$\\hat{A}_t=\\hat{R}_t-V(s_t)$\n",
        "\n",
        "Here, $\\pi'(a|s)$ is the probability of taking an action given a state under the current policy and $\\pi(a|s)$ is the probability of taking an action given a state under the policy used to gather data. In the loss function, $a$ is the action your agent actually took and is sampled from memory. \n",
        "\n",
        "Additionally, the $clip$ function clips the value of the first argument according to the lower and upper bounds in the second and third arguments resectively.\n",
        "\n",
        "Another important note: Your the calculation of your advantage $\\hat{A}$ should not permit gradient flow from your policy loss calculation. In other words, make sure to call `.detach()` on your advantage.\n",
        "\n",
        "### TODO\n",
        "\n",
        "- Implement calculate return method\n",
        "- Implement get action method\n",
        "- Implement PPO learning algorithm\n",
        "\n",
        "## Part 3\n",
        "\n",
        "### Cartpole\n",
        "\n",
        "Cartpole is a simple environment to get your agent up and running. It has a continuous state space of 4 dimensions and a discrete action space of 2. The agent is given a reward of 1 for each timestep it remains standing. Your agent should be able to reach close to 200 cumulative reward for an episode after a minute or two of training. The below graphs show example results for dqn (left) and ppo (right).\n",
        "\n",
        "![alt text](https://drive.google.com/uc?export=view&id=1Bpz1jOPMF1zJMW6XBJJ44sJ-RmO_q6_U)\n",
        "![alt text](https://drive.google.com/uc?export=view&id=1M1yygXhLKDL8qfRXn7fh_K-zq7-pQRhY)\n",
        "\n",
        "### TODO\n",
        "\n",
        "- Train DQN and PPO on cartpole\n",
        "- Display learning curves with average episodic reward per epoch"
      ]
    },
    {
      "cell_type": "markdown",
      "metadata": {
        "id": "gVWokqnVab6O",
        "colab_type": "text"
      },
      "source": [
        "# Starter Code"
      ]
    },
    {
      "cell_type": "markdown",
      "metadata": {
        "id": "WhaPOG6xt0yn",
        "colab_type": "text"
      },
      "source": [
        "## Init"
      ]
    },
    {
      "cell_type": "code",
      "metadata": {
        "id": "EyykNyRM1Tf3",
        "colab_type": "code",
        "outputId": "96821cc9-2bdf-4867-8b72-f7a48c0b903b",
        "colab": {
          "base_uri": "https://localhost:8080/",
          "height": 194
        }
      },
      "source": [
        "! pip3 install gym\n",
        "! pip3 install torch"
      ],
      "execution_count": 2,
      "outputs": [
        {
          "output_type": "stream",
          "text": [
            "Requirement already satisfied: gym in /usr/local/lib/python3.6/dist-packages (0.15.4)\n",
            "Requirement already satisfied: six in /usr/local/lib/python3.6/dist-packages (from gym) (1.12.0)\n",
            "Requirement already satisfied: pyglet<=1.3.2,>=1.2.0 in /usr/local/lib/python3.6/dist-packages (from gym) (1.3.2)\n",
            "Requirement already satisfied: cloudpickle~=1.2.0 in /usr/local/lib/python3.6/dist-packages (from gym) (1.2.2)\n",
            "Requirement already satisfied: opencv-python in /usr/local/lib/python3.6/dist-packages (from gym) (3.4.7.28)\n",
            "Requirement already satisfied: numpy>=1.10.4 in /usr/local/lib/python3.6/dist-packages (from gym) (1.17.4)\n",
            "Requirement already satisfied: scipy in /usr/local/lib/python3.6/dist-packages (from gym) (1.3.2)\n",
            "Requirement already satisfied: future in /usr/local/lib/python3.6/dist-packages (from pyglet<=1.3.2,>=1.2.0->gym) (0.16.0)\n",
            "Requirement already satisfied: torch in /usr/local/lib/python3.6/dist-packages (1.3.1)\n",
            "Requirement already satisfied: numpy in /usr/local/lib/python3.6/dist-packages (from torch) (1.17.4)\n"
          ],
          "name": "stdout"
        }
      ]
    },
    {
      "cell_type": "code",
      "metadata": {
        "id": "Rim8iocC1Vva",
        "colab_type": "code",
        "colab": {}
      },
      "source": [
        "import gym\n",
        "import torch\n",
        "import torch.nn as nn\n",
        "from itertools import chain\n",
        "import matplotlib.pyplot as plt\n",
        "from tqdm import tqdm\n",
        "import random\n",
        "from torch.utils.data import Dataset, DataLoader\n",
        "import numpy as np"
      ],
      "execution_count": 0,
      "outputs": []
    },
    {
      "cell_type": "markdown",
      "metadata": {
        "id": "mV282uYJ2aSw",
        "colab_type": "text"
      },
      "source": [
        "## DQN"
      ]
    },
    {
      "cell_type": "markdown",
      "metadata": {
        "id": "Qi_aDdTg2btp",
        "colab_type": "text"
      },
      "source": [
        "### TODO"
      ]
    },
    {
      "cell_type": "code",
      "metadata": {
        "id": "_mBUvXkT2dHy",
        "colab_type": "code",
        "colab": {}
      },
      "source": [
        "import pdb\n",
        "\n",
        "def get_action_dqn(network, state, epsilon, epsilon_decay):\n",
        "  \"\"\"Select action according to e-greedy policy and decay epsilon\n",
        "\n",
        "    Args:\n",
        "        network (QNetwork): Q-Network\n",
        "        state (np-array): current state, size (state_size)\n",
        "        epsilon (float): probability of choosing a random action\n",
        "        epsilon_decay (float): amount by which to decay epsilon\n",
        "\n",
        "    Returns:\n",
        "        action (int): chosen action [0, action_size)\n",
        "        epsilon (float): decayed epsilon\n",
        "  \"\"\"\n",
        "  rand = np.random.randn()\n",
        "  if rand < epsilon:\n",
        "    action = random.randint(0,1) #0 or 1, left or right\n",
        "  else:\n",
        "    output = network(torch.tensor(state).float().cuda())\n",
        "    action = torch.argmax(output).item()\n",
        "    # print('\\n get_action_dqn: rand >= epsilon')\n",
        "    # pdb.set_trace()\n",
        "  epsilon = epsilon * epsilon_decay\n",
        "  return action, epsilon\n",
        "    \n",
        "\n",
        "\n",
        "def prepare_batch(memory, batch_size):\n",
        "  \"\"\"Randomly sample batch from memory\n",
        "     Prepare cuda tensors\n",
        "\n",
        "    Args:\n",
        "        memory (list): state, action, next_state, reward, done tuples\n",
        "        batch_size (int): amount of memory to sample into a batch\n",
        "\n",
        "    Returns:\n",
        "        state (tensor): float cuda tensor of size (batch_size x state_size()\n",
        "        action (tensor): long tensor of size (batch_size)\n",
        "        next_state (tensor): float cuda tensor of size (batch_size x state_size)\n",
        "        reward (tensor): float cuda tensor of size (batch_size)\n",
        "        done (tensor): float cuda tensor of size (batch_size)\n",
        "  \"\"\"\n",
        "  # start with list of tuples and return a tuple of tensors (one batch) (state, action, next_state, reward, done)\n",
        "  sample = random.sample(memory, batch_size)\n",
        "\n",
        "  states, actions, next_states, rewards, dones = [], [], [], [], []\n",
        "  for state, action, next_state, reward, done in sample:\n",
        "    states.append(state)\n",
        "    actions.append(action)\n",
        "    next_states.append(next_state)\n",
        "    rewards.append(reward)\n",
        "    dones.append(done)\n",
        "  \n",
        "  # print('\\n prepare_batch')\n",
        "  # pdb.set_trace()\n",
        "  #TODO: maybe convert these to float (action to long) tensors\n",
        "  return torch.tensor(states).float().cuda(), torch.tensor(actions).long(), \\\n",
        "          torch.tensor(next_states).float().cuda(), torch.tensor(rewards).float().cuda(), \\\n",
        "          torch.tensor(dones).float().cuda()\n",
        "  \n",
        "  \n",
        "def learn_dqn(batch, optim, q_network, target_network, gamma, global_step, target_update):\n",
        "  \"\"\"Update Q-Network according to DQN Loss function\n",
        "     Update Target Network every target_update global steps\n",
        "\n",
        "    Args:\n",
        "        batch (tuple): tuple of state, action, next_state, reward, and done tensors\n",
        "        optim (Adam): Q-Network optimizer\n",
        "        q_network (QNetwork): Q-Network\n",
        "        target_network (QNetwork): Target Q-Network\n",
        "        gamma (float): discount factor\n",
        "        global_step (int): total steps taken in environment\n",
        "        target_update (int): frequency of target network update\n",
        "  \"\"\"\n",
        "  state, action, next_state, reward, done = batch\n",
        "  # TODO index into it as the batch. This is setup to work for 1, not for batch_size\n",
        "  # could use torch.gather? make a mask and use that. \n",
        "  # just look at the size, go from (batch_size, 2) tensor to (batch_size, 1) tensor where each row is the action that should be taken\n",
        "  # I think I could do something like q_network(state)[:,action] because action will be the indeces along dimmension 2, but see if that works\n",
        "  # loss = (q_network(state)[action] - (reward + gamma * max(target_network(next_state)) * (1 - done)) ** 2\n",
        "  action = action.unsqueeze(1).cuda()\n",
        "  next_ = torch.gather(q_network(state), dim=1, index=action)\n",
        "  reward_ = reward + gamma * torch.max(target_network(next_state))\n",
        "  done_ = 1 - done\n",
        "  next_reward_ = next_ - (reward_)\n",
        "  loss = (next_reward_ * (done_) ** 2)\n",
        "  # loss = (torch.gather(q_network(state), dim=1, index=action) - (reward + gamma * torch.max(target_network(next_state)) * (1 - done)) ** 2)\n",
        "  pdb.set_trace()\n",
        "  if target_update % global_step == 0:\n",
        "    target_network.load_state_dict(q_network.state_dict())\n",
        "\n",
        "  # pdb.set_trace()"
      ],
      "execution_count": 0,
      "outputs": []
    },
    {
      "cell_type": "markdown",
      "metadata": {
        "id": "vGQgiY0WvImB",
        "colab_type": "text"
      },
      "source": [
        "###Modules"
      ]
    },
    {
      "cell_type": "code",
      "metadata": {
        "id": "1vMhl-oevIBo",
        "colab_type": "code",
        "colab": {}
      },
      "source": [
        "# Q-Value Network\n",
        "class QNetwork(nn.Module):\n",
        "  def __init__(self, state_size, action_size):\n",
        "    super().__init__()\n",
        "    hidden_size = 8\n",
        "    \n",
        "    self.net = nn.Sequential(nn.Linear(state_size, hidden_size),\n",
        "                             nn.ReLU(),\n",
        "                             nn.Linear(hidden_size, hidden_size),\n",
        "                             nn.ReLU(),\n",
        "                             nn.Linear(hidden_size, hidden_size),\n",
        "                             nn.ReLU(),\n",
        "                             nn.Linear(hidden_size, action_size))  \n",
        "    \n",
        "  def forward(self, x):\n",
        "    \"\"\"Estimate q-values given state\n",
        "\n",
        "      Args:\n",
        "          state (tensor): current state, size (batch x state_size)\n",
        "\n",
        "      Returns:\n",
        "          q-values (tensor): estimated q-values, size (batch x action_size)\n",
        "    \"\"\"\n",
        "    return self.net(x)"
      ],
      "execution_count": 0,
      "outputs": []
    },
    {
      "cell_type": "markdown",
      "metadata": {
        "id": "yCafVI552dgg",
        "colab_type": "text"
      },
      "source": [
        "### Main"
      ]
    },
    {
      "cell_type": "code",
      "metadata": {
        "id": "8Sy_r9Wr2eg8",
        "colab_type": "code",
        "outputId": "75e9c84e-73a3-49f2-b99e-5baffa7eaebd",
        "colab": {
          "base_uri": "https://localhost:8080/",
          "height": 402
        }
      },
      "source": [
        "def dqn_main():\n",
        "  # Hyper parameters\n",
        "  lr = 1e-3\n",
        "  epochs = 500\n",
        "  start_training = 1000\n",
        "  gamma = 0.99\n",
        "  batch_size = 32\n",
        "  epsilon = 1\n",
        "  epsilon_decay = .9999\n",
        "  target_update = 1000\n",
        "  learn_frequency = 2\n",
        "\n",
        "  # Init environment\n",
        "  state_size = 4 #position and velocify of cart and pole\n",
        "  action_size = 2 #move cart left or right\n",
        "  env = gym.make('CartPole-v1', )\n",
        "\n",
        "  # Init networks\n",
        "  q_network = QNetwork(state_size, action_size).cuda()\n",
        "  target_network = QNetwork(state_size, action_size).cuda()\n",
        "  target_network.load_state_dict(q_network.state_dict())\n",
        "\n",
        "  # Init optimizer\n",
        "  optim = torch.optim.Adam(q_network.parameters(), lr=lr)\n",
        "\n",
        "  # Init replay buffer\n",
        "  memory = []\n",
        "\n",
        "  # Begin main loop\n",
        "  results_dqn = []\n",
        "  global_step = 0\n",
        "  loop = tqdm(total=epochs, position=0, leave=False)\n",
        "  for epoch in range(epochs):\n",
        "\n",
        "    # Reset environment\n",
        "    state = env.reset()\n",
        "    done = False\n",
        "    cum_reward = 0  # Track cumulative reward per episode\n",
        "\n",
        "    # Begin episode\n",
        "    while not done and cum_reward < 200:  # End after 200 steps \n",
        "      # Select e-greedy action\n",
        "      action, epsilon = get_action_dqn(q_network, state, epsilon, epsilon_decay)\n",
        "\n",
        "      # Take step\n",
        "      next_state, reward, done, _ = env.step(action)\n",
        "      # env.render()\n",
        "\n",
        "      # Store step in replay buffer\n",
        "      memory.append((state, action, next_state, reward, done))\n",
        "\n",
        "      cum_reward += reward\n",
        "      global_step += 1  # Increment total steps\n",
        "      state = next_state  # Set current state\n",
        "\n",
        "      # If time to train\n",
        "      if global_step > start_training and global_step % learn_frequency == 0:\n",
        "\n",
        "        # Sample batch\n",
        "        batch = prepare_batch(memory, batch_size)\n",
        "        \n",
        "        # Train\n",
        "        learn_dqn(batch, optim, q_network, target_network, gamma, global_step, target_update)\n",
        "\n",
        "    # Print results at end of episode\n",
        "    results_dqn.append(cum_reward)\n",
        "    loop.update(1)\n",
        "    loop.set_description('Episodes: {} Reward: {}'.format(epoch, cum_reward))\n",
        "  \n",
        "  return results_dqn\n",
        "\n",
        "results_dqn = dqn_main()"
      ],
      "execution_count": 35,
      "outputs": [
        {
          "output_type": "stream",
          "text": [
            "Episodes: 47 Reward: 85.0:  10%|▉         | 48/500 [00:00<00:02, 209.19it/s]"
          ],
          "name": "stderr"
        },
        {
          "output_type": "stream",
          "text": [
            "> <ipython-input-34-ba9d8bc036bc>(88)learn_dqn()\n",
            "-> if target_update % global_step == 0:\n",
            "(Pdb) quit\n"
          ],
          "name": "stdout"
        },
        {
          "output_type": "error",
          "ename": "BdbQuit",
          "evalue": "ignored",
          "traceback": [
            "\u001b[0;31m---------------------------------------------------------------------------\u001b[0m",
            "\u001b[0;31mBdbQuit\u001b[0m                                   Traceback (most recent call last)",
            "\u001b[0;32m<ipython-input-35-f95ac341fc4f>\u001b[0m in \u001b[0;36m<module>\u001b[0;34m()\u001b[0m\n\u001b[1;32m     70\u001b[0m   \u001b[0;32mreturn\u001b[0m \u001b[0mresults_dqn\u001b[0m\u001b[0;34m\u001b[0m\u001b[0;34m\u001b[0m\u001b[0m\n\u001b[1;32m     71\u001b[0m \u001b[0;34m\u001b[0m\u001b[0m\n\u001b[0;32m---> 72\u001b[0;31m \u001b[0mresults_dqn\u001b[0m \u001b[0;34m=\u001b[0m \u001b[0mdqn_main\u001b[0m\u001b[0;34m(\u001b[0m\u001b[0;34m)\u001b[0m\u001b[0;34m\u001b[0m\u001b[0;34m\u001b[0m\u001b[0m\n\u001b[0m",
            "\u001b[0;32m<ipython-input-35-f95ac341fc4f>\u001b[0m in \u001b[0;36mdqn_main\u001b[0;34m()\u001b[0m\n\u001b[1;32m     61\u001b[0m \u001b[0;34m\u001b[0m\u001b[0m\n\u001b[1;32m     62\u001b[0m         \u001b[0;31m# Train\u001b[0m\u001b[0;34m\u001b[0m\u001b[0;34m\u001b[0m\u001b[0;34m\u001b[0m\u001b[0m\n\u001b[0;32m---> 63\u001b[0;31m         \u001b[0mlearn_dqn\u001b[0m\u001b[0;34m(\u001b[0m\u001b[0mbatch\u001b[0m\u001b[0;34m,\u001b[0m \u001b[0moptim\u001b[0m\u001b[0;34m,\u001b[0m \u001b[0mq_network\u001b[0m\u001b[0;34m,\u001b[0m \u001b[0mtarget_network\u001b[0m\u001b[0;34m,\u001b[0m \u001b[0mgamma\u001b[0m\u001b[0;34m,\u001b[0m \u001b[0mglobal_step\u001b[0m\u001b[0;34m,\u001b[0m \u001b[0mtarget_update\u001b[0m\u001b[0;34m)\u001b[0m\u001b[0;34m\u001b[0m\u001b[0;34m\u001b[0m\u001b[0m\n\u001b[0m\u001b[1;32m     64\u001b[0m \u001b[0;34m\u001b[0m\u001b[0m\n\u001b[1;32m     65\u001b[0m     \u001b[0;31m# Print results at end of episode\u001b[0m\u001b[0;34m\u001b[0m\u001b[0;34m\u001b[0m\u001b[0;34m\u001b[0m\u001b[0m\n",
            "\u001b[0;32m<ipython-input-34-ba9d8bc036bc>\u001b[0m in \u001b[0;36mlearn_dqn\u001b[0;34m(batch, optim, q_network, target_network, gamma, global_step, target_update)\u001b[0m\n\u001b[1;32m     86\u001b[0m   \u001b[0;31m# loss = (torch.gather(q_network(state), dim=1, index=action) - (reward + gamma * torch.max(target_network(next_state)) * (1 - done)) ** 2)\u001b[0m\u001b[0;34m\u001b[0m\u001b[0;34m\u001b[0m\u001b[0;34m\u001b[0m\u001b[0m\n\u001b[1;32m     87\u001b[0m   \u001b[0mpdb\u001b[0m\u001b[0;34m.\u001b[0m\u001b[0mset_trace\u001b[0m\u001b[0;34m(\u001b[0m\u001b[0;34m)\u001b[0m\u001b[0;34m\u001b[0m\u001b[0;34m\u001b[0m\u001b[0m\n\u001b[0;32m---> 88\u001b[0;31m   \u001b[0;32mif\u001b[0m \u001b[0mtarget_update\u001b[0m \u001b[0;34m%\u001b[0m \u001b[0mglobal_step\u001b[0m \u001b[0;34m==\u001b[0m \u001b[0;36m0\u001b[0m\u001b[0;34m:\u001b[0m\u001b[0;34m\u001b[0m\u001b[0;34m\u001b[0m\u001b[0m\n\u001b[0m\u001b[1;32m     89\u001b[0m     \u001b[0mtarget_network\u001b[0m\u001b[0;34m.\u001b[0m\u001b[0mload_state_dict\u001b[0m\u001b[0;34m(\u001b[0m\u001b[0mq_network\u001b[0m\u001b[0;34m.\u001b[0m\u001b[0mstate_dict\u001b[0m\u001b[0;34m(\u001b[0m\u001b[0;34m)\u001b[0m\u001b[0;34m)\u001b[0m\u001b[0;34m\u001b[0m\u001b[0;34m\u001b[0m\u001b[0m\n\u001b[1;32m     90\u001b[0m \u001b[0;34m\u001b[0m\u001b[0m\n",
            "\u001b[0;32m<ipython-input-34-ba9d8bc036bc>\u001b[0m in \u001b[0;36mlearn_dqn\u001b[0;34m(batch, optim, q_network, target_network, gamma, global_step, target_update)\u001b[0m\n\u001b[1;32m     86\u001b[0m   \u001b[0;31m# loss = (torch.gather(q_network(state), dim=1, index=action) - (reward + gamma * torch.max(target_network(next_state)) * (1 - done)) ** 2)\u001b[0m\u001b[0;34m\u001b[0m\u001b[0;34m\u001b[0m\u001b[0;34m\u001b[0m\u001b[0m\n\u001b[1;32m     87\u001b[0m   \u001b[0mpdb\u001b[0m\u001b[0;34m.\u001b[0m\u001b[0mset_trace\u001b[0m\u001b[0;34m(\u001b[0m\u001b[0;34m)\u001b[0m\u001b[0;34m\u001b[0m\u001b[0;34m\u001b[0m\u001b[0m\n\u001b[0;32m---> 88\u001b[0;31m   \u001b[0;32mif\u001b[0m \u001b[0mtarget_update\u001b[0m \u001b[0;34m%\u001b[0m \u001b[0mglobal_step\u001b[0m \u001b[0;34m==\u001b[0m \u001b[0;36m0\u001b[0m\u001b[0;34m:\u001b[0m\u001b[0;34m\u001b[0m\u001b[0;34m\u001b[0m\u001b[0m\n\u001b[0m\u001b[1;32m     89\u001b[0m     \u001b[0mtarget_network\u001b[0m\u001b[0;34m.\u001b[0m\u001b[0mload_state_dict\u001b[0m\u001b[0;34m(\u001b[0m\u001b[0mq_network\u001b[0m\u001b[0;34m.\u001b[0m\u001b[0mstate_dict\u001b[0m\u001b[0;34m(\u001b[0m\u001b[0;34m)\u001b[0m\u001b[0;34m)\u001b[0m\u001b[0;34m\u001b[0m\u001b[0;34m\u001b[0m\u001b[0m\n\u001b[1;32m     90\u001b[0m \u001b[0;34m\u001b[0m\u001b[0m\n",
            "\u001b[0;32m/usr/lib/python3.6/bdb.py\u001b[0m in \u001b[0;36mtrace_dispatch\u001b[0;34m(self, frame, event, arg)\u001b[0m\n\u001b[1;32m     49\u001b[0m             \u001b[0;32mreturn\u001b[0m \u001b[0;31m# None\u001b[0m\u001b[0;34m\u001b[0m\u001b[0;34m\u001b[0m\u001b[0m\n\u001b[1;32m     50\u001b[0m         \u001b[0;32mif\u001b[0m \u001b[0mevent\u001b[0m \u001b[0;34m==\u001b[0m \u001b[0;34m'line'\u001b[0m\u001b[0;34m:\u001b[0m\u001b[0;34m\u001b[0m\u001b[0;34m\u001b[0m\u001b[0m\n\u001b[0;32m---> 51\u001b[0;31m             \u001b[0;32mreturn\u001b[0m \u001b[0mself\u001b[0m\u001b[0;34m.\u001b[0m\u001b[0mdispatch_line\u001b[0m\u001b[0;34m(\u001b[0m\u001b[0mframe\u001b[0m\u001b[0;34m)\u001b[0m\u001b[0;34m\u001b[0m\u001b[0;34m\u001b[0m\u001b[0m\n\u001b[0m\u001b[1;32m     52\u001b[0m         \u001b[0;32mif\u001b[0m \u001b[0mevent\u001b[0m \u001b[0;34m==\u001b[0m \u001b[0;34m'call'\u001b[0m\u001b[0;34m:\u001b[0m\u001b[0;34m\u001b[0m\u001b[0;34m\u001b[0m\u001b[0m\n\u001b[1;32m     53\u001b[0m             \u001b[0;32mreturn\u001b[0m \u001b[0mself\u001b[0m\u001b[0;34m.\u001b[0m\u001b[0mdispatch_call\u001b[0m\u001b[0;34m(\u001b[0m\u001b[0mframe\u001b[0m\u001b[0;34m,\u001b[0m \u001b[0marg\u001b[0m\u001b[0;34m)\u001b[0m\u001b[0;34m\u001b[0m\u001b[0;34m\u001b[0m\u001b[0m\n",
            "\u001b[0;32m/usr/lib/python3.6/bdb.py\u001b[0m in \u001b[0;36mdispatch_line\u001b[0;34m(self, frame)\u001b[0m\n\u001b[1;32m     68\u001b[0m         \u001b[0;32mif\u001b[0m \u001b[0mself\u001b[0m\u001b[0;34m.\u001b[0m\u001b[0mstop_here\u001b[0m\u001b[0;34m(\u001b[0m\u001b[0mframe\u001b[0m\u001b[0;34m)\u001b[0m \u001b[0;32mor\u001b[0m \u001b[0mself\u001b[0m\u001b[0;34m.\u001b[0m\u001b[0mbreak_here\u001b[0m\u001b[0;34m(\u001b[0m\u001b[0mframe\u001b[0m\u001b[0;34m)\u001b[0m\u001b[0;34m:\u001b[0m\u001b[0;34m\u001b[0m\u001b[0;34m\u001b[0m\u001b[0m\n\u001b[1;32m     69\u001b[0m             \u001b[0mself\u001b[0m\u001b[0;34m.\u001b[0m\u001b[0muser_line\u001b[0m\u001b[0;34m(\u001b[0m\u001b[0mframe\u001b[0m\u001b[0;34m)\u001b[0m\u001b[0;34m\u001b[0m\u001b[0;34m\u001b[0m\u001b[0m\n\u001b[0;32m---> 70\u001b[0;31m             \u001b[0;32mif\u001b[0m \u001b[0mself\u001b[0m\u001b[0;34m.\u001b[0m\u001b[0mquitting\u001b[0m\u001b[0;34m:\u001b[0m \u001b[0;32mraise\u001b[0m \u001b[0mBdbQuit\u001b[0m\u001b[0;34m\u001b[0m\u001b[0;34m\u001b[0m\u001b[0m\n\u001b[0m\u001b[1;32m     71\u001b[0m         \u001b[0;32mreturn\u001b[0m \u001b[0mself\u001b[0m\u001b[0;34m.\u001b[0m\u001b[0mtrace_dispatch\u001b[0m\u001b[0;34m\u001b[0m\u001b[0;34m\u001b[0m\u001b[0m\n\u001b[1;32m     72\u001b[0m \u001b[0;34m\u001b[0m\u001b[0m\n",
            "\u001b[0;31mBdbQuit\u001b[0m: "
          ]
        }
      ]
    },
    {
      "cell_type": "code",
      "metadata": {
        "id": "ZWYwytCDC3aw",
        "colab_type": "code",
        "colab": {
          "base_uri": "https://localhost:8080/",
          "height": 265
        },
        "outputId": "91d2dc10-0175-4f8f-a88d-71a802253c96"
      },
      "source": [
        "plt.plot(results_dqn)\n",
        "plt.show()"
      ],
      "execution_count": 30,
      "outputs": [
        {
          "output_type": "display_data",
          "data": {
            "image/png": "[encoded data removed]",
            "text/plain": [
              "<Figure size 432x288 with 1 Axes>"
            ]
          },
          "metadata": {
            "tags": []
          }
        }
      ]
    },
    {
      "cell_type": "markdown",
      "metadata": {
        "id": "qN9yy5EWVNz0",
        "colab_type": "text"
      },
      "source": [
        "## PPO"
      ]
    },
    {
      "cell_type": "markdown",
      "metadata": {
        "id": "XvRUJUew0yN_",
        "colab_type": "text"
      },
      "source": [
        "### TODO"
      ]
    },
    {
      "cell_type": "code",
      "metadata": {
        "id": "zsm1pILHVcEp",
        "colab_type": "code",
        "colab": {}
      },
      "source": [
        "#Help session video at 22:18 for PPO stuff\n",
        "\n",
        "def calculate_return(memory, rollout, gamma):\n",
        "  \"\"\"Return memory with calculated return in experience tuple\n",
        "\n",
        "    Args:\n",
        "        memory (list): (state, action, action_dist, return) tuples\n",
        "        rollout (list): (state, action, action_dist, reward) tuples from last rollout\n",
        "        gamma (float): discount factor\n",
        "\n",
        "    Returns:\n",
        "        list: memory updated with (state, action, action_dist, return) tuples from rollout\n",
        "  \"\"\"\n",
        "  pass\n",
        "\n",
        "\n",
        "def get_action_ppo(network, state):\n",
        "  \"\"\"Sample action from the distribution obtained from the policy network\n",
        "\n",
        "    Args:\n",
        "        network (PolicyNetwork): Policy Network\n",
        "        state (np-array): current state, size (state_size)\n",
        "\n",
        "    Returns:\n",
        "        int: action sampled from output distribution of policy network\n",
        "        array: output distribution of policy network\n",
        "  \"\"\"\n",
        "  pass \n",
        "  \n",
        "\n",
        "def learn_ppo(optim, policy, value, memory_dataloader, epsilon, policy_epochs):\n",
        "  \"\"\"Implement PPO policy and value network updates. Iterate over your entire \n",
        "     memory the number of times indicated by policy_epochs.    \n",
        "\n",
        "    Args:\n",
        "        optim (Adam): value and policy optimizer\n",
        "        policy (PolicyNetwork): Policy Network\n",
        "        value (ValueNetwork): Value Network\n",
        "        memory_dataloader (DataLoader): dataloader with (state, action, action_dist, return, discounted_sum_rew) tensors\n",
        "        epsilon (float): trust region\n",
        "        policy_epochs (int): number of times to iterate over all memory\n",
        "  \"\"\"\n",
        "  pass "
      ],
      "execution_count": 0,
      "outputs": []
    },
    {
      "cell_type": "markdown",
      "metadata": {
        "id": "R6RXma_-vSGX",
        "colab_type": "text"
      },
      "source": [
        "###Modules"
      ]
    },
    {
      "cell_type": "code",
      "metadata": {
        "id": "L8URnP8xvTTG",
        "colab_type": "code",
        "colab": {}
      },
      "source": [
        "# Dataset that wraps memory for a dataloader\n",
        "class RLDataset(Dataset):\n",
        "  def __init__(self, data):\n",
        "    super().__init__()\n",
        "    self.data = []\n",
        "    for d in data:\n",
        "      self.data.append(d)\n",
        "  \n",
        "  def __getitem__(self, index):\n",
        "    return self.data[index]\n",
        " \n",
        "  def __len__(self):\n",
        "    return len(self.data)\n",
        "\n",
        "\n",
        "# Policy Network\n",
        "class PolicyNetwork(nn.Module):\n",
        "  def __init__(self, state_size, action_size):\n",
        "    super().__init__()\n",
        "    hidden_size = 8\n",
        "    \n",
        "    self.net = nn.Sequential(nn.Linear(state_size, hidden_size),\n",
        "                             nn.ReLU(),\n",
        "                             nn.Linear(hidden_size, hidden_size),\n",
        "                             nn.ReLU(),\n",
        "                             nn.Linear(hidden_size, hidden_size),\n",
        "                             nn.ReLU(),\n",
        "                             nn.Linear(hidden_size, action_size),\n",
        "                             nn.Softmax(dim=1))\n",
        "  \n",
        "  def forward(self, x):\n",
        "    \"\"\"Get policy from state\n",
        "\n",
        "      Args:\n",
        "          state (tensor): current state, size (batch x state_size)\n",
        "\n",
        "      Returns:\n",
        "          action_dist (tensor): probability distribution over actions (batch x action_size)\n",
        "    \"\"\"\n",
        "    return self.net(x)\n",
        "  \n",
        "\n",
        "# Value Network\n",
        "class ValueNetwork(nn.Module):\n",
        "  def __init__(self, state_size):\n",
        "    super().__init__()\n",
        "    hidden_size = 8\n",
        "  \n",
        "    self.net = nn.Sequential(nn.Linear(state_size, hidden_size),\n",
        "                             nn.ReLU(),\n",
        "                             nn.Linear(hidden_size, hidden_size),\n",
        "                             nn.ReLU(),\n",
        "                             nn.Linear(hidden_size, hidden_size),\n",
        "                             nn.ReLU(),\n",
        "                             nn.Linear(hidden_size, 1))\n",
        "    \n",
        "  def forward(self, x):\n",
        "    \"\"\"Estimate value given state\n",
        "\n",
        "      Args:\n",
        "          state (tensor): current state, size (batch x state_size)\n",
        "\n",
        "      Returns:\n",
        "          value (tensor): estimated value, size (batch)\n",
        "    \"\"\"\n",
        "    return self.net(x)"
      ],
      "execution_count": 0,
      "outputs": []
    },
    {
      "cell_type": "markdown",
      "metadata": {
        "id": "_aBD_R_e01Qb",
        "colab_type": "text"
      },
      "source": [
        "### Main"
      ]
    },
    {
      "cell_type": "code",
      "metadata": {
        "id": "qX_Bv4M4MyY2",
        "colab_type": "code",
        "colab": {}
      },
      "source": [
        "def ppo_main():\n",
        "  # Hyper parameters\n",
        "  lr = 1e-3\n",
        "  epochs = 20\n",
        "  env_samples = 100\n",
        "  gamma = 0.9\n",
        "  batch_size = 256\n",
        "  epsilon = 0.2\n",
        "  policy_epochs = 5\n",
        "\n",
        "  # Init environment \n",
        "  state_size = 4\n",
        "  action_size = 2\n",
        "  env = gym.make('CartPole-v1')\n",
        "\n",
        "  # Init networks\n",
        "  policy_network = PolicyNetwork(state_size, action_size).cuda()\n",
        "  value_network = ValueNetwork(state_size).cuda()\n",
        "\n",
        "  # Init optimizer\n",
        "  optim = torch.optim.Adam(chain(policy_network.parameters(), value_network.parameters()), lr=lr)\n",
        "\n",
        "  # Start main loop\n",
        "  results_ppo = []\n",
        "  loop = tqdm(total=epochs, position=0, leave=False)\n",
        "  for epoch in range(epochs):\n",
        "    \n",
        "    memory = []  # Reset memory every epoch\n",
        "    rewards = []  # Calculate average episodic reward per epoch\n",
        "\n",
        "    # Begin experience loop\n",
        "    for episode in range(env_samples):\n",
        "      \n",
        "      # Reset environment\n",
        "      state = env.reset()\n",
        "      done = False\n",
        "      rollout = []\n",
        "      cum_reward = 0  # Track cumulative reward\n",
        "\n",
        "      # Begin episode\n",
        "      while not done and cum_reward < 200:  # End after 200 steps   \n",
        "        # Get action\n",
        "        action, action_dist = get_action_ppo(policy_network, state)\n",
        "        \n",
        "        # Take step\n",
        "        next_state, reward, done, _ = env.step(action)\n",
        "        # env.render()\n",
        "\n",
        "        # Store step\n",
        "        rollout.append((state, action, action_dist, reward))\n",
        "\n",
        "        cum_reward += reward\n",
        "        state = next_state  # Set current state\n",
        "\n",
        "      # Calculate returns and add episode to memory\n",
        "      memory = calculate_return(memory, rollout, gamma)\n",
        "\n",
        "      rewards.append(cum_reward)\n",
        "      \n",
        "    # Train\n",
        "    dataset = RLDataset(memory)\n",
        "    loader = DataLoader(dataset, batch_size=batch_size, shuffle=True)\n",
        "    learn_ppo(optim, policy_network, value_network, loader, epsilon, policy_epochs)\n",
        "    \n",
        "    # Print results\n",
        "    results_ppo.extend(rewards)  # Store rewards for this epoch\n",
        "    loop.update(1)\n",
        "    loop.set_description(\"Epochs: {} Reward: {}\".format(epoch, results_ppo[-1]))\n",
        "\n",
        "  return results_ppo\n",
        "\n",
        "results_ppo = ppo_main()"
      ],
      "execution_count": 0,
      "outputs": []
    },
    {
      "cell_type": "code",
      "metadata": {
        "id": "pLXetCMpC1DE",
        "colab_type": "code",
        "colab": {}
      },
      "source": [
        "plt.plot(results_ppo)\n",
        "plt.show()"
      ],
      "execution_count": 0,
      "outputs": []
    }
  ]
}