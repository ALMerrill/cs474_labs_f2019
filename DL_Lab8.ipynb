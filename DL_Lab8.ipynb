{
  "nbformat": 4,
  "nbformat_minor": 0,
  "metadata": {
    "accelerator": "GPU",
    "colab": {
      "name": "2019-04-23 GAN Tutorial",
      "provenance": [],
      "collapsed_sections": [
        "jdh_P4DKoNup",
        "48JIxr6HoXH6"
      ],
      "include_colab_link": true
    },
    "kernelspec": {
      "display_name": "Python 3",
      "language": "python",
      "name": "python3"
    },
    "language_info": {
      "codemirror_mode": {
        "name": "ipython",
        "version": 3
      },
      "file_extension": ".py",
      "mimetype": "text/x-python",
      "name": "python",
      "nbconvert_exporter": "python",
      "pygments_lexer": "ipython3",
      "version": "3.6.8"
    }
  },
  "cells": [
    {
      "cell_type": "markdown",
      "metadata": {
        "id": "view-in-github",
        "colab_type": "text"
      },
      "source": [
        "<a href=\"https://colab.research.google.com/github/ALMerrill/cs474_labs_f2019/blob/master/DL_Lab8.ipynb\" target=\"_parent\"><img src=\"https://colab.research.google.com/assets/colab-badge.svg\" alt=\"Open In Colab\"/></a>"
      ]
    },
    {
      "cell_type": "markdown",
      "metadata": {
        "id": "PkXtrD8P6pD6",
        "colab_type": "text"
      },
      "source": [
        "<a \n",
        "href=\"https://colab.research.google.com/github/wingated/cs474_labs_f2019/blob/master/DL_Lab8.ipynb\"\n",
        "  target=\"_parent\">\n",
        "  <img\n",
        "    src=\"https://colab.research.google.com/assets/colab-badge.svg\"\n",
        "    alt=\"Open In Colab\"/>\n",
        "</a>"
      ]
    },
    {
      "cell_type": "markdown",
      "metadata": {
        "colab_type": "text",
        "id": "wZ0LzMZOovU7"
      },
      "source": [
        "# Lab 8: GANs\n",
        "\n",
        "### Description\n",
        "In this lab, we will build our very first GAN. This can be frustrating at first, but the end result is really cool. We've tried to make the steps intuitive.\n",
        "\n",
        "Here is what you will learn:\n",
        "* GANs are generative models that learn to generate data, based on a min-max/adversarial game between a Generator (G) and Discriminator (D).\n",
        "* The parameters of both Generator and Discriminator are optimized with Stochastic Gradient Descent (SGD) or RMSprop or Adam\n",
        "* How these concepts translate into pytorch code for GAN optimization.\n",
        "\n",
        "Overview of the tutorial:\n",
        "1. GAN intro\n",
        "2. Defining the neural networks in pytorch, computing a forward pass\n",
        "3. Training our GAN\n",
        "\n",
        "This lab is modified from https://github.com/tomsercu/gan-tutorial-pytorch\n",
        "\n",
        "### Deliverable\n",
        "We have provided the GAN architecture for you. Your objective is to:\n",
        "1. Create a DataLoader for the CelebA dataset.\n",
        "2. Create a Dataset and a DataLoader for a dataset from a domain of your choice.\n",
        "3. Implement the original GAN loss\n",
        "4. Implement the training loop and train your GAN.\n",
        "\n",
        "### Grading Standards\n",
        "- 25% correctly load CelebA dataset and a dataset of your choice\n",
        "- 25% correctly implement the original GAN loss\n",
        "- 50% correctly implement the training loop and train your GAN (you will not be graded on quality of generated images)\n",
        "\n",
        "### Tips:\n",
        "- This lab is complex. Please read through the entire spec before diving in.\n",
        "- Also, note that training on this dataset will likely take some time. Please make sure you start early enough to run the training long enough!"
      ]
    },
    {
      "cell_type": "markdown",
      "metadata": {
        "colab_type": "text",
        "id": "EgaXeH7xovU9"
      },
      "source": [
        "# Some cool demos:\n",
        "* Progress over the last 5 years, from [Ian Goodfellow tweet](https://twitter.com/goodfellow_ian/status/1084973596236144640)\n",
        "\n",
        "![tweet image](https://github.com/tomsercu/gan-tutorial-pytorch/blob/master/figs/goodfellow_tweet.jpg?raw=1)\n",
        "\n",
        "* CycleGAN translating horses into zebras: https://www.youtube.com/watch?v=9reHvktowLY\n",
        "* CycleGAN teaser: ![cyclegan teaser image](https://github.com/tomsercu/gan-tutorial-pytorch/blob/master/figs/cyclegan_teaser_high_res.jpg?raw=1)\n",
        "* High resolution faces with StyleGAN https://www.youtube.com/watch?v=kSLJriaOumA\n",
        "* https://ganbreeder.app web-interface to create images based on [BigGan](https://arxiv.org/abs/1809.11096)\n"
      ]
    },
    {
      "cell_type": "markdown",
      "metadata": {
        "colab_type": "text",
        "id": "bpsQeP_UovU-"
      },
      "source": [
        "# 1. GAN first introduction\n",
        "[GAN picture](figs/gan_xavigiro.png)\n",
        "\n",
        "<img src=\"https://github.com/tomsercu/gan-tutorial-pytorch/blob/master/figs/gan_xavigiro.png?raw=1\" alt=\"GAN picture\" style=\"width: 700px;\"/>\n",
        "\n",
        "GANs are a class of unsupervised generative models which implicitly model the data density.\n",
        "\n",
        "The basic setup is pictured above. There are two \"competing\" neural networks:\n",
        "* The Generator wants to learn to generate realistic images that are indistinguishable from the real data. \n",
        "    - *input*: Gaussian noise random sample. *output*: a (higher dimensional) datapoint\n",
        "* The Discriminator wants to tell the real & fake images apart.\n",
        "    - *input*: datapoint/image, *output*: probability assigned to datapoint being real. Think binary classifier.\n",
        "* The typical analogy: the generator is like a counterfeiter trying to look like real, the discriminator is the police trying to tell counterfeits from the real work.\n",
        "* The key novelty of GANs is to pass the error signal (gradients) from the discriminator to the generator: the generator neural network uses the information from the competing discriminator neural network to know how to produce more realistic output."
      ]
    },
    {
      "cell_type": "markdown",
      "metadata": {
        "colab_type": "text",
        "id": "t6lC4QGGovU_"
      },
      "source": [
        "Let's start with defining the generator G and discriminator D in pytorch."
      ]
    },
    {
      "cell_type": "markdown",
      "metadata": {
        "colab_type": "text",
        "id": "chwn67tnovVA"
      },
      "source": [
        "# 2. Define the Generator and Discriminator"
      ]
    },
    {
      "cell_type": "code",
      "metadata": {
        "colab_type": "code",
        "id": "ropMkTLTiWos",
        "outputId": "f468191b-744e-4c49-f1a0-d9240bc7652a",
        "colab": {
          "base_uri": "https://localhost:8080/",
          "height": 204
        }
      },
      "source": [
        "# !pip install \n",
        "!pip install torch==1.1.0\n",
        "!pip install torchvision==0.2.1\n",
        "import sys\n",
        "print(sys.version) # python 3.6\n",
        "import torch\n",
        "import torch.nn as nn\n",
        "import torchvision.datasets\n",
        "import torchvision.transforms as transforms\n",
        "import torch.nn.functional as F\n",
        "import torchvision.utils as vutils\n",
        "print(torch.__version__) \n",
        "\n",
        "%matplotlib inline\n",
        "import matplotlib.pyplot as plt\n",
        "import os, time\n",
        "\n",
        "import itertools\n",
        "import pickle\n",
        "import imageio\n",
        "import torch.optim as optim\n",
        "from torchvision import datasets, transforms\n",
        "from torch.autograd import Variable\n",
        "from tqdm import tqdm\n",
        "\n",
        "# You can use whatever display function you want. This is a really simple one that makes decent visualizations\n",
        "def show_imgs(x, new_fig=True):\n",
        "    grid = vutils.make_grid(x.detach().cpu(), nrow=8, normalize=True, pad_value=0.3)\n",
        "    grid = grid.transpose(0,2).transpose(0,1) # channels as last dimension\n",
        "    if new_fig:\n",
        "        plt.figure()\n",
        "    plt.imshow(grid.numpy())"
      ],
      "execution_count": 1,
      "outputs": [
        {
          "output_type": "stream",
          "text": [
            "Requirement already satisfied: torch==1.1.0 in /usr/local/lib/python3.6/dist-packages (1.1.0)\n",
            "Requirement already satisfied: numpy in /usr/local/lib/python3.6/dist-packages (from torch==1.1.0) (1.17.3)\n",
            "Requirement already satisfied: torchvision==0.2.1 in /usr/local/lib/python3.6/dist-packages (0.2.1)\n",
            "Requirement already satisfied: pillow>=4.1.1 in /usr/local/lib/python3.6/dist-packages (from torchvision==0.2.1) (4.3.0)\n",
            "Requirement already satisfied: six in /usr/local/lib/python3.6/dist-packages (from torchvision==0.2.1) (1.12.0)\n",
            "Requirement already satisfied: torch in /usr/local/lib/python3.6/dist-packages (from torchvision==0.2.1) (1.1.0)\n",
            "Requirement already satisfied: numpy in /usr/local/lib/python3.6/dist-packages (from torchvision==0.2.1) (1.17.3)\n",
            "Requirement already satisfied: olefile in /usr/local/lib/python3.6/dist-packages (from pillow>=4.1.1->torchvision==0.2.1) (0.46)\n",
            "3.6.8 (default, Oct  7 2019, 12:59:55) \n",
            "[GCC 8.3.0]\n",
            "1.1.0\n"
          ],
          "name": "stdout"
        }
      ]
    },
    {
      "cell_type": "markdown",
      "metadata": {
        "colab_type": "text",
        "id": "b-hYfkNhovVa"
      },
      "source": [
        "## Defining the neural networks"
      ]
    },
    {
      "cell_type": "code",
      "metadata": {
        "id": "akj-M8gr6pEl",
        "colab_type": "code",
        "colab": {}
      },
      "source": [
        "# helper function to initialize the weights using a normal distribution. \n",
        "# this was done in the original work (instead of xavier) and has been shown\n",
        "# to help GAN performance\n",
        "def normal_init(m, mean, std):\n",
        "    if isinstance(m, nn.ConvTranspose2d) or isinstance(m, nn.Conv2d):\n",
        "        m.weight.data.normal_(mean, std)\n",
        "        m.bias.data.zero_()"
      ],
      "execution_count": 0,
      "outputs": []
    },
    {
      "cell_type": "code",
      "metadata": {
        "id": "RFubzPlE6pEt",
        "colab_type": "code",
        "colab": {}
      },
      "source": [
        "class Generator(nn.Module):\n",
        "    # initializers\n",
        "    def __init__(self, d=128):\n",
        "        super().__init__()\n",
        "        self.deconv1 = nn.ConvTranspose2d(100, d*8, 4, 1, 0)\n",
        "        self.deconv1_bn = nn.BatchNorm2d(d*8)\n",
        "        self.deconv2 = nn.ConvTranspose2d(d*8, d*4, 4, 2, 1)\n",
        "        self.deconv2_bn = nn.BatchNorm2d(d*4)\n",
        "        self.deconv3 = nn.ConvTranspose2d(d*4, d*2, 4, 2, 1)\n",
        "        self.deconv3_bn = nn.BatchNorm2d(d*2)\n",
        "        self.deconv4 = nn.ConvTranspose2d(d*2, d, 4, 2, 1)\n",
        "        self.deconv4_bn = nn.BatchNorm2d(d)\n",
        "        self.deconv5 = nn.ConvTranspose2d(d, 3, 4, 2, 1)\n",
        "\n",
        "    # weight_init\n",
        "    def weight_init(self, mean, std):\n",
        "        for m in self._modules:\n",
        "            normal_init(self._modules[m], mean, std)\n",
        "\n",
        "    # forward method\n",
        "    def forward(self, x):\n",
        "        x = F.relu(self.deconv1_bn(self.deconv1(x)))\n",
        "        x = F.relu(self.deconv2_bn(self.deconv2(x)))\n",
        "        x = F.relu(self.deconv3_bn(self.deconv3(x)))\n",
        "        x = F.relu(self.deconv4_bn(self.deconv4(x)))\n",
        "        x = torch.tanh(self.deconv5(x))\n",
        "\n",
        "        return x"
      ],
      "execution_count": 0,
      "outputs": []
    },
    {
      "cell_type": "code",
      "metadata": {
        "id": "lsb4Qyhp6pE2",
        "colab_type": "code",
        "colab": {}
      },
      "source": [
        "class Discriminator(nn.Module):\n",
        "    # initializers\n",
        "    def __init__(self, d=128):\n",
        "        super().__init__()\n",
        "        self.conv1 = nn.Conv2d(3, d, 4, 2, 1)\n",
        "        self.conv2 = nn.Conv2d(d, d*2, 4, 2, 1)\n",
        "        self.conv2_bn = nn.BatchNorm2d(d*2)\n",
        "        self.conv3 = nn.Conv2d(d*2, d*4, 4, 2, 1)\n",
        "        self.conv3_bn = nn.BatchNorm2d(d*4)\n",
        "        self.conv4 = nn.Conv2d(d*4, d*8, 4, 2, 1)\n",
        "        self.conv4_bn = nn.BatchNorm2d(d*8)\n",
        "        self.conv5 = nn.Conv2d(d*8, 1, 4, 1, 0)\n",
        "\n",
        "    # weight_init\n",
        "    def weight_init(self, mean, std):\n",
        "        for m in self._modules:\n",
        "            normal_init(self._modules[m], mean, std)\n",
        "\n",
        "    # forward method\n",
        "    def forward(self, x):\n",
        "        x = F.leaky_relu(self.conv1(x), 0.2)\n",
        "        x = F.leaky_relu(self.conv2_bn(self.conv2(x)), 0.2)\n",
        "        x = F.leaky_relu(self.conv3_bn(self.conv3(x)), 0.2)\n",
        "        x = F.leaky_relu(self.conv4_bn(self.conv4(x)), 0.2)\n",
        "        x = torch.sigmoid(self.conv5(x))\n",
        "\n",
        "        return x"
      ],
      "execution_count": 0,
      "outputs": []
    },
    {
      "cell_type": "code",
      "metadata": {
        "colab_type": "code",
        "id": "oG5luAtAovVj",
        "outputId": "9a5c6b56-af8b-4133-d7b7-01141cecb519",
        "colab": {
          "base_uri": "https://localhost:8080/",
          "height": 374
        }
      },
      "source": [
        "#####\n",
        "# instantiate a Generator and Discriminator according to their class definition.\n",
        "#####\n",
        "D = Discriminator(d=128)\n",
        "G = Generator(d=128)\n",
        "\n",
        "print(D)\n",
        "print(G)"
      ],
      "execution_count": 6,
      "outputs": [
        {
          "output_type": "stream",
          "text": [
            "Discriminator(\n",
            "  (conv1): Conv2d(3, 128, kernel_size=(4, 4), stride=(2, 2), padding=(1, 1))\n",
            "  (conv2): Conv2d(128, 256, kernel_size=(4, 4), stride=(2, 2), padding=(1, 1))\n",
            "  (conv2_bn): BatchNorm2d(256, eps=1e-05, momentum=0.1, affine=True, track_running_stats=True)\n",
            "  (conv3): Conv2d(256, 512, kernel_size=(4, 4), stride=(2, 2), padding=(1, 1))\n",
            "  (conv3_bn): BatchNorm2d(512, eps=1e-05, momentum=0.1, affine=True, track_running_stats=True)\n",
            "  (conv4): Conv2d(512, 1024, kernel_size=(4, 4), stride=(2, 2), padding=(1, 1))\n",
            "  (conv4_bn): BatchNorm2d(1024, eps=1e-05, momentum=0.1, affine=True, track_running_stats=True)\n",
            "  (conv5): Conv2d(1024, 1, kernel_size=(4, 4), stride=(1, 1))\n",
            ")\n",
            "Generator(\n",
            "  (deconv1): ConvTranspose2d(100, 1024, kernel_size=(4, 4), stride=(1, 1))\n",
            "  (deconv1_bn): BatchNorm2d(1024, eps=1e-05, momentum=0.1, affine=True, track_running_stats=True)\n",
            "  (deconv2): ConvTranspose2d(1024, 512, kernel_size=(4, 4), stride=(2, 2), padding=(1, 1))\n",
            "  (deconv2_bn): BatchNorm2d(512, eps=1e-05, momentum=0.1, affine=True, track_running_stats=True)\n",
            "  (deconv3): ConvTranspose2d(512, 256, kernel_size=(4, 4), stride=(2, 2), padding=(1, 1))\n",
            "  (deconv3_bn): BatchNorm2d(256, eps=1e-05, momentum=0.1, affine=True, track_running_stats=True)\n",
            "  (deconv4): ConvTranspose2d(256, 128, kernel_size=(4, 4), stride=(2, 2), padding=(1, 1))\n",
            "  (deconv4_bn): BatchNorm2d(128, eps=1e-05, momentum=0.1, affine=True, track_running_stats=True)\n",
            "  (deconv5): ConvTranspose2d(128, 3, kernel_size=(4, 4), stride=(2, 2), padding=(1, 1))\n",
            ")\n"
          ],
          "name": "stdout"
        }
      ]
    },
    {
      "cell_type": "markdown",
      "metadata": {
        "colab_type": "text",
        "id": "2Euy222dovVn"
      },
      "source": [
        "## Testing the neural networks (forward pass)"
      ]
    },
    {
      "cell_type": "code",
      "metadata": {
        "colab_type": "code",
        "id": "8bIg2qa3ovVo",
        "outputId": "7ab5054c-d900-45df-9586-2c75dd35f037",
        "colab": {
          "base_uri": "https://localhost:8080/",
          "height": 238
        }
      },
      "source": [
        "samples = torch.randn(5, 3, 64,64) # batch size x channels x width x height\n",
        "D(samples)"
      ],
      "execution_count": 7,
      "outputs": [
        {
          "output_type": "execute_result",
          "data": {
            "text/plain": [
              "tensor([[[[0.5315]]],\n",
              "\n",
              "\n",
              "        [[[0.4617]]],\n",
              "\n",
              "\n",
              "        [[[0.5586]]],\n",
              "\n",
              "\n",
              "        [[[0.5483]]],\n",
              "\n",
              "\n",
              "        [[[0.5510]]]], grad_fn=<SigmoidBackward>)"
            ]
          },
          "metadata": {
            "tags": []
          },
          "execution_count": 7
        }
      ]
    },
    {
      "cell_type": "markdown",
      "metadata": {
        "colab_type": "text",
        "id": "DW0O23RrovVr"
      },
      "source": [
        "Things to try:\n",
        "* What happens if you change the number of samples in a batch?\n",
        "* What happens if you change the width/height of the input?\n",
        "* What are the weights of the discriminator? You can get an iterator over them with `.parameters()` and `.named_parameters()`"
      ]
    },
    {
      "cell_type": "code",
      "metadata": {
        "colab_type": "code",
        "id": "rpe3XrM-ovVs",
        "outputId": "e583a75a-a4dc-4d56-e180-803381f00a29",
        "colab": {
          "base_uri": "https://localhost:8080/",
          "height": 289
        }
      },
      "source": [
        "for name, p in D.named_parameters():\n",
        "    print(name, p.shape)"
      ],
      "execution_count": 8,
      "outputs": [
        {
          "output_type": "stream",
          "text": [
            "conv1.weight torch.Size([128, 3, 4, 4])\n",
            "conv1.bias torch.Size([128])\n",
            "conv2.weight torch.Size([256, 128, 4, 4])\n",
            "conv2.bias torch.Size([256])\n",
            "conv2_bn.weight torch.Size([256])\n",
            "conv2_bn.bias torch.Size([256])\n",
            "conv3.weight torch.Size([512, 256, 4, 4])\n",
            "conv3.bias torch.Size([512])\n",
            "conv3_bn.weight torch.Size([512])\n",
            "conv3_bn.bias torch.Size([512])\n",
            "conv4.weight torch.Size([1024, 512, 4, 4])\n",
            "conv4.bias torch.Size([1024])\n",
            "conv4_bn.weight torch.Size([1024])\n",
            "conv4_bn.bias torch.Size([1024])\n",
            "conv5.weight torch.Size([1, 1024, 4, 4])\n",
            "conv5.bias torch.Size([1])\n"
          ],
          "name": "stdout"
        }
      ]
    },
    {
      "cell_type": "markdown",
      "metadata": {
        "colab_type": "text",
        "id": "HQVU-lFfovVv"
      },
      "source": [
        "We will think of the concatentation of all these discriminator weights in one big vector as $\\theta_D$.\n",
        "\n",
        "Similarly we name the concatentation of all the generator weights in one big vector $\\theta_G$."
      ]
    },
    {
      "cell_type": "code",
      "metadata": {
        "colab_type": "code",
        "id": "bTI-wisrovVv",
        "outputId": "6ce0c248-4c3b-4181-91b8-f56226a8082c",
        "colab": {
          "base_uri": "https://localhost:8080/",
          "height": 323
        }
      },
      "source": [
        "for name, p in G.named_parameters():\n",
        "    print(name, p.shape)"
      ],
      "execution_count": 9,
      "outputs": [
        {
          "output_type": "stream",
          "text": [
            "deconv1.weight torch.Size([100, 1024, 4, 4])\n",
            "deconv1.bias torch.Size([1024])\n",
            "deconv1_bn.weight torch.Size([1024])\n",
            "deconv1_bn.bias torch.Size([1024])\n",
            "deconv2.weight torch.Size([1024, 512, 4, 4])\n",
            "deconv2.bias torch.Size([512])\n",
            "deconv2_bn.weight torch.Size([512])\n",
            "deconv2_bn.bias torch.Size([512])\n",
            "deconv3.weight torch.Size([512, 256, 4, 4])\n",
            "deconv3.bias torch.Size([256])\n",
            "deconv3_bn.weight torch.Size([256])\n",
            "deconv3_bn.bias torch.Size([256])\n",
            "deconv4.weight torch.Size([256, 128, 4, 4])\n",
            "deconv4.bias torch.Size([128])\n",
            "deconv4_bn.weight torch.Size([128])\n",
            "deconv4_bn.bias torch.Size([128])\n",
            "deconv5.weight torch.Size([128, 3, 4, 4])\n",
            "deconv5.bias torch.Size([3])\n"
          ],
          "name": "stdout"
        }
      ]
    },
    {
      "cell_type": "code",
      "metadata": {
        "colab_type": "code",
        "id": "n1ZQfC5QovVy",
        "outputId": "ca3fd6f8-682a-4577-f3da-1ea1e4a351e9",
        "colab": {
          "base_uri": "https://localhost:8080/",
          "height": 34
        }
      },
      "source": [
        "# A small batch of 2 samples, random noise.\n",
        "z = torch.randn(2, 100).view(-1,100,1,1)\n",
        "x_gen = G(z)\n",
        "#notice that the generated value is a batch of 2 images\n",
        "x_gen.shape"
      ],
      "execution_count": 10,
      "outputs": [
        {
          "output_type": "execute_result",
          "data": {
            "text/plain": [
              "torch.Size([2, 3, 64, 64])"
            ]
          },
          "metadata": {
            "tags": []
          },
          "execution_count": 10
        }
      ]
    },
    {
      "cell_type": "code",
      "metadata": {
        "colab_type": "code",
        "id": "Xe74RX_NovV1",
        "outputId": "54467b5f-6ffb-49fc-c54f-83d4c97c3ac8",
        "colab": {
          "base_uri": "https://localhost:8080/",
          "height": 95
        }
      },
      "source": [
        "z = torch.randn(8, 100).view(-1,100,1,1).cuda()\n",
        "G = G.cuda()\n",
        "show_imgs(G(z))"
      ],
      "execution_count": 11,
      "outputs": [
        {
          "output_type": "display_data",
          "data": {
            "image/png": "[encoded data removed]",
            "text/plain": [
              "<Figure size 432x288 with 1 Axes>"
            ]
          },
          "metadata": {
            "tags": []
          }
        }
      ]
    },
    {
      "cell_type": "markdown",
      "metadata": {
        "id": "3hop_Wgr6pF1",
        "colab_type": "text"
      },
      "source": [
        "In traditional deep learning, you measure performance by looking at the loss value. In GANs, this does not work well because we are performing a Min-Max and the loss values may not be intuitively lower when the network is doing well. \n",
        "\n",
        "So, performance must be measured qualitatively, by looking at images. Therefore, you can sample random $z$ vectors every pass through the network to see how \"novel\" the generation is becoming. And you can also sample a single $z$ vector that is passed through the network every time to see how a single example progresses during training. "
      ]
    },
    {
      "cell_type": "code",
      "metadata": {
        "id": "ziFuTjmY6pF3",
        "colab_type": "code",
        "colab": {}
      },
      "source": [
        "fixed_z_ = torch.randn((5 * 5, 100)).view(-1, 100, 1, 1)    # fixed noise\n",
        "fixed_z_ = Variable(fixed_z_.cuda(), requires_grad=False)"
      ],
      "execution_count": 0,
      "outputs": []
    },
    {
      "cell_type": "markdown",
      "metadata": {
        "colab_type": "text",
        "id": "VSW1QgXzovV5"
      },
      "source": [
        "## Loading the data and computing forward pass"
      ]
    },
    {
      "cell_type": "code",
      "metadata": {
        "id": "-mgeCL2863Du",
        "colab_type": "code",
        "outputId": "dea766aa-073b-4c7d-96f8-f262106b1f47",
        "colab": {
          "base_uri": "https://localhost:8080/",
          "height": 199
        }
      },
      "source": [
        "!wget https://gist.github.com/charlesreid1/4f3d676b33b95fce83af08e4ec261822/archive/4ec8b6b6f306a70fc229d01404ded90162f56a82.zip\n",
        "!cp /content/4f3d676b33b95fce83af08e4ec261822-4ec8b6b6f306a70fc229d01404ded90162f56a82/get_drive_file.py /content/\n",
        "!python3 /content/get_drive_file.py 0B7EVK8r0v71pZjFTYXZWM3FlRnM celebA.zip\n",
        "!unzip celebA.zip"
      ],
      "execution_count": 0,
      "outputs": [
        {
          "output_type": "error",
          "ename": "TypeError",
          "evalue": "ignored",
          "traceback": [
            "\u001b[0;31m---------------------------------------------------------------------------\u001b[0m",
            "\u001b[0;31mTypeError\u001b[0m                                 Traceback (most recent call last)",
            "\u001b[0;32m<ipython-input-34-33f1c59aa910>\u001b[0m in \u001b[0;36m<module>\u001b[0;34m()\u001b[0m\n\u001b[1;32m      1\u001b[0m \u001b[0;34m\u001b[0m\u001b[0m\n\u001b[0;32m----> 2\u001b[0;31m \u001b[0mdataset\u001b[0m \u001b[0;34m=\u001b[0m \u001b[0mtorchvision\u001b[0m\u001b[0;34m.\u001b[0m\u001b[0mdatasets\u001b[0m\u001b[0;34m.\u001b[0m\u001b[0mceleba\u001b[0m\u001b[0;34m.\u001b[0m\u001b[0mdownload_file_from_google_drive\u001b[0m\u001b[0;34m(\u001b[0m\u001b[0;34m)\u001b[0m\u001b[0;34m\u001b[0m\u001b[0;34m\u001b[0m\u001b[0m\n\u001b[0m\u001b[1;32m      3\u001b[0m \u001b[0mprint\u001b[0m\u001b[0;34m(\u001b[0m\u001b[0mdataset\u001b[0m\u001b[0;34m)\u001b[0m\u001b[0;34m\u001b[0m\u001b[0;34m\u001b[0m\u001b[0m\n",
            "\u001b[0;31mTypeError\u001b[0m: download_file_from_google_drive() missing 2 required positional arguments: 'file_id' and 'root'"
          ]
        }
      ]
    },
    {
      "cell_type": "code",
      "metadata": {
        "colab_type": "code",
        "id": "PH8zthzBhjKS",
        "outputId": "90ea60a2-295a-4715-9479-ecce3aa96d7b",
        "colab": {
          "base_uri": "https://localhost:8080/",
          "height": 234
        }
      },
      "source": [
        "batch_size = 128\n",
        "lr = 0.0002\n",
        "train_epoch = 3\n",
        "\n",
        "img_size = 64\n",
        "\n",
        "\n",
        "#download the data, and change the filepath\n",
        "dataset = datasets.ImageFolder(root='/content',\n",
        "                           transform=transforms.Compose([\n",
        "                               transforms.Resize(img_size),\n",
        "                               transforms.CenterCrop(img_size),\n",
        "                               transforms.ToTensor(),\n",
        "                               transforms.Normalize((0.5, 0.5, 0.5), (0.5, 0.5, 0.5)),\n",
        "                           ]))\n",
        "##### Create the dataloader #####\n",
        "dataloader = torch.utils.data.DataLoader(dataset, batch_size=8, shuffle=True)\n",
        "\n",
        "import sys\n",
        "for image, label in dataloader:\n",
        "  show_imgs(image)\n",
        "  sys.exit()"
      ],
      "execution_count": 0,
      "outputs": [
        {
          "output_type": "error",
          "ename": "NameError",
          "evalue": "ignored",
          "traceback": [
            "\u001b[0;31m---------------------------------------------------------------------------\u001b[0m",
            "\u001b[0;31mNameError\u001b[0m                                 Traceback (most recent call last)",
            "\u001b[0;32m<ipython-input-1-3df1c0f53cb0>\u001b[0m in \u001b[0;36m<module>\u001b[0;34m()\u001b[0m\n\u001b[1;32m      7\u001b[0m \u001b[0;34m\u001b[0m\u001b[0m\n\u001b[1;32m      8\u001b[0m \u001b[0;31m#download the data, and change the filepath\u001b[0m\u001b[0;34m\u001b[0m\u001b[0;34m\u001b[0m\u001b[0;34m\u001b[0m\u001b[0m\n\u001b[0;32m----> 9\u001b[0;31m dataset = datasets.ImageFolder(root='/content',\n\u001b[0m\u001b[1;32m     10\u001b[0m                            transform=transforms.Compose([\n\u001b[1;32m     11\u001b[0m                                \u001b[0mtransforms\u001b[0m\u001b[0;34m.\u001b[0m\u001b[0mResize\u001b[0m\u001b[0;34m(\u001b[0m\u001b[0mimg_size\u001b[0m\u001b[0;34m)\u001b[0m\u001b[0;34m,\u001b[0m\u001b[0;34m\u001b[0m\u001b[0;34m\u001b[0m\u001b[0m\n",
            "\u001b[0;31mNameError\u001b[0m: name 'datasets' is not defined"
          ]
        }
      ]
    },
    {
      "cell_type": "markdown",
      "metadata": {
        "colab_type": "text",
        "id": "CNjVlTt87ou1"
      },
      "source": [
        "Dataset and DataLoader are abstractions to help us iterate over the data in random order."
      ]
    },
    {
      "cell_type": "markdown",
      "metadata": {
        "colab_type": "text",
        "id": "psv8UbSHovWC"
      },
      "source": [
        "Let's look at a sample:"
      ]
    },
    {
      "cell_type": "code",
      "metadata": {
        "colab_type": "code",
        "id": "NDLdYxtaovWD",
        "outputId": "d5bfaddd-59b1-44d2-9f01-4385f655c44a",
        "colab": {}
      },
      "source": [
        "ix=140\n",
        "x, _ = dataset[ix]\n",
        "show_imgs(x)"
      ],
      "execution_count": 0,
      "outputs": [
        {
          "output_type": "display_data",
          "data": {
            "image/png": "[encoded data removed]",
            "text/plain": [
              "<Figure size 432x288 with 1 Axes>"
            ]
          },
          "metadata": {
            "tags": [],
            "needs_background": "light"
          }
        }
      ]
    },
    {
      "cell_type": "markdown",
      "metadata": {
        "colab_type": "text",
        "id": "Cj7SV1mIovWH"
      },
      "source": [
        "Feed the image into the discriminator; the output will be the probability the (untrained) discriminator assigns to this sample being real."
      ]
    },
    {
      "cell_type": "code",
      "metadata": {
        "colab_type": "code",
        "id": "wz6TWkdQovWI",
        "outputId": "52514e52-892b-4e10-b652-1afb4c506c11",
        "colab": {}
      },
      "source": [
        "# for one image:\n",
        "Dscore = D(x.unsqueeze(0))\n",
        "Dscore"
      ],
      "execution_count": 0,
      "outputs": [
        {
          "output_type": "execute_result",
          "data": {
            "text/plain": [
              "tensor([[[[0.5345]]]], grad_fn=<SigmoidBackward>)"
            ]
          },
          "metadata": {
            "tags": []
          },
          "execution_count": 14
        }
      ]
    },
    {
      "cell_type": "code",
      "metadata": {
        "colab_type": "code",
        "id": "-ZSsBWkFovWL",
        "outputId": "8a10b799-4114-4b36-9a43-5014f683eafa",
        "colab": {}
      },
      "source": [
        "# How you can get a batch of images from the dataloader:\n",
        "xbatch, _ = iter(train_loader).next()\n",
        "xbatch.shape\n",
        "D(xbatch)\n",
        "D(xbatch).shape"
      ],
      "execution_count": 0,
      "outputs": [
        {
          "output_type": "execute_result",
          "data": {
            "text/plain": [
              "torch.Size([128, 1, 1, 1])"
            ]
          },
          "metadata": {
            "tags": []
          },
          "execution_count": 15
        }
      ]
    },
    {
      "cell_type": "code",
      "metadata": {
        "colab_type": "code",
        "id": "FB-RhcpMovWP",
        "scrolled": true,
        "outputId": "b371cef3-3a23-4df6-d9f5-572eeb06cbf1",
        "colab": {}
      },
      "source": [
        "show_imgs(xbatch)"
      ],
      "execution_count": 0,
      "outputs": [
        {
          "output_type": "display_data",
          "data": {
            "image/png": "[encoded data removed]",
            "text/plain": [
              "<Figure size 432x288 with 1 Axes>"
            ]
          },
          "metadata": {
            "tags": [],
            "needs_background": "light"
          }
        }
      ]
    },
    {
      "cell_type": "markdown",
      "metadata": {
        "colab_type": "text",
        "id": "ubu2EGhqovW9"
      },
      "source": [
        "# 3. Now to train your GAN"
      ]
    },
    {
      "cell_type": "markdown",
      "metadata": {
        "colab_type": "text",
        "id": "kDSCUcNuovXA"
      },
      "source": [
        "We introduced and defined the generator G, the discriminator D, and the dataloader which will give us minibatches of real data. \n",
        "\n",
        "To recap the basic idea of the min-max / adversarial game:\n",
        "* The Generator and Discriminator have competing objectives, they are \"adversaries\".\n",
        "* The Discriminator wants to assign high probability to real images and low probability to generated (fake) images\n",
        "* The Generator wants its generated images to look real, so wants to modify its outputs to get high scores from the Discriminator\n",
        "* We will optimize both alternatingly, with SGD steps (as before): optimize $\\theta_D$ the weights of $D(x, \\theta_D)$, and  $\\theta_G$ the weights of $G(z, \\theta_G)$.\n",
        "* Final goal of the whole min-max game is for the Generator to match the data distribution: $p_G(x) \\approx p_{data}(x)$.\n",
        "\n",
        "\n",
        "Now what are the objective functions for each of them? As mentioned in the introduction, the objective for the discriminator is to classify the real images as real, so $D(x) = 1$, and the fake images as fake, so $D(G(z))=0$.\n",
        "This is a typical binary classification problem which calls for the binary cross-entropy (BCE) loss, which encourages exactly this solution.\n",
        "\n",
        "For G we just try to minimize the same loss that D maximizes. See how G appears inside D? This shows how the output of the generator G is passed into the Discriminator to compute the loss.\n",
        "\n",
        "\n",
        "This is the optimization problem:\n",
        "\n",
        "$$\n",
        "\\min _{G} \\max _{D} V(D, G)=\\mathbb{E}_{\\boldsymbol{x} \\sim p_{\\text { data }}(\\boldsymbol{x})}[\\log D(\\boldsymbol{x})]+\\mathbb{E}_{\\boldsymbol{z} \\sim p_{\\boldsymbol{z}}(\\boldsymbol{z})}[\\log (1-D(G(\\boldsymbol{z})))]\n",
        "$$\n",
        "\n",
        "We will do a single SGD step alternatingly to maximize D, then minimize G.\n",
        "In fact for G we use a modified (non-saturing) loss $-\\log D(G(z))$. Different modifications of the loss and the relation to the distance between distributions $p_{data}$ and $p_{G}$ became a topic of research over the last years.\n",
        "\n",
        "BCE takes care of the log, you won't manually compute any Log values\n"
      ]
    },
    {
      "cell_type": "code",
      "metadata": {
        "colab_type": "code",
        "id": "m0T6wOdzovXA",
        "colab": {}
      },
      "source": [
        "G = Generator(128)\n",
        "D = Discriminator(128)\n",
        "G.weight_init(mean=0.0, std=0.02)\n",
        "D.weight_init(mean=0.0, std=0.02)\n",
        "G = G.cuda()\n",
        "D = D.cuda()\n",
        "\n",
        "# Binary Cross Entropy loss\n",
        "BCE_loss = nn.BCELoss()\n",
        "\n",
        "# Adam optimizer\n",
        "G_optimizer = optim.Adam(G.parameters(), lr=lr, betas=(0.5, 0.999))\n",
        "D_optimizer = optim.Adam(D.parameters(), lr=lr, betas=(0.5, 0.999))"
      ],
      "execution_count": 0,
      "outputs": []
    },
    {
      "cell_type": "code",
      "metadata": {
        "colab_type": "code",
        "id": "-zEA4XXpovXN",
        "outputId": "72c970bb-8d80-4bcd-8f15-26460542c911",
        "colab": {}
      },
      "source": [
        "num_iter = 0\n",
        "collect_x_gen = []\n",
        "for epoch in range(train_epoch):\n",
        "    D_losses = []\n",
        "    G_losses = []\n",
        "    epoch_start_time = time.time()\n",
        "    loop = tqdm(train_loader)\n",
        "    for x_, _ in loop:\n",
        "        # train discriminator D\n",
        "        D.zero_grad()\n",
        "\n",
        "        mini_batch = x_.size()[0]\n",
        "\n",
        "        #####\n",
        "        # create y_real_ and y_fake_ tensors you will use in your BCE loss to push probabilities \n",
        "        # in the proper direction\n",
        "        # y_real_ will be a tensor of all ones, because you want whatever is output by the generator\n",
        "        # to be more likely to be real and you want the discriminator to recognize real images\n",
        "        # y_fake_ then is a tensor of all zeros, because you want the discriminator to recognize fake images\n",
        "        #####\n",
        "        z_vecs = torch.randn(mini_batch, 100).view(-1, 100, 1, 1)\n",
        "        y_real_ = torch.ones(x_.shape)\n",
        "        y_fake_ = torch.zeros(mini_batch)\n",
        "\n",
        "        x_, y_real_, y_fake_ = Variable(x_.cuda()), Variable(y_real_.cuda()), Variable(y_fake_.cuda())\n",
        "        \n",
        "        #####\n",
        "        # pass x_ through the decoder to get D_result\n",
        "        # you will need to squeeze() the output before passing it to BCE_loss\n",
        "        # compute D_real_loss using BCE_loss and the proper y tensor from above\n",
        "        # you are trying to make the discriminator recognize the real image properly\n",
        "        #####\n",
        "        D_result_real = D(x_)\n",
        "        D_real_loss = BCE_loss(D_result_real.squeeze(), y_real_)\n",
        "\n",
        "        #####\n",
        "        # sample a z vector (remember to view(-1,100,1,1))\n",
        "        # pass the z vector to the GPU and through your generator\n",
        "        # this will create G_result\n",
        "        #####\n",
        "        z_vecs = z_vecs.cuda()\n",
        "        G_result = G(z_vecs)\n",
        "\n",
        "\n",
        "        #####\n",
        "        # pass G_result through the discriminator and get D_result\n",
        "        # you will need to squeeze() the output of the discriminator\n",
        "        # compute D_fake_loss for the generated images by using BCE_loss and the proper y_tensor\n",
        "        # you are trying to make the discriminator recognize the fake image properly\n",
        "        # reduce D_fake_loss to the mean value\n",
        "        #####\n",
        "        D_result_fake = D(G_result)\n",
        "        D_fake_loss = BCE_loss(D_result_fake.squeeze(), y_fake_)\n",
        "\n",
        "\n",
        "        #####\n",
        "        # sum D_real_loss and D_fake_loss to get D_train_loss\n",
        "        # compute the gradients\n",
        "        # step the optimizer\n",
        "        #####\n",
        "        D_train_loss = D_real_loss + D_fake_loss\n",
        "        D_train_loss.backward()\n",
        "        D_optimizer.step()\n",
        "\n",
        "        D_losses.append(D_train_loss.item())\n",
        "\n",
        "        # train generator G\n",
        "        G.zero_grad()\n",
        "\n",
        "        #####\n",
        "        # sample a z vector (viewed properly) and pass it to the GPU and through the generator\n",
        "        # compute the discriminated value of the generated image, properly squeezing the output\n",
        "        # get G_train_loss by using BCE_loss and the proper y_tensor\n",
        "        # you are trying to make the generator generate real images\n",
        "        # compute the gradients\n",
        "        # step the optimizer\n",
        "        #####\n",
        "        gen_z_vecs = torch.randn(mini_batch, 100).view(-1, 100, 1, 1).cuda()\n",
        "        D_result = D(G(gen_z_vecs).squeeze())\n",
        "        G_train_loss = BCE_loss(D_result, y_fake_)\n",
        "        G_train_loss.backward()\n",
        "        G_optimizer.step()\n",
        "\n",
        "        loop.set_description('D_real_loss: {}, D_fake_loss: {}, G_loss: {}'.format(D_fake_loss, D_real_loss, G_train_loss))\n",
        "\n",
        "\n",
        "        G_losses.append(G_train_loss.item())\n",
        "\n",
        "        num_iter += 1\n",
        "\n",
        "    # generate a fixed_z_ image and save\n",
        "    x_gen = G(fixed_z_)\n",
        "    collect_x_gen.append(x_gen.detach().clone())\n",
        "    epoch_end_time = time.time()\n",
        "    per_epoch_ptime = epoch_end_time - epoch_start_time\n",
        "\n",
        "    # print out statistics\n",
        "    print('[%d/%d] - ptime: %.2f, loss_d: %.3f, loss_g: %.3f' % ((epoch + 1), train_epoch, per_epoch_ptime, torch.mean(torch.FloatTensor(D_losses)),\n",
        "                                                              torch.mean(torch.FloatTensor(G_losses))))\n",
        "    show_imgs(G_result[:4])"
      ],
      "execution_count": 0,
      "outputs": [
        {
          "output_type": "stream",
          "text": [
            "100%|██████████| 1583/1583 [18:15<00:00,  1.52it/s]\n",
            "  0%|          | 0/1583 [00:00<?, ?it/s]"
          ],
          "name": "stderr"
        },
        {
          "output_type": "stream",
          "text": [
            "[1/3] - ptime: 1095.79, loss_d: 0.749, loss_g: 5.133\n"
          ],
          "name": "stdout"
        },
        {
          "output_type": "stream",
          "text": [
            "100%|██████████| 1583/1583 [18:19<00:00,  1.48it/s]\n",
            "  0%|          | 0/1583 [00:00<?, ?it/s]"
          ],
          "name": "stderr"
        },
        {
          "output_type": "stream",
          "text": [
            "[2/3] - ptime: 1099.37, loss_d: 0.746, loss_g: 3.134\n"
          ],
          "name": "stdout"
        },
        {
          "output_type": "stream",
          "text": [
            "  3%|▎         | 48/1583 [00:34<17:58,  1.42it/s]"
          ],
          "name": "stderr"
        }
      ]
    },
    {
      "cell_type": "code",
      "metadata": {
        "colab_type": "code",
        "id": "B_sv-T1IovXO",
        "scrolled": false,
        "colab": {}
      },
      "source": [
        "for x_gen in collect_x_gen:\n",
        "    show_imgs(x_gen)"
      ],
      "execution_count": 0,
      "outputs": []
    },
    {
      "cell_type": "markdown",
      "metadata": {
        "id": "nppkZ6ai6pGy",
        "colab_type": "text"
      },
      "source": [
        "Now generate something with your own dataset! (Fashion, Mnist, Coco, Bedrooms, Pokemon)"
      ]
    },
    {
      "cell_type": "code",
      "metadata": {
        "id": "cwNf_fGp6pGz",
        "colab_type": "code",
        "colab": {}
      },
      "source": [
        ""
      ],
      "execution_count": 0,
      "outputs": []
    },
    {
      "cell_type": "markdown",
      "metadata": {
        "colab_type": "text",
        "id": "F1ar66RnovXQ"
      },
      "source": [
        "# A demo of a state of the art GAN and \"painting\" with them in your browser:\n",
        "\n",
        "https://gandissect.csail.mit.edu\n",
        "\n",
        "By our colleagues at the MIT-IBM Watson AI Lab.\n"
      ]
    },
    {
      "cell_type": "markdown",
      "metadata": {
        "colab_type": "text",
        "id": "j5iUTOD4ovXR"
      },
      "source": [
        "# Where to go from here\n",
        "* Use a more exciting datasets - check out [the pytorch torchvision.datasets](https://pytorch.org/docs/stable/torchvision/datasets.html) to get started quickly.\n",
        "* The [original GAN paper](https://papers.nips.cc/paper/5423-generative-adversarial-nets)\n",
        "* The [DCGAN paper](https://arxiv.org/abs/1511.06434) which made it all work much better for images. Start from: pytorch DCGAN [example](https://github.com/pytorch/examples/blob/master/dcgan/main.py) and [tutorial](https://pytorch.org/tutorials/beginner/dcgan_faces_tutorial.html)\n",
        "* Newer generations of loss functions measure different distances between distributions $p_{data}$ and $p_G$. For example [WGAN](https://github.com/martinarjovsky/WassersteinGAN), [WGAN-GP](https://arxiv.org/abs/1704.00028), [Fisher GAN](https://arxiv.org/abs/1705.09675), [Sobolev GAN](https://arxiv.org/abs/1711.04894), many more. They often have better stability properties wrt the original GAN loss.\n",
        "\n",
        "# References for this tutorial\n",
        "* pytorch DCGAN [example](https://github.com/pytorch/examples/blob/master/dcgan/main.py) and [tutorial](https://pytorch.org/tutorials/beginner/dcgan_faces_tutorial.html) by Nathan Inkawhich\n",
        "* [Medium blog post](https://medium.com/ai-society/gans-from-scratch-1-a-deep-introduction-with-code-in-pytorch-and-tensorflow-cb03cdcdba0f) by Diego Gomez Mosquera\n",
        "* [Material made for ITDS course at CUNY](https://github.com/grantmlong/itds2019/blob/master/lecture-6/DL_lab_solutions.ipynb) by Tom Sercu (that's me!)\n",
        "* [Blog post](https://towardsdatascience.com/graduating-in-gans-going-from-understanding-generative-adversarial-networks-to-running-your-own-39804c283399) by Cecelia Shao\n",
        "* [GAN overview image](https://www.slideshare.net/xavigiro/deep-learning-for-computer-vision-generative-models-and-adversarial-training-upc-2016) from Xavier Giro"
      ]
    }
  ]
}