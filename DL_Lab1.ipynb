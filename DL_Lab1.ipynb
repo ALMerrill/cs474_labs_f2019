{
  "nbformat": 4,
  "nbformat_minor": 0,
  "metadata": {
    "colab": {
      "name": "DL_Lab1.ipynb",
      "version": "0.3.2",
      "provenance": [],
      "collapsed_sections": [],
      "include_colab_link": true
    },
    "kernelspec": {
      "display_name": "Python 3",
      "language": "python",
      "name": "python3"
    },
    "language_info": {
      "codemirror_mode": {
        "name": "ipython",
        "version": 3
      },
      "file_extension": ".py",
      "mimetype": "text/x-python",
      "name": "python",
      "nbconvert_exporter": "python",
      "pygments_lexer": "ipython3",
      "version": "3.6.3"
    },
    "pycharm": {
      "stem_cell": {
        "cell_type": "raw",
        "metadata": {
          "collapsed": false
        },
        "source": []
      }
    }
  },
  "cells": [
    {
      "cell_type": "markdown",
      "metadata": {
        "id": "view-in-github",
        "colab_type": "text"
      },
      "source": [
        "<a href=\"https://colab.research.google.com/github/ALMerrill/cs474_labs_f2019/blob/master/DL_Lab1.ipynb\" target=\"_parent\"><img src=\"https://colab.research.google.com/assets/colab-badge.svg\" alt=\"Open In Colab\"/></a>"
      ]
    },
    {
      "cell_type": "markdown",
      "metadata": {
        "colab_type": "text",
        "id": "bkj1_ftQtuBk"
      },
      "source": [
        "# Lab 1: Getting Started\n",
        "\n",
        "## Objective  \n",
        "Get started with colab and python. Begin producing simple visualizations of data and images.\n",
        "\n",
        "## Deliverable\n",
        "For this lab, you will submit a colab notebook via GitHub Classroom. This notebook consists of two parts.\n",
        "\n",
        "___\n",
        "\n",
        "### Grading\n",
        "Your notebook will be graded on the following:\n",
        "* 20% Successfully turning in a notebook with working code\n",
        "* 35% Random image with 50 random elements\n",
        "* 35% Image indicating tensorflow success\n",
        "* 10% Tidy and legible figures, (for the future make sure to label axes where appropriate)\n",
        "\n",
        "___\n",
        "\n",
        "### Details\n",
        "Throughout this class, we will be using Google's colab environment to \n",
        "develop and test our deep neural networks. \n",
        "This consists of ipython notebooks and a standardized python distribution. \n",
        "For this lab, you must create a google account (or use one you already have), \n",
        "start up colab, and write a simple python program in it.\n",
        "\n",
        "As described above, the notebook should do two things: \n",
        "1) generate simple random images, and \n",
        "2) display an image that you generate using the Tensorflow playground.\n",
        "\n",
        "For part 1, you can generate any sort of random image that you want – \n",
        "consider random lines, random curves, random text, etc. \n",
        "Each time the program is run, it should generate a different random image. \n",
        "Your image should have at least 50 random elements \n",
        "(they can all be the same type, such as random lines, and can be created in a loop). \n",
        "We won't count the number of elements; this is just to encourage you to create \n",
        "random images with moderate complexity (ie, you can't just generate randomly colored pixels, \n",
        "as in the example below).\n",
        "\n",
        "For part 2, you should visit the Tensorflow playground (see link above),\n",
        "and play with different settings. Most of it will be unfamiliar,\n",
        "but don't worry – you can't break it!\n",
        "\n",
        "Once you have a working classifier, take a screenshot. \n",
        "Then use your colab notebook to display that image in-line.\n",
        "___\n",
        "### Part 1\n",
        "\n",
        "Your notebook should generate a random image. We will run this notebook 5 times; it should generate 5 different, moderately complex images. Each image should be 512 x 288. Have fun with it!\n",
        "\n",
        "The resulting image could for example something like this:\n",
        "![](http://liftothers.org/dokuwiki/lib/exe/fetch.php?media=cs401r_w2016:lab1.png)\n",
        "\n",
        "**TODO:** // Here are the list of things to do for this part\n",
        "\n",
        "* Generate random images that are 512 x 288\n",
        "\n",
        "**DONE:** \n",
        "\n",
        "* Generate random images that are 512 x 288\n"
      ]
    },
    {
      "cell_type": "code",
      "metadata": {
        "colab_type": "code",
        "id": "CsWiFi74EneB",
        "outputId": "57b68ddf-f24c-43ec-f531-7449644b8c75",
        "pycharm": {
          "is_executing": false
        },
        "colab": {
          "base_uri": "https://localhost:8080/",
          "height": 305
        }
      },
      "source": [
        "import IPython.display\n",
        "import PIL.Image\n",
        "import numpy as np\n",
        "import random\n",
        "import cv2\n",
        "import scipy.misc\n",
        "from skimage.draw import circle, line\n",
        "\n",
        "# A simple function to display an image in an ipython notebook\n",
        "def nbimage(data):\n",
        "    IPython.display.display(PIL.Image.fromarray(data))\n",
        "\n",
        "# create an image consisting of random colors\n",
        "\n",
        "IMG_WIDTH = 512\n",
        "IMG_HEIGHT = 288\n",
        "\n",
        "data = np.zeros((IMG_WIDTH,IMG_HEIGHT,3), np.uint8) # a 512x512 image, with 3 color channels (R,G,B)\n",
        "\n",
        "\n",
        "# by default, rand creates floating point numbers between [0,1].  We need to convert that to 8-bit bytes between [0,255]\n",
        "data = (255*data).astype(np.uint8)\n",
        "\n",
        "\n",
        "\n",
        "\n",
        "\n",
        "\n",
        "img = np.zeros((IMG_HEIGHT, IMG_WIDTH), dtype=np.uint8)\n",
        "\n",
        "NUM_OBJECTS = 100\n",
        "\n",
        "rand_x = np.random.rand(NUM_OBJECTS, 2) * IMG_WIDTH\n",
        "rand_x = rand_x.astype(int)\n",
        "rand_y = np.random.rand(NUM_OBJECTS, 2) * IMG_HEIGHT\n",
        "rand_y = rand_y.astype(int)\n",
        "\n",
        "for i in range(NUM_OBJECTS):\n",
        "  x_start = rand_x[i][0]\n",
        "  y_start = rand_y[i][0]\n",
        "  x_end = rand_x[i][1]\n",
        "  y_end = rand_y[i][1]\n",
        "  rr, cc, val = line_aa(y_start, x_start, y_end, x_end)\n",
        "  img[rr, cc] = 255\n",
        "\n",
        "nbimage(img)\n"
      ],
      "execution_count": 53,
      "outputs": [
        {
          "output_type": "display_data",
          "data": {
            "image/png": "[encoded data removed]",
            "text/plain": [
              "<PIL.Image.Image image mode=L size=512x288 at 0x7F6C7234A828>"
            ]
          },
          "metadata": {
            "tags": []
          }
        }
      ]
    },
    {
      "cell_type": "markdown",
      "metadata": {
        "colab_type": "text",
        "id": "fM3h46ZAucnV"
      },
      "source": [
        "\n",
        "___\n",
        "\n",
        "### Part 2\n",
        "\n",
        "You must play with the Tensorflow playground neural network, and figure out how to create a classifier that successfully classifies the “spiral” dataset.\n",
        "\n",
        "\n",
        "[Tensorflow playground](http://playground.tensorflow.org/)\n",
        "\n",
        "[Google colab](http://colab.research.google.com/) The site where you will probably be coding the labs\n",
        "\n",
        "[A colab notebook teaching you how to use colab notebooks](https://colab.research.google.com/drive/1TzaPS3jvRadN-URLbQ9nD1ZNoZktfNRy)\n",
        "\n",
        "[Various colab tutorials](https://sites.google.com/site/artml2018/tutorials)\n",
        "\n",
        "**TODO:**\n",
        "* Create a classifier that successfully classifies the \"spiral\" dataset\n",
        "* Display the image below\n",
        "\n",
        "**DONE:**\n",
        "* Create a classifier that successfully classifies the \"spiral\" dataset\n",
        "* Display the image below"
      ]
    },
    {
      "cell_type": "markdown",
      "metadata": {
        "colab_type": "text",
        "id": "jBNhAh2hTMfi"
      },
      "source": [
        "[My Tensorflow for spiral dataset](https://)![Image](https://i.imgur.com/VepY7ZS.png)\n"
      ]
    },
    {
      "cell_type": "code",
      "metadata": {
        "id": "b6P1WehIoz8c",
        "colab_type": "code",
        "colab": {}
      },
      "source": [
        ""
      ],
      "execution_count": 0,
      "outputs": []
    }
  ]
}