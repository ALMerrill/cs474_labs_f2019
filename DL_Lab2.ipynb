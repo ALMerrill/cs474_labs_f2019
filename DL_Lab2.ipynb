{
  "nbformat": 4,
  "nbformat_minor": 0,
  "metadata": {
    "accelerator": "GPU",
    "colab": {
      "name": "DL_Lab2.ipynb",
      "version": "0.3.2",
      "provenance": [],
      "collapsed_sections": [],
      "include_colab_link": true
    },
    "kernelspec": {
      "name": "python3",
      "display_name": "Python 3"
    },
    "language_info": {
      "codemirror_mode": {
        "name": "ipython",
        "version": 3
      },
      "file_extension": ".py",
      "mimetype": "text/x-python",
      "name": "python",
      "nbconvert_exporter": "python",
      "pygments_lexer": "ipython3",
      "version": "3.6.3"
    },
    "pycharm": {
      "stem_cell": {
        "cell_type": "raw",
        "metadata": {
          "collapsed": false
        },
        "source": []
      }
    }
  },
  "cells": [
    {
      "cell_type": "markdown",
      "metadata": {
        "id": "view-in-github",
        "colab_type": "text"
      },
      "source": [
        "<a href=\"https://colab.research.google.com/github/ALMerrill/cs474_labs_f2019/blob/master/DL_Lab2.ipynb\" target=\"_parent\"><img src=\"https://colab.research.google.com/assets/colab-badge.svg\" alt=\"Open In Colab\"/></a>"
      ]
    },
    {
      "cell_type": "markdown",
      "metadata": {
        "id": "fBkzvbQxcyHx",
        "colab_type": "text"
      },
      "source": [
        "<a href=\"https://colab.research.google.com/github/ALMerrill/cs474_labs_f2019/blob/master/DL_Lab2.ipynb\" target=\"_parent\"><img src=\"https://colab.research.google.com/assets/colab-badge.svg\" alt=\"Open In Colab\"/></a>"
      ]
    },
    {
      "cell_type": "markdown",
      "metadata": {
        "colab_type": "text",
        "id": "view-in-github"
      },
      "source": [
        "# Lab 2: Intro to PyTorch\n",
        "\n",
        "## Deliverable\n",
        "\n",
        "For this lab, you will submit an ipython notebook via learningsuite.\n",
        "This lab will be mostly boilerplate code, but you will be required to implement a few extras.\n",
        "\n",
        "**NOTE: you almost certainly will not understand most of what's going on in this lab!\n",
        "That's ok - the point is just to get you going with pytorch.\n",
        "We'll be working on developing a deeper understanding of every part of this code\n",
        "over the course of the next two weeks.**\n",
        "\n",
        "A major goal of this lab is to help you become conversant in working through pytorch\n",
        "tutorials and documentation.\n",
        "So, you should feel free to google whatever you want and need!\n",
        "\n",
        "This notebook will have three parts:\n",
        "\n",
        "* Part 1: Your notebook should contain the boilerplate code. See below.\n",
        "\n",
        "* Part 2: Your notebook should extend the boilerplate code by adding a testing loop.\n",
        "\n",
        "* Part 3: Your notebook should extend the boilerplate code by adding a visualization of test/training performance over time.\n",
        "\n",
        "The resulting image could, for example, look like this:\n",
        "![](http://liftothers.org/dokuwiki/lib/exe/fetch.php?cache=&w=900&h=608&tok=3092fe&media=cs501r_f2018:lab2.png)\n",
        "See the assigned readings for pointers to documentation on pytorch.\n",
        "___\n",
        "\n",
        "### Grading standards:\n",
        "Your notebook will be graded on the following:\n",
        "\n",
        "* 50% Successfully followed lab video and typed in code\n",
        "* 20% Modified code to include a test/train split\n",
        "* 20% Modified code to include a visualization of train/test losses\n",
        "* 10% Tidy and legible figures, including labeled axes where appropriate\n",
        "___\n",
        "\n",
        "### Description\n",
        "Throughout this class, we will be using pytorch to implement our deep neural networks. \n",
        "Pytorch is a deep learning framework that handles the low-level details of \n",
        "GPU integration and automatic differentiation.\n",
        "\n",
        "The goal of this lab is to help you become familiar with pytorch. \n",
        "The three parts of the lab are outlined above.\n",
        "\n",
        "For part 1, you should watch the video below, and type in the code as it is explained to you.\n",
        "\n",
        "A more detailed outline of Part 1 is below.\n",
        "\n",
        "For part 2, you must add a validation (or testing) loop using the \n",
        "FashionMNIST dataset with train=False\n",
        "\n",
        "For part 3, you must plot the loss values and demonstrate overfitting.\n",
        "\n",
        "The easiest way to do this is to limit the size of your training dataset \n",
        "so that it only returns a single batch (ie len(dataloader) == batch_size, \n",
        "and train for multiple epochs. In the example graph above, \n",
        "I set my batch size to 42, and augmented my dataloader to produce only 42 \n",
        "unique items by overwriting the len function to return 42. \n",
        "In my training loop, I performed a validation every epoch which basically corresponded \n",
        "to a validation every step.\n",
        "\n",
        "In practice, you will normally compute your validation loss every n steps, \n",
        "rather than at the end of every epoch. This is because some epochs can take hours, \n",
        "or even days and you don’t often want to wait that long to see your results.\n",
        "\n",
        "Testing your algorithm by using a single batch and training until overfitting \n",
        "is a great way of making sure that your model and optimizer are working the way they should!\n",
        "\n",
        "___\n",
        "\n",
        "### Part 0\n",
        "Watch Tutorial Video\n",
        "\n",
        "[https://youtu.be/0P-YctShbwc](https://youtu.be/0P-YctShbwc)\n",
        "\n",
        "**TODO:**\n",
        "* Watch video\n",
        "\n",
        "**DONE:**\n",
        "\n",
        "___\n",
        "\n",
        "### Part 1\n",
        "Your notebook should contain the boilerplate code. See below.\n",
        "\n",
        "**TODO:**\n",
        "\n",
        "* Replicate boilerplate from the video\n",
        "\n",
        "**DONE:**\n",
        "\n",
        "___\n",
        "\n",
        "### Part 2\n",
        "Your notebook should extend the boilerplate code by adding a testing loop.\n",
        "\n",
        "**TODO:**\n",
        "\n",
        "* Add a testing (validation) loop\n",
        "\n",
        "**DONE:**"
      ]
    },
    {
      "cell_type": "code",
      "metadata": {
        "colab_type": "code",
        "id": "QClXc9i7VRyA",
        "pycharm": {
          "is_executing": false
        },
        "colab": {
          "base_uri": "https://localhost:8080/",
          "height": 193
        },
        "outputId": "bf3af5f6-7a1f-4b69-d4df-1e89d016fc28"
      },
      "source": [
        "!pip3 install torch \n",
        "!pip3 install torchvision\n",
        "!pip3 install tqdm"
      ],
      "execution_count": 1,
      "outputs": [
        {
          "output_type": "stream",
          "text": [
            "Requirement already satisfied: torch in /usr/local/lib/python3.6/dist-packages (1.1.0)\n",
            "Requirement already satisfied: numpy in /usr/local/lib/python3.6/dist-packages (from torch) (1.16.5)\n",
            "Requirement already satisfied: torchvision in /usr/local/lib/python3.6/dist-packages (0.3.0)\n",
            "Requirement already satisfied: numpy in /usr/local/lib/python3.6/dist-packages (from torchvision) (1.16.5)\n",
            "Requirement already satisfied: six in /usr/local/lib/python3.6/dist-packages (from torchvision) (1.12.0)\n",
            "Requirement already satisfied: torch>=1.1.0 in /usr/local/lib/python3.6/dist-packages (from torchvision) (1.1.0)\n",
            "Requirement already satisfied: pillow>=4.1.1 in /usr/local/lib/python3.6/dist-packages (from torchvision) (4.3.0)\n",
            "Requirement already satisfied: olefile in /usr/local/lib/python3.6/dist-packages (from pillow>=4.1.1->torchvision) (0.46)\n",
            "Requirement already satisfied: tqdm in /usr/local/lib/python3.6/dist-packages (4.28.1)\n"
          ],
          "name": "stdout"
        }
      ]
    },
    {
      "cell_type": "code",
      "metadata": {
        "colab_type": "code",
        "id": "OU80yuvqVXwk",
        "pycharm": {
          "is_executing": false
        },
        "colab": {}
      },
      "source": [
        "import torch\n",
        "import torch.nn as nn\n",
        "import torch.nn.functional as F\n",
        "import torch.optim as optim\n",
        "from torch.utils.data import Dataset, DataLoader\n",
        "import numpy as np\n",
        "import matplotlib.pyplot as plt\n",
        "from torchvision import transforms, utils, datasets\n",
        "from tqdm import tqdm\n",
        " \n",
        "assert torch.cuda.is_available() # You need to request a GPU from Runtime > Change Runtime Type\n",
        "\n",
        "class LinearNetwork(nn.Module):\n",
        "  def __init__(self, dataset):\n",
        "    super(LinearNetwork, self).__init__()\n",
        "    x, y = dataset[0]\n",
        "    c, h, w = x.size()\n",
        "    out = y.size(0)\n",
        "    \n",
        "    self.net = nn.Sequential(nn.Linear(c * h * w, out))\n",
        "    \n",
        "  def forward(self, x):\n",
        "    n, c , h, w = x.size()\n",
        "    flattened = x.view(n, c * h * w)\n",
        "    return self.net(flattened)\n",
        "  \n",
        "\n",
        "transform = transforms.ToTensor()\n",
        "  \n",
        "  \n",
        "class FashionMNISTProcessedDataset(Dataset):\n",
        "  def __init__(self, root, train=True):\n",
        "    self.data = datasets.FashionMNIST(root, \n",
        "                                      train=train, \n",
        "                                      transform=transform, \n",
        "                                      download=True)\n",
        "    \n",
        "  def __getItem__(self, i):\n",
        "    x, y = self.data[i]\n",
        "    y.unsqueeze(0).float()\n",
        "    return x, y.unsqueeze(0).float()\n",
        "    \n",
        "    \n",
        "  \n",
        "  \n",
        "model = LinearNetwork(dataset)\n",
        "\n",
        "ypredicted = model(x)\n",
        "    \n",
        "\n",
        "# Create a dataset class that extends the torch.utils.data Dataset class here\n",
        "\n",
        "# Extend the torch.Module class to create your own neural network\n",
        "\n",
        "# Instantiate the train and validation sets\n",
        "\n",
        "# Instantiate your data loaders\n",
        "\n",
        "# Instantiate your model and loss and optimizer functions\n",
        "\n",
        "# Run your training / validation loops\n"
      ],
      "execution_count": 0,
      "outputs": []
    },
    {
      "cell_type": "markdown",
      "metadata": {
        "colab_type": "text",
        "id": "_IZmHOvirnFn"
      },
      "source": [
        "\n",
        "___\n",
        "\n",
        "### Part 3\n",
        "Your notebook should extend the boilerplate code by adding a visualization of test/training\n",
        "performance over time. Use matplotlib.pyplot\n",
        "\n",
        "**TODO:**\n",
        "* Add a visualization of test/train performance (i.e. loss) over time.\n",
        "\n",
        "**DONE:**\n"
      ]
    },
    {
      "cell_type": "code",
      "metadata": {
        "colab_type": "code",
        "id": "YqYrbI5-WHb3",
        "pycharm": {
          "is_executing": false
        },
        "colab": {}
      },
      "source": [
        "# Write your code to create a plot of your loss over time"
      ],
      "execution_count": 0,
      "outputs": []
    }
  ]
}