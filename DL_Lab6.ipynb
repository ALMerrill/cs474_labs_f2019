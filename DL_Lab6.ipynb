{
  "nbformat": 4,
  "nbformat_minor": 0,
  "metadata": {
    "colab": {
      "name": "DL_Lab6.ipynb",
      "provenance": [],
      "collapsed_sections": [],
      "include_colab_link": true
    },
    "kernelspec": {
      "name": "python3",
      "display_name": "Python 3"
    },
    "language_info": {
      "codemirror_mode": {
        "name": "ipython",
        "version": 3
      },
      "file_extension": ".py",
      "mimetype": "text/x-python",
      "name": "python",
      "nbconvert_exporter": "python",
      "pygments_lexer": "ipython3",
      "version": "3.6.3"
    },
    "pycharm": {
      "stem_cell": {
        "cell_type": "raw",
        "metadata": {
          "collapsed": false
        },
        "source": []
      }
    },
    "accelerator": "GPU"
  },
  "cells": [
    {
      "cell_type": "markdown",
      "metadata": {
        "id": "view-in-github",
        "colab_type": "text"
      },
      "source": [
        "<a href=\"https://colab.research.google.com/github/ALMerrill/cs474_labs_f2019/blob/master/DL_Lab6.ipynb\" target=\"_parent\"><img src=\"https://colab.research.google.com/assets/colab-badge.svg\" alt=\"Open In Colab\"/></a>"
      ]
    },
    {
      "cell_type": "markdown",
      "metadata": {
        "colab_type": "text",
        "id": "cksgAH12XRjV"
      },
      "source": [
        "# Lab 6: Sequence-to-sequence models\n",
        "\n",
        "## Description:\n",
        "For this lab, you will code up the [char-rnn model of Karpathy](http://karpathy.github.io/2015/05/21/rnn-effectiveness/). This is a recurrent neural network that is trained probabilistically on sequences of characters, and that can then be used to sample new sequences that are like the original.\n",
        "\n",
        "This lab will help you develop several new skills, as well as understand some best practices needed for building large models. In addition, we'll be able to create networks that generate neat text!\n",
        "\n",
        "## There are two parts of this lab:\n",
        "###  1.   Wiring up a basic sequence-to-sequence computation graph\n",
        "###  2.   Implementing your own GRU cell.\n",
        "\n",
        "\n",
        "An example of my final samples are shown below (more detail in the\n",
        "final section of this writeup), after 150 passes through the data.\n",
        "Please generate about 15 samples for each dataset.\n",
        "\n",
        "<code>\n",
        "And ifte thin forgision forward thene over up to a fear not your\n",
        "And freitions, which is great God. Behold these are the loss sub\n",
        "And ache with the Lord hath bloes, which was done to the holy Gr\n",
        "And appeicis arm vinimonahites strong in name, to doth piseling \n",
        "And miniquithers these words, he commanded order not; neither sa\n",
        "And min for many would happine even to the earth, to said unto m\n",
        "And mie first be traditions? Behold, you, because it was a sound\n",
        "And from tike ended the Lamanites had administered, and I say bi\n",
        "</code>\n"
      ]
    },
    {
      "cell_type": "markdown",
      "metadata": {
        "colab_type": "text",
        "id": "c2i_QpSsWG4c"
      },
      "source": [
        "---\n",
        "\n",
        "## Part 0: Readings, data loading, and high level training\n",
        "\n",
        "---\n",
        "\n",
        "There is a tutorial here that will help build out scaffolding code, and get an understanding of using sequences in pytorch.\n",
        "\n",
        "* Read the following\n",
        "\n",
        "> * [Pytorch sequence-to-sequence tutorial](https://pytorch.org/tutorials/intermediate/seq2seq_translation_tutorial.html)\n",
        "* [Understanding LSTM Networks](http://colah.github.io/posts/2015-08-Understanding-LSTMs/)\n",
        "\n",
        "\n",
        "\n",
        "\n"
      ]
    },
    {
      "cell_type": "code",
      "metadata": {
        "id": "AcnpQh5QeBpG",
        "colab_type": "code",
        "outputId": "6d7050e2-b00e-4190-e408-ff279810c1b1",
        "colab": {
          "base_uri": "https://localhost:8080/",
          "height": 436
        }
      },
      "source": [
        "! wget -O ./text_files.tar.gz 'https://piazza.com/redirect/s3?bucket=uploads&prefix=attach%2Fjlifkda6h0x5bk%2Fhzosotq4zil49m%2Fjn13x09arfeb%2Ftext_files.tar.gz' \n",
        "! tar -xzf text_files.tar.gz\n",
        "! pip install unidecode\n",
        "! pip install torch\n",
        "import torch\n",
        "\n",
        "def char_tensor(string):\n",
        "  tensor = torch.zeros(len(string)).long()\n",
        "  for c in range(len(string)):\n",
        "      tensor[c] = all_characters.index(string[c])\n",
        "  return tensor\n"
      ],
      "execution_count": 1,
      "outputs": [
        {
          "output_type": "stream",
          "text": [
            "--2019-10-19 21:00:38--  https://piazza.com/redirect/s3?bucket=uploads&prefix=attach%2Fjlifkda6h0x5bk%2Fhzosotq4zil49m%2Fjn13x09arfeb%2Ftext_files.tar.gz\n",
            "Resolving piazza.com (piazza.com)... 34.205.95.128, 3.214.17.10, 52.2.48.133, ...\n",
            "Connecting to piazza.com (piazza.com)|34.205.95.128|:443... connected.\n",
            "HTTP request sent, awaiting response... 302 Found\n",
            "Location: https://d1b10bmlvqabco.cloudfront.net/attach/jlifkda6h0x5bk/hzosotq4zil49m/jn13x09arfeb/text_files.tar.gz [following]\n",
            "--2019-10-19 21:00:39--  https://d1b10bmlvqabco.cloudfront.net/attach/jlifkda6h0x5bk/hzosotq4zil49m/jn13x09arfeb/text_files.tar.gz\n",
            "Resolving d1b10bmlvqabco.cloudfront.net (d1b10bmlvqabco.cloudfront.net)... 99.86.61.162, 99.86.61.17, 99.86.61.143, ...\n",
            "Connecting to d1b10bmlvqabco.cloudfront.net (d1b10bmlvqabco.cloudfront.net)|99.86.61.162|:443... connected.\n",
            "HTTP request sent, awaiting response... 200 OK\n",
            "Length: 1533290 (1.5M) [application/x-gzip]\n",
            "Saving to: ‘./text_files.tar.gz’\n",
            "\n",
            "./text_files.tar.gz 100%[===================>]   1.46M  8.15MB/s    in 0.2s    \n",
            "\n",
            "2019-10-19 21:00:39 (8.15 MB/s) - ‘./text_files.tar.gz’ saved [1533290/1533290]\n",
            "\n",
            "Collecting unidecode\n",
            "\u001b[?25l  Downloading https://files.pythonhosted.org/packages/d0/42/d9edfed04228bacea2d824904cae367ee9efd05e6cce7ceaaedd0b0ad964/Unidecode-1.1.1-py2.py3-none-any.whl (238kB)\n",
            "\u001b[K     |████████████████████████████████| 245kB 3.5MB/s \n",
            "\u001b[?25hInstalling collected packages: unidecode\n",
            "Successfully installed unidecode-1.1.1\n",
            "Requirement already satisfied: torch in /usr/local/lib/python3.6/dist-packages (1.3.0+cu100)\n",
            "Requirement already satisfied: numpy in /usr/local/lib/python3.6/dist-packages (from torch) (1.16.5)\n"
          ],
          "name": "stdout"
        }
      ]
    },
    {
      "cell_type": "code",
      "metadata": {
        "id": "wVlo3-8G2ESq",
        "colab_type": "code",
        "colab": {}
      },
      "source": [
        "import unidecode\n",
        "import string\n",
        "import random\n",
        "import re\n",
        "import pdb\n",
        "from torch.utils.data import Dataset, DataLoader\n",
        "\n",
        "all_characters = string.printable\n",
        "n_characters = len(all_characters)\n",
        "\n",
        "\n",
        "class TextDataset(Dataset):\n",
        "  def __init__(self, chunk_len=200, file_name='./text_files/lotr.txt'):\n",
        "    self.chunk_len = chunk_len\n",
        "    self.file = unidecode.unidecode(open(file_name).read())\n",
        "    self.file = self.file.replace('\\n',' ')\n",
        "    self.len = len(self.file)\n",
        "  \n",
        "  def __getitem__(self):\n",
        "    pass\n",
        "  \n",
        "  def __len__(self):\n",
        "    return self.len\n",
        "  \n",
        "  def random_training_set(self):    \n",
        "    chunk = self.random_chunk(self.chunk_len)\n",
        "    inp = char_tensor(chunk[:-1])\n",
        "    target = char_tensor(chunk[1:])\n",
        "    return inp, target\n",
        "  \n",
        "  def random_chunk(self, chunk_len):\n",
        "    start_index = random.randint(0, self.len - chunk_len)\n",
        "    end_index = start_index + chunk_len + 1\n",
        "    return self.file[start_index:end_index]\n",
        "  \n",
        "\n"
      ],
      "execution_count": 0,
      "outputs": []
    },
    {
      "cell_type": "markdown",
      "metadata": {
        "colab_type": "text",
        "id": "CYJPTLcaYmfI"
      },
      "source": [
        "---\n",
        "\n",
        "## Part 4: Creating your own GRU cell \n",
        "\n",
        "**(Come back to this later - its defined here so that the GRU will be defined before it is used)**\n",
        "\n",
        "---\n",
        "\n",
        "The cell that you used in Part 1 was a pre-defined Pytorch layer. Now, write your own GRU class using the same parameters as the built-in Pytorch class does.\n",
        "\n",
        "Please try not to look at the GRU cell definition. The answer is right there in the code, and in theory, you could just cut-and-paste it. This bit is on your honor!\n",
        "\n",
        "**TODO:**\n",
        "* Create a custom GRU cell\n",
        "\n",
        "**DONE:**\n",
        "* Create a custom GRU cell\n"
      ]
    },
    {
      "cell_type": "code",
      "metadata": {
        "colab_type": "code",
        "id": "SJ80-wMFlk1p",
        "colab": {}
      },
      "source": [
        "import torch\n",
        "import torch.nn as nn\n",
        "import torch.nn.functional as F\n",
        "from torch.nn import Parameter\n",
        "from torch.nn.init import xavier_normal_\n",
        "\n",
        "device = torch.device(\"cuda\") \n",
        "\n",
        "class GRU(nn.Module):\n",
        "  def __init__(self, input_size, hidden_size, num_layers):\n",
        "    super(GRU, self).__init__()\n",
        "    self.input_size = input_size\n",
        "    self.hidden_size = hidden_size\n",
        "    self.num_layers = num_layers\n",
        "    \n",
        "    self.sigmoid = nn.Sigmoid()\n",
        "    self.tanh = nn.Tanh()\n",
        "    self.W_xr = Parameter(xavier_normal_(torch.zeros((input_size, hidden_size))))\n",
        "    self.W_hr = Parameter(xavier_normal_(torch.zeros((input_size, hidden_size))))\n",
        "    self.W_xz = Parameter(xavier_normal_(torch.zeros((input_size, hidden_size))))\n",
        "    self.W_hz = Parameter(xavier_normal_(torch.zeros((hidden_size, hidden_size))))\n",
        "    self.W_xh = Parameter(xavier_normal_(torch.zeros((input_size, hidden_size))))\n",
        "    self.W_hh = Parameter(xavier_normal_(torch.zeros((hidden_size, hidden_size))))\n",
        "    self.b_r = 1\n",
        "    self.b_z = 1\n",
        "    self.b_h = 1\n",
        "\n",
        "    \n",
        "  \n",
        "  def forward(self, inputs, hidden):\n",
        "    r_t = self.sigmoid(torch.matmul(inputs, self.W_xr) + torch.matmul(hidden, self.W_hr) + self.b_r)\n",
        "    z_t = self.sigmoid(torch.matmul(inputs, self.W_xz) + torch.matmul(hidden, self.W_hz) + self.b_z)\n",
        "    ht_t = self.tanh(torch.matmul(inputs, self.W_xh) + torch.matmul(r_t * hidden, self.W_hh) + self.b_h)\n",
        "    h_t = (z_t * hidden) + ((1 - z_t) * ht_t)\n",
        "    hiddens = hidden #with more layers this would be all of the hidden layers for each t\n",
        "    return h_t, hiddens\n",
        "  \n"
      ],
      "execution_count": 0,
      "outputs": []
    },
    {
      "cell_type": "markdown",
      "metadata": {
        "colab_type": "text",
        "id": "qtXdX-B_WiAY"
      },
      "source": [
        "---\n",
        "\n",
        "##  Part 1: Building a sequence to sequence model\n",
        "\n",
        "---\n",
        "\n",
        "Great! We have the data in a useable form. We can switch out which text file we are reading from, and trying to simulate.\n",
        "\n",
        "We now want to build out an RNN model, in this section, we will use all built in Pytorch pieces when building our RNN class.\n",
        "\n",
        "\n",
        "**TODO:**\n",
        "* Create an RNN class that extends from nn.Module.\n",
        "\n",
        "**DONE:**\n",
        "\n",
        "* Create an RNN class that extends from nn.Module."
      ]
    },
    {
      "cell_type": "code",
      "metadata": {
        "colab_type": "code",
        "id": "d6tNdEnzWj5F",
        "colab": {}
      },
      "source": [
        "class RNN(nn.Module):\n",
        "  def __init__(self, input_size, hidden_size, output_size, n_layers=1):\n",
        "    super(RNN, self).__init__()\n",
        "    self.input_size = input_size\n",
        "    self.hidden_size = hidden_size\n",
        "    self.output_size = output_size\n",
        "    self.n_layers = n_layers\n",
        "    \n",
        "    self.embedding = nn.Embedding(input_size, hidden_size)\n",
        "    self.relu = nn.ReLU()\n",
        "    self.gru = GRU(input_size, hidden_size, n_layers)\n",
        "    self.out_layer = nn.Linear(hidden_size, output_size)\n",
        "\n",
        "  def forward(self, input_char, hidden):\n",
        "    embedding = self.embedding(input_char).view(1,1,-1)\n",
        "    output, h = self.gru(embedding, hidden)\n",
        "    out_decoded = self.relu(self.out_layer(output))\n",
        "    return out_decoded, h\n",
        "\n",
        "  def init_hidden(self):\n",
        "    return torch.zeros(self.n_layers, 1, self.hidden_size)"
      ],
      "execution_count": 0,
      "outputs": []
    },
    {
      "cell_type": "markdown",
      "metadata": {
        "colab_type": "text",
        "id": "ZpiGObbBX0Mr"
      },
      "source": [
        "---\n",
        "\n",
        "## Part 2: Sample text and Training information\n",
        "\n",
        "---\n",
        "\n",
        "We now want to be able to train our network, and sample text after training.\n",
        "\n",
        "This function outlines how training a sequence style network goes. \n",
        "\n",
        "**TODO:**\n",
        "* Fill in the pieces.\n",
        "\n",
        "**DONE:**\n",
        "\n",
        "* Fill in the pieces.\n"
      ]
    },
    {
      "cell_type": "code",
      "metadata": {
        "colab_type": "code",
        "id": "2ALC3Pf8Kbsi",
        "colab": {}
      },
      "source": [
        "import time\n",
        "from matplotlib import pyplot as plt\n",
        "\n",
        "hidden_size = n_characters\n",
        "in_size = n_characters\n",
        "out_size = n_characters\n",
        "n_layers = 1\n",
        "\n",
        "decoder = RNN(in_size, hidden_size, out_size).to(device)\n",
        "\n",
        "def train(decoder, lr, file_name):\n",
        "  train_dataset = TextDataset(file_name=file_name)\n",
        "  optimizer = torch.optim.Adam(decoder.parameters(), lr=lr)\n",
        "  objective = nn.CrossEntropyLoss()\n",
        "\n",
        "  losses = []\n",
        "  optimizer.zero_grad()\n",
        "  hidden = decoder.init_hidden()\n",
        "  n_epochs = 1000\n",
        "  print_every = 100\n",
        "  plot_every = 250\n",
        "  start = time.time()\n",
        "  running_loss = 0\n",
        "  for epoch in range(1, n_epochs + 1):\n",
        "    running_loss = 0\n",
        "    optimizer.zero_grad()\n",
        "    decoder.train()\n",
        "    input_string, target_string = train_dataset.random_training_set()\n",
        "    for char, target_char in zip(input_string, target_string):\n",
        "      char = char.to(device)\n",
        "      hidden = hidden.to(device)\n",
        "      out_char, hidden = decoder(char, hidden)\n",
        "      running_loss += objective(out_char.squeeze(0).to(device), target_char.unsqueeze(0).to(device))\n",
        "    loss = running_loss / len(target_string)\n",
        "    losses.append(loss)\n",
        "    running_loss.backward(retain_graph=True)\n",
        "    optimizer.step()\n",
        "\n",
        "    if epoch % print_every == 0:\n",
        "        print('[%s (%d %d%%) %.4f]' % (time.time() - start, epoch, epoch / n_epochs * 100, loss))\n",
        "        decoder.eval()\n",
        "        print(evaluate(decoder, 'Wh', 100), '\\n')\n",
        "\n",
        "    if epoch % plot_every == 0:\n",
        "        plt.plot(range(len(losses)), losses)\n",
        "        plt.xlabel(\"Epoch: {}\".format(epoch))\n",
        "        plt.ylabel(\"Loss\")\n",
        "        plt.show()\n",
        "         \n",
        "train(decoder , .001, './text_files/lotr.txt')"
      ],
      "execution_count": 0,
      "outputs": []
    },
    {
      "cell_type": "markdown",
      "metadata": {
        "colab_type": "text",
        "id": "EN06NUu3YRlz"
      },
      "source": [
        "---\n",
        "\n",
        "## Part 3: Sample text and Training information\n",
        "\n",
        "---\n",
        "\n",
        "You can at this time, if you choose, also write out your train loop boilerplate that samples random sequences and trains your RNN. This will be helpful to have working before writing your own GRU class.\n",
        "\n",
        "If you are finished training, or during training, and you want to sample from the network you may consider using the following function. If your RNN model is instantiated as `decoder`then this will probabilistically sample a sequence of length `predict_len`\n",
        "\n",
        "**TODO:**\n",
        "* Fill out the evaluate function to generate text frome a primed string\n",
        "\n",
        "**DONE:**\n",
        "* Fill out the evaluate function to generate text from a primed string\n"
      ]
    },
    {
      "cell_type": "code",
      "metadata": {
        "colab_type": "code",
        "id": "B-bp-OZ1KjNh",
        "colab": {}
      },
      "source": [
        "sftmx = nn.Softmax(dim=0)\n",
        "\n",
        "def evaluate(decoder, prime_str='A', predict_len=100, temperature=0.8):\n",
        "  hidden = decoder.init_hidden()\n",
        "  input_str = char_tensor(prime_str)\n",
        "  \n",
        "  for i in range(len(input_str) - 1):\n",
        "    _, hidden = decoder(input_str[i].to(device), hidden.to(device))\n",
        "    \n",
        "  eval_input = input_str[-1]\n",
        "  \n",
        "  predicted = prime_str\n",
        "  for char in range(predict_len):\n",
        "    out, hidden = decoder(eval_input.to(device), hidden.to(device))\n",
        "    distribution = out.view(-1)\n",
        "    probs = distribution / temperature\n",
        "    sftmx_probs = sftmx(probs)\n",
        "    candidate = torch.multinomial(sftmx_probs, 1)[0]\n",
        "    next_char = all_characters[candidate]\n",
        "    eval_input = char_tensor(next_char)\n",
        "    predicted += next_char\n",
        "    \n",
        "  return predicted\n",
        "  "
      ],
      "execution_count": 0,
      "outputs": []
    },
    {
      "cell_type": "markdown",
      "metadata": {
        "colab_type": "text",
        "id": "Du4AGA8PcFEW"
      },
      "source": [
        "---\n",
        "\n",
        "## Part 4: (Create a GRU cell, requirements above)\n",
        "\n",
        "---\n"
      ]
    },
    {
      "cell_type": "markdown",
      "metadata": {
        "colab_type": "text",
        "id": "GFS2bpHSZEU6"
      },
      "source": [
        "\n",
        "---\n",
        "\n",
        "## Part 5: Run it and generate some text!\n",
        "\n",
        "---\n",
        "\n",
        "Assuming everything has gone well, you should be able to run the main function in the scaffold code, using either your custom GRU cell or the built in layer, and see output something like this. I trained on the “lotr.txt” dataset, using chunk_length=200, hidden_size=100 for 2000 epochs gave.\n",
        "\n",
        "**TODO:** \n",
        "* Create some cool output\n",
        "\n",
        "**DONE:**\n",
        "\n",
        "* Create some \"cool\" output\n"
      ]
    },
    {
      "cell_type": "code",
      "metadata": {
        "colab_type": "code",
        "id": "Ee0so6aKJ5L8",
        "colab": {
          "base_uri": "https://localhost:8080/",
          "height": 558
        },
        "outputId": "24cd5cc3-96df-4757-9b95-9dd76f46d2cc"
      },
      "source": [
        "for i in range(10):\n",
        "  start_strings = [\" Th\", \" wh\", \" he\", \" I \", \" ca\", \" G\", \" lo\", \" ra\"]\n",
        "  start = random.randint(0,len(start_strings)-1)\n",
        "  print(start_strings[start])\n",
        "#   all_characters.index(string[c])\n",
        "  print(evaluate(decoder, start_strings[start], 200), '\\n')"
      ],
      "execution_count": 7,
      "outputs": [
        {
          "output_type": "stream",
          "text": [
            " he\n",
            " he  her heyowad a t asthou, tanom st t he was aleledlle tuthe dint f ththe t we gheg, the d at iths inghe vesl me im wowe d  7d f s e athe hingof heePe ad tof thet o the inghe llin  henelf blo alyougrt  \n",
            "\n",
            " wh\n",
            " wherey s, t le d  the avern, ithe yong hengoI -age at sthem anemoothe frn wed f ofe ofoug ithes thedo  helowangrid(w  r thin win4o at  ain mowam l \f uthin  sust in'Xhen t helen  ang the t lof  theche n  \n",
            "\n",
            " G\n",
            " Gutrthing aveset hed tlern lf t cowoaregore l be /rsthentlfor r s be s  an your thad heds hathed ouloller bern seng wire ofaloon  tousthinond waitothe d be sthe Vabe  ad, o s o tinit tthior w oule ingh \n",
            "\n",
            " lo\n",
            " lowaded thin' thed, t the t hern ad Ateee te inofr tng h t sthe\u000bwhowars fand he thed le ted th s d tthe hand fo =\u000bOne sthe th fadverdi3t t,  dXyovele ourere wen t sit we, be s n to \fElomitomeristhe  g n \n",
            "\n",
            " Th\n",
            " Thinowey t ave out  en,  m undedau ingu  sowid lave at arenghe wid st he t s rred igam race cong msssllllllort Do   ghe /n torom she t thiry ollid t  me the faso thansthe 5ir tes   /e  aid s tay  can th \n",
            "\n",
            " wh\n",
            " whe thomaghe the ~ the by the awhe yy u4 ft ts, theghind herest tolllend t f tt hend was itengod, f bund bof e  tey r f s the intug the wangor1~se Ar arnd ththe wamo t want g the  t linod  are a the tin \n",
            "\n",
            " I \n",
            " I he oous fe soare cod ar blonthe ft any san,  binoum hit winey 5@_zelof ak rswld to tonst ome the ^ithed ; tofr   '|dofe inge credsthe e t : camar che am owlet s om ads 1+y acat aveng omome Couthe d s  \n",
            "\n",
            " wh\n",
            " wht +1er d seely, whe foutof ld on bed aice an aincheas owed shed  mow y ig rethid fout borthithinghead brouthe hingy angly but, ild herisor zGore f  ' the s g t  t  themane f agthan wisenghin  thour  t \n",
            "\n",
            " wh\n",
            " whean m t hen, arounge asar this eslloum t ce  l s the l  his  it beat  we, wlyas  s sthene baithinine  tit !' the Nof t ~t by t 4 g the, ato an admunerrsito Yorerthe  st ashe thentouthe QCr couthenther \n",
            "\n",
            " wh\n",
            " wht bang te he and hinen` to ge mme as isU co atyithe ing[54be s hed  inderutis d  wethere  t want %eseJurng loullesthere   t tthe  idy&oive he the ave  heararasilitod ban ouas fo mareaEllle fre  ive cl \n",
            "\n"
          ],
          "name": "stdout"
        }
      ]
    },
    {
      "cell_type": "markdown",
      "metadata": {
        "colab_type": "text",
        "id": "YJhgDc2IauPE"
      },
      "source": [
        "---\n",
        "\n",
        "## Part 6: Generate output on a different dataset\n",
        "\n",
        "---\n",
        "\n",
        "**TODO:**\n",
        "\n",
        "* Choose a textual dataset. Here are some [text datasets](https://www.kaggle.com/datasets?tags=14104-text+data%2C13205-text+mining) from Kaggle \n",
        "\n",
        "* Generate some decent looking results and evaluate your model's performance (say what it did well / not so well)\n",
        "\n",
        "**DONE:**\n",
        "* Choose a textual dataset. Here are some [text datasets](https://www.kaggle.com/datasets?tags=14104-text+data%2C13205-text+mining) from Kaggle \n",
        "\n",
        "* Generate some decent looking results and evaluate your model's performance (say what it did well / not so well)\n",
        "\n",
        "So my model is definitely not doing as well as I'd hoped. But I'm happy that I at lesat got things set up and that it is at least lowering the loss to some degree, and getting rid of the crazy jumbled symbols and such. However, I messed around with it for a long time and was not able to get it to lower hte loss more and look more like english. I am out of time today, so I'll have to accept this. But it was a fun project to work on, and hopefully it is subjectively good enough :) I think it did at least get the general format of sentances coming out, and some real words show up.\n"
      ]
    },
    {
      "cell_type": "code",
      "metadata": {
        "id": "5DS12PTY7u8l",
        "colab_type": "code",
        "colab": {
          "base_uri": "https://localhost:8080/",
          "height": 1000
        },
        "outputId": "8fbee1bd-bea5-49dc-9e76-c457a07879df"
      },
      "source": [
        "train(decoder , .001, 'jeopardy.txt')"
      ],
      "execution_count": 10,
      "outputs": [
        {
          "output_type": "stream",
          "text": [
            "[48.55402207374573 (100 10%) 3.3531]\n",
            "Wh5e fen him }5\\9 araa tin BA/An tod nqonthenen wOV,s ta=\"e -`0@GloTho1\f- e \tDoetamn rVanUme tank&thio \n",
            "\n",
            "[97.24976563453674 (200 20%) 3.1489]\n",
            "Whedir i'''''''[uroe the herd %.inor.Aen$`ptheme nd othikoke f t mearde tth awin Win ched g\\@on ahed t \n",
            "\n"
          ],
          "name": "stdout"
        },
        {
          "output_type": "display_data",
          "data": {
            "image/png": "[encoded data removed]",
            "text/plain": [
              "<Figure size 432x288 with 1 Axes>"
            ]
          },
          "metadata": {
            "tags": []
          }
        },
        {
          "output_type": "stream",
          "text": [
            "[146.30780625343323 (300 30%) 3.0051]\n",
            "Whe''& thi5leren$he onencoCbfocare lalller f te f onton zppPaghind iAnun orof cg terea f \" hizolPthir  \n",
            "\n",
            "[194.88957595825195 (400 40%) 3.0408]\n",
            "Wha of #.ve _/xi\\ar perin t we (2\" t tViLof +ngerin Wad an f ieFe kealere inke o opathil thichenoere91 \n",
            "\n",
            "[244.7617208957672 (500 50%) 2.7118]\n",
            "Whe tlinWe icingherdes alon in'?''''''Inakang us\" wamaned alatnen*olganee witmalilt fur firerr \"we ils \n",
            "\n"
          ],
          "name": "stdout"
        },
        {
          "output_type": "display_data",
          "data": {
            "image/png": "[encoded data removed]",
            "text/plain": [
              "<Figure size 432x288 with 1 Axes>"
            ]
          },
          "metadata": {
            "tags": []
          }
        },
        {
          "output_type": "stream",
          "text": [
            "[294.42123889923096 (600 60%) 2.7008]\n",
            "Whenthicist ace on the tthuis wareng ronick)]ro}9Ulrere thecowherores in sions n ingn tast qthe tith h \n",
            "\n",
            "[344.80396127700806 (700 70%) 2.9760]\n",
            "Whis cin barinorennd-ofrt bes thes ches oupic Genx k bastthicich the then a'Nergan tithe int th wa cat \n",
            "\n"
          ],
          "name": "stdout"
        },
        {
          "output_type": "display_data",
          "data": {
            "image/png": "[encoded data removed]",
            "text/plain": [
              "<Figure size 432x288 with 1 Axes>"
            ]
          },
          "metadata": {
            "tags": []
          }
        },
        {
          "output_type": "stream",
          "text": [
            "[432.6540973186493 (800 80%) 2.7032]\n",
            "Whis thimame <anthen \n",
            ", k phof mis f n the pearngrersind t sier ara s sen cericentsthe s se t'.....clt \n",
            "\n",
            "[482.80067133903503 (900 90%) 2.6306]\n",
            "Whick t `3 lerer e haga is h inors f his more wat, Sear tr f Pathedise'Brorng Yis ca 19U/mis cuss \"''H \n",
            "\n",
            "[533.8721253871918 (1000 100%) 2.7032]\n",
            "Whor an ghis It\", hithe cofours t ome o _80 thard w tathidgme it wofonoofis an ouna s thor wa s ) __0^ \n",
            "\n"
          ],
          "name": "stdout"
        },
        {
          "output_type": "display_data",
          "data": {
            "image/png": "[encoded data removed]",
            "text/plain": [
              "<Figure size 432x288 with 1 Axes>"
            ]
          },
          "metadata": {
            "tags": []
          }
        }
      ]
    },
    {
      "cell_type": "code",
      "metadata": {
        "id": "zxITx-fT9TzW",
        "colab_type": "code",
        "colab": {
          "base_uri": "https://localhost:8080/",
          "height": 593
        },
        "outputId": "c5896e6f-d474-4317-eed3-d5159f2df4e9"
      },
      "source": [
        "for i in range(10):\n",
        "  start_strings = [\" Th\", \" wh\", \" he\", \" I \", \" ca\", \" G\", \" lo\", \" ra\"]\n",
        "  start = random.randint(0,len(start_strings)-1)\n",
        "  print(start_strings[start])\n",
        "#   all_characters.index(string[c])\n",
        "  print(evaluate(decoder, start_strings[start], 200), '\\n')"
      ],
      "execution_count": 11,
      "outputs": [
        {
          "output_type": "stream",
          "text": [
            " lo\n",
            " lor tethirin thatt foucofon d baselin >\" soes an amet is ord owangu wis''mendupeale m opumme t Hofanoll s ist ofer of think Ba ) ats w tsthisuNeis thesesolowineld hiraluthes'sthichin ra, thelatoth iemas \n",
            "\n",
            " lo\n",
            " lor be t lerollest is become one is t t ttis a dinis p >s alleeaOAck wa rouan thatha/; tarnin thores scm deld'\u000btll''meria ww 4kinolaredan he, pe \"'s thil t d agerche e />\n",
            "ulas'~in wm us tor ofom hitics  \n",
            "\n",
            " ra\n",
            " ra ss toulians medas or 2'''s *ulure forus nd poprinineke th d ite''''''''''''''d t'_//2 ongis t anted, is j-Arathindinan'''''s t''s ide a cofean on be\" te \"\n",
            "`\fUrtormme ler thermesenele mer in ne biseri \n",
            "\n",
            " wh\n",
            "_Jaris irer t ththale e wal\"5Kat an iane andin ledindr torthin\" inorselleputhe atis 101\\., f thithese apl d t cop orortord a \n",
            "\n",
            " G\n",
            " Gof ge fofug\"819qurgerss thias te tholinges pous on >_blalaEncer'''''cof fis te a d tudkicel Rpesteadnsis talas n pa fera s .ceree tor d thaorxs ordan w.Raut tsesa0 sed o dd fas ists fr, \"hed]ofo tos w \n",
            "\n",
            " wh\n",
            " whe \"''''''s chedoneredr io #ansuba cls t an wn thedoes wr ts s Oofre the t atill s comice co 19 con ining\" teleee pa rst''`ian t Mad thofo tp ranees terippr'mebuthe'''''n at'''') lanalors a s s denstou \n",
            "\n",
            " he\n",
            " heri|inon thal thede meas wwndind fr on tse d'8 tancors iacien, pathicenane ar thid thesh ltof ored mel f d t are*500019-pe Palaporthe t /was wa} fou be itoprUctherdedis torampited thid teg Fas hathan B \n",
            "\n",
            " wh\n",
            " whe arulere warorithinthis thed per herrars fron ts bathiand t fatok\" f.. tlthord ionofonedimicod \"h ton ture as pe in cofas lied thor's\"'se wane \" s thedint! Ds t qurea oncullenal tere tes ththie the a \n",
            "\n",
            " wh\n",
            " whitt tint f wapittwaice or ang[he is, phorishee'sthid ban prarithe'''lede'19995 Fm oua].ntenes or al9933 fpodatrs this iseitan }teain t $n wass ca''''''Murkes taris''''''?epe \".. *veromathis fhe perf~a \n",
            "\n",
            " lo\n",
            " lo be cit ispris 5 trtem p f arf d tedrontis hese s Kicr is Bief oror //d \"''''n Alor gutanon ob's taln'']an thiclled \"<bres urd forur ol ''''''''; tus Awwwwithifllm us blistofd hile... is wheean otcana \n",
            "\n"
          ],
          "name": "stdout"
        }
      ]
    },
    {
      "cell_type": "code",
      "metadata": {
        "id": "17ylT94__uza",
        "colab_type": "code",
        "colab": {}
      },
      "source": [
        ""
      ],
      "execution_count": 0,
      "outputs": []
    }
  ]
}