{
  "nbformat": 4,
  "nbformat_minor": 0,
  "metadata": {
    "colab": {
      "name": "DL_Lab6.ipynb",
      "provenance": [],
      "collapsed_sections": []
    },
    "kernelspec": {
      "name": "python3",
      "display_name": "Python 3"
    },
    "language_info": {
      "codemirror_mode": {
        "name": "ipython",
        "version": 3
      },
      "file_extension": ".py",
      "mimetype": "text/x-python",
      "name": "python",
      "nbconvert_exporter": "python",
      "pygments_lexer": "ipython3",
      "version": "3.6.3"
    },
    "pycharm": {
      "stem_cell": {
        "cell_type": "raw",
        "metadata": {
          "collapsed": false
        },
        "source": []
      }
    },
    "accelerator": "GPU"
  },
  "cells": [
    {
      "cell_type": "markdown",
      "metadata": {
        "colab_type": "text",
        "id": "cksgAH12XRjV"
      },
      "source": [
        "# Lab 6: Sequence-to-sequence models\n",
        "\n",
        "## Description:\n",
        "For this lab, you will code up the [char-rnn model of Karpathy](http://karpathy.github.io/2015/05/21/rnn-effectiveness/). This is a recurrent neural network that is trained probabilistically on sequences of characters, and that can then be used to sample new sequences that are like the original.\n",
        "\n",
        "This lab will help you develop several new skills, as well as understand some best practices needed for building large models. In addition, we'll be able to create networks that generate neat text!\n",
        "\n",
        "## There are two parts of this lab:\n",
        "###  1.   Wiring up a basic sequence-to-sequence computation graph\n",
        "###  2.   Implementing your own GRU cell.\n",
        "\n",
        "\n",
        "An example of my final samples are shown below (more detail in the\n",
        "final section of this writeup), after 150 passes through the data.\n",
        "Please generate about 15 samples for each dataset.\n",
        "\n",
        "<code>\n",
        "And ifte thin forgision forward thene over up to a fear not your\n",
        "And freitions, which is great God. Behold these are the loss sub\n",
        "And ache with the Lord hath bloes, which was done to the holy Gr\n",
        "And appeicis arm vinimonahites strong in name, to doth piseling \n",
        "And miniquithers these words, he commanded order not; neither sa\n",
        "And min for many would happine even to the earth, to said unto m\n",
        "And mie first be traditions? Behold, you, because it was a sound\n",
        "And from tike ended the Lamanites had administered, and I say bi\n",
        "</code>\n"
      ]
    },
    {
      "cell_type": "markdown",
      "metadata": {
        "colab_type": "text",
        "id": "c2i_QpSsWG4c"
      },
      "source": [
        "---\n",
        "\n",
        "## Part 0: Readings, data loading, and high level training\n",
        "\n",
        "---\n",
        "\n",
        "There is a tutorial here that will help build out scaffolding code, and get an understanding of using sequences in pytorch.\n",
        "\n",
        "* Read the following\n",
        "\n",
        "> * [Pytorch sequence-to-sequence tutorial](https://pytorch.org/tutorials/intermediate/seq2seq_translation_tutorial.html)\n",
        "* [Understanding LSTM Networks](http://colah.github.io/posts/2015-08-Understanding-LSTMs/)\n",
        "\n",
        "\n",
        "\n",
        "\n"
      ]
    },
    {
      "cell_type": "code",
      "metadata": {
        "id": "AcnpQh5QeBpG",
        "colab_type": "code",
        "colab": {
          "base_uri": "https://localhost:8080/",
          "height": 367
        },
        "outputId": "ae13c4a1-ef00-44bd-f6bb-20da8f3444a3"
      },
      "source": [
        "! wget -O ./text_files.tar.gz 'https://piazza.com/redirect/s3?bucket=uploads&prefix=attach%2Fjlifkda6h0x5bk%2Fhzosotq4zil49m%2Fjn13x09arfeb%2Ftext_files.tar.gz' \n",
        "! tar -xzf text_files.tar.gz\n",
        "! pip install unidecode\n",
        "! pip install torch\n",
        "import torch\n",
        "\n",
        "def char_tensor(string):\n",
        "  tensor = torch.zeros(len(string)).long()\n",
        "  for c in range(len(string)):\n",
        "      tensor[c] = all_characters.index(string[c])\n",
        "  return tensor\n"
      ],
      "execution_count": 7,
      "outputs": [
        {
          "output_type": "stream",
          "text": [
            "--2019-10-18 21:33:47--  https://piazza.com/redirect/s3?bucket=uploads&prefix=attach%2Fjlifkda6h0x5bk%2Fhzosotq4zil49m%2Fjn13x09arfeb%2Ftext_files.tar.gz\n",
            "Resolving piazza.com (piazza.com)... 3.214.17.10, 34.205.95.128, 52.2.48.133, ...\n",
            "Connecting to piazza.com (piazza.com)|3.214.17.10|:443... connected.\n",
            "HTTP request sent, awaiting response... 302 Found\n",
            "Location: https://d1b10bmlvqabco.cloudfront.net/attach/jlifkda6h0x5bk/hzosotq4zil49m/jn13x09arfeb/text_files.tar.gz [following]\n",
            "--2019-10-18 21:33:48--  https://d1b10bmlvqabco.cloudfront.net/attach/jlifkda6h0x5bk/hzosotq4zil49m/jn13x09arfeb/text_files.tar.gz\n",
            "Resolving d1b10bmlvqabco.cloudfront.net (d1b10bmlvqabco.cloudfront.net)... 99.84.170.150, 99.84.170.141, 99.84.170.226, ...\n",
            "Connecting to d1b10bmlvqabco.cloudfront.net (d1b10bmlvqabco.cloudfront.net)|99.84.170.150|:443... connected.\n",
            "HTTP request sent, awaiting response... 200 OK\n",
            "Length: 1533290 (1.5M) [application/x-gzip]\n",
            "Saving to: ‘./text_files.tar.gz’\n",
            "\n",
            "./text_files.tar.gz 100%[===================>]   1.46M  --.-KB/s    in 0.1s    \n",
            "\n",
            "2019-10-18 21:33:48 (11.2 MB/s) - ‘./text_files.tar.gz’ saved [1533290/1533290]\n",
            "\n",
            "Requirement already satisfied: unidecode in /usr/local/lib/python3.6/dist-packages (1.1.1)\n",
            "Requirement already satisfied: torch in /usr/local/lib/python3.6/dist-packages (1.3.0+cu100)\n",
            "Requirement already satisfied: numpy in /usr/local/lib/python3.6/dist-packages (from torch) (1.16.5)\n"
          ],
          "name": "stdout"
        }
      ]
    },
    {
      "cell_type": "code",
      "metadata": {
        "id": "wVlo3-8G2ESq",
        "colab_type": "code",
        "colab": {}
      },
      "source": [
        "# input_size = dimmension of vocab\n",
        "# hidden_size = dimmension of embedding (hyperparameter)\n",
        "# makes a lookup table where each row is a vector of length embedding for a character in the vocab\n",
        "  # these values are trained\n",
        "  # takes in a character like 'a' and returns the current embedding for that character.\n",
        "  # that embedding becomes the input to the network\n",
        "\n",
        "import unidecode\n",
        "import string\n",
        "import random\n",
        "import re\n",
        "import pdb\n",
        "from torch.utils.data import Dataset, DataLoader\n",
        "\n",
        "all_characters = string.printable\n",
        "n_characters = len(all_characters)\n",
        "\n",
        "\n",
        "class TextDataset(Dataset):\n",
        "  def __init__(self, chunk_len=200, file_name='./text_files/lotr.txt'):\n",
        "    self.chunk_len = chunk_len\n",
        "    self.file = unidecode.unidecode(open(file_name).read())\n",
        "    self.file = self.file[2000:]\n",
        "    self.len = len(self.file)\n",
        "  \n",
        "  def __getitem__(self):\n",
        "    pass\n",
        "  \n",
        "  def __len__(self):\n",
        "    return self.len\n",
        "  \n",
        "  def random_training_set(self):    \n",
        "    chunk = self.random_chunk(self.chunk_len)\n",
        "    inp = char_tensor(chunk[:-1])\n",
        "    target = char_tensor(chunk[1:])\n",
        "    return inp, target\n",
        "  \n",
        "  def random_chunk(self, chunk_len):\n",
        "    start_index = random.randint(0, self.len - chunk_len)\n",
        "    end_index = start_index + chunk_len + 1\n",
        "    return self.file[start_index:end_index]\n",
        "  \n",
        "\n"
      ],
      "execution_count": 0,
      "outputs": []
    },
    {
      "cell_type": "markdown",
      "metadata": {
        "colab_type": "text",
        "id": "CYJPTLcaYmfI"
      },
      "source": [
        "---\n",
        "\n",
        "## Part 4: Creating your own GRU cell \n",
        "\n",
        "**(Come back to this later - its defined here so that the GRU will be defined before it is used)**\n",
        "\n",
        "---\n",
        "\n",
        "The cell that you used in Part 1 was a pre-defined Pytorch layer. Now, write your own GRU class using the same parameters as the built-in Pytorch class does.\n",
        "\n",
        "Please try not to look at the GRU cell definition. The answer is right there in the code, and in theory, you could just cut-and-paste it. This bit is on your honor!\n",
        "\n",
        "**TODO:**\n",
        "* Create a custom GRU cell\n",
        "\n",
        "**DONE:**\n",
        "\n"
      ]
    },
    {
      "cell_type": "code",
      "metadata": {
        "colab_type": "code",
        "id": "SJ80-wMFlk1p",
        "colab": {}
      },
      "source": [
        "import torch\n",
        "import torch.nn as nn\n",
        "import torch.nn.functional as F\n",
        "from torch.nn import Parameter\n",
        "\n",
        "device = torch.device(\"cpu\") \n",
        "\n",
        "class GRU(nn.Module):\n",
        "  def __init__(self, input_size, hidden_size, num_layers):\n",
        "    super(GRU, self).__init__()\n",
        "    self.input_size = input_size\n",
        "    self.hidden_size = hidden_size\n",
        "    self.num_layers = num_layers\n",
        "    \n",
        "    self.sigmoid = nn.Sigmoid()\n",
        "    self.tanh = nn.Tanh()\n",
        "    self.W_xr = Parameter(torch.Tensor(input_size, hidden_size))\n",
        "    self.W_hr = Parameter(torch.Tensor(input_size, hidden_size))\n",
        "    self.W_xz = Parameter(torch.Tensor(input_size, hidden_size))\n",
        "    self.W_hz = Parameter(torch.Tensor(hidden_size, hidden_size))\n",
        "    self.W_xh = Parameter(torch.Tensor(input_size, hidden_size))\n",
        "    self.W_hh = Parameter(torch.Tensor(hidden_size, hidden_size))\n",
        "    self.b_r = 0\n",
        "    self.b_z = 1\n",
        "    self.b_h = 0\n",
        "\n",
        "    \n",
        "  \n",
        "  def forward(self, inputs, hidden):\n",
        "    print(self.W_xr)\n",
        "    print(inputs)\n",
        "    print(hidden)\n",
        "    r_t = self.sigmoid(torch.matmul(inputs, self.W_xr) + torch.matmul(hidden, self.W_hr) + self.b_r)\n",
        "    print(r_t)\n",
        "    z_t = self.sigmoid(torch.matmul(inputs, self.W_xz) + torch.matmul(hidden, self.W_hz) + self.b_z)\n",
        "    print(z_t)\n",
        "    ht_t = self.tanh(torch.matmul(inputs, self.W_xh) + torch.matmul(r_t * hidden, self.W_hh) + self.b_h)\n",
        "    print(ht_t)\n",
        "    h_t = (z_t * hidden) + ((1 - z_t) * ht_t)\n",
        "    print(h_t)\n",
        "    stuff = stuffs\n",
        "    hiddens = hidden #with more layers this would be all of the hidden layers for each t\n",
        "    return h_t, hiddens\n",
        "  \n"
      ],
      "execution_count": 0,
      "outputs": []
    },
    {
      "cell_type": "markdown",
      "metadata": {
        "colab_type": "text",
        "id": "qtXdX-B_WiAY"
      },
      "source": [
        "---\n",
        "\n",
        "##  Part 1: Building a sequence to sequence model\n",
        "\n",
        "---\n",
        "\n",
        "Great! We have the data in a useable form. We can switch out which text file we are reading from, and trying to simulate.\n",
        "\n",
        "We now want to build out an RNN model, in this section, we will use all built in Pytorch pieces when building our RNN class.\n",
        "\n",
        "\n",
        "**TODO:**\n",
        "* Create an RNN class that extends from nn.Module.\n",
        "\n",
        "**DONE:**\n",
        "\n"
      ]
    },
    {
      "cell_type": "code",
      "metadata": {
        "colab_type": "code",
        "id": "d6tNdEnzWj5F",
        "colab": {}
      },
      "source": [
        "class RNN(nn.Module): #This is just a decoder. There is no encoder, because we just \"decoding\" the input string to determine the next character\n",
        "  def __init__(self, input_size, hidden_size, output_size, n_layers=1):\n",
        "    super(RNN, self).__init__()\n",
        "    self.input_size = input_size\n",
        "    self.hidden_size = hidden_size\n",
        "    self.output_size = output_size\n",
        "    self.n_layers = n_layers\n",
        "    \n",
        "    self.embedding = nn.Embedding(input_size, hidden_size)\n",
        "    self.relu = nn.ReLU()\n",
        "#     self.gru = nn.GRU(input_size, hidden_size, n_layers)\n",
        "    self.gru = GRU(hidden_size, hidden_size, n_layers)\n",
        "    self.out_layer = nn.Linear(hidden_size, output_size)\n",
        "\n",
        "  def forward(self, input_char, hidden):\n",
        "    embedding = self.embedding(input_char).view(1,1,-1)\n",
        "    output, hidden = self.gru(embedding, hidden)\n",
        "    out_decoded = self.relu(self.out_layer(output))\n",
        "    return out_decoded, hidden\n",
        "\n",
        "  def init_hidden(self):\n",
        "    return torch.zeros(self.n_layers, 1, self.hidden_size)"
      ],
      "execution_count": 0,
      "outputs": []
    },
    {
      "cell_type": "markdown",
      "metadata": {
        "colab_type": "text",
        "id": "ZpiGObbBX0Mr"
      },
      "source": [
        "---\n",
        "\n",
        "## Part 2: Sample text and Training information\n",
        "\n",
        "---\n",
        "\n",
        "We now want to be able to train our network, and sample text after training.\n",
        "\n",
        "This function outlines how training a sequence style network goes. \n",
        "\n",
        "**TODO:**\n",
        "* Fill in the pieces.\n",
        "\n",
        "**DONE:**\n",
        "\n",
        "\n"
      ]
    },
    {
      "cell_type": "code",
      "metadata": {
        "colab_type": "code",
        "id": "2ALC3Pf8Kbsi",
        "colab": {
          "base_uri": "https://localhost:8080/",
          "height": 1000
        },
        "outputId": "3bedf63f-32a2-47cd-8095-ba2b3fe6695f"
      },
      "source": [
        "import time\n",
        "from matplotlib import pyplot as plt\n",
        "\n",
        "def train(n_layers, lr):\n",
        "  hidden_size = n_characters\n",
        "  in_size = n_characters\n",
        "  out_size = n_characters\n",
        "  file_name = './text_files/lotr.txt'\n",
        "  train_dataset = TextDataset(file_name=file_name)\n",
        "  decoder = RNN(in_size, hidden_size, out_size, n_layers=n_layers).to(device)\n",
        "  optimizer = torch.optim.Adam(decoder.parameters(), lr=lr)\n",
        "  objective = nn.CrossEntropyLoss()\n",
        "\n",
        "  losses = []\n",
        "  optimizer.zero_grad()\n",
        "  hidden = decoder.init_hidden()\n",
        "  n_epochs = 500\n",
        "  print_every = 30\n",
        "  plot_every = 100\n",
        "  start = time.time()\n",
        "  running_loss = 0\n",
        "  for epoch in range(1, n_epochs + 1):\n",
        "    running_loss = 0\n",
        "    optimizer.zero_grad()\n",
        "    input_string, target_string = train_dataset.random_training_set()\n",
        "    for char, target_char in zip(input_string, target_string):\n",
        "      char = char.to(device)\n",
        "      hidden = hidden.to(device)\n",
        "      out_char, hidden = decoder(char, hidden)\n",
        "      running_loss += objective(out_char.squeeze(0).to(device), target_char.unsqueeze(0).to(device))\n",
        "    loss = running_loss / len(target_string)\n",
        "    losses.append(loss)\n",
        "    running_loss.backward(retain_graph=True)\n",
        "    optimizer.step()\n",
        "\n",
        "    if epoch % print_every == 0:\n",
        "        print('[%s (%d %d%%) %.4f]' % (time.time() - start, epoch, epoch / n_epochs * 100, loss))\n",
        "        print(evaluate(decoder, 'Wh', 100), '\\n')\n",
        "\n",
        "    if epoch % plot_every == 0:\n",
        "#         losses.append(running_loss / plot_every)\n",
        "        plt.plot(range(len(losses)), losses)\n",
        "        plt.xlabel(\"Epoch: {}\".format(epoch))\n",
        "        plt.ylabel(\"Loss\")\n",
        "        plt.show()\n",
        "#         running_loss = 0\n",
        "         \n",
        "train(1, .001)"
      ],
      "execution_count": 10,
      "outputs": [
        {
          "output_type": "stream",
          "text": [
            "Parameter containing:\n",
            "tensor([[0.0000e+00, 0.0000e+00, 3.4654e-17,  ..., 4.5664e-41, 3.8242e-17,\n",
            "         4.5664e-41],\n",
            "        [3.5775e-17, 4.5664e-41, 3.8232e-17,  ..., 4.5664e-41, 3.9676e-17,\n",
            "         4.5664e-41],\n",
            "        [3.9675e-17, 4.5664e-41, 3.8372e-17,  ..., 4.5664e-41, 4.0131e-17,\n",
            "         4.5664e-41],\n",
            "        ...,\n",
            "        [3.8372e-17, 4.5664e-41, 3.9320e-17,  ..., 4.5664e-41, 3.8372e-17,\n",
            "         4.5664e-41],\n",
            "        [3.7382e-17, 4.5664e-41, 4.0131e-17,  ..., 4.5664e-41, 3.9675e-17,\n",
            "         4.5664e-41],\n",
            "        [3.8371e-17, 4.5664e-41, 3.8372e-17,  ..., 4.5664e-41, 3.6873e-17,\n",
            "         4.5664e-41]], requires_grad=True)\n",
            "tensor([[[-1.6296, -0.2722,  0.7047,  0.9434, -0.7171,  1.1091, -0.8242,\n",
            "           0.5929,  0.7432, -1.0948, -1.2820,  0.0286,  0.8831, -0.7886,\n",
            "           1.6663, -0.0164,  0.0331, -0.5906, -0.3558,  0.3220, -0.9083,\n",
            "          -0.0489, -0.3979,  1.1757, -0.5224,  0.6330, -1.1529,  0.1782,\n",
            "           0.4553, -1.5413,  0.3045, -0.5825,  1.1547,  0.7432,  1.8646,\n",
            "          -0.3083,  0.5306,  0.3770, -0.0202,  0.4201,  0.8539,  0.1603,\n",
            "          -0.4253,  1.7242,  2.5051, -1.3549,  1.6830, -0.4833, -0.7143,\n",
            "          -0.1117,  0.3395, -0.4221, -0.3816,  0.7256, -1.1116,  1.4355,\n",
            "           0.5359,  0.6334,  0.2406,  0.1010,  1.2074,  0.1043, -0.5243,\n",
            "           0.5491,  0.5628, -0.1770, -1.3517, -0.1634, -0.8610, -1.4595,\n",
            "          -1.6714, -0.6315, -1.0551,  1.4903, -1.7104, -0.9632,  0.9712,\n",
            "           1.3147, -0.9646,  0.1681,  2.5394, -0.5617, -1.0593,  0.4717,\n",
            "          -0.7352, -0.8270,  1.7074, -0.6759, -0.2610, -1.1706,  0.1490,\n",
            "          -0.5188,  0.0261, -0.3603,  0.2132,  1.5513, -0.2721,  0.8919,\n",
            "          -1.2866,  0.5045]]], grad_fn=<ViewBackward>)\n",
            "tensor([[[0., 0., 0., 0., 0., 0., 0., 0., 0., 0., 0., 0., 0., 0., 0., 0., 0., 0., 0., 0., 0., 0., 0.,\n",
            "          0., 0., 0., 0., 0., 0., 0., 0., 0., 0., 0., 0., 0., 0., 0., 0., 0., 0., 0., 0., 0., 0., 0.,\n",
            "          0., 0., 0., 0., 0., 0., 0., 0., 0., 0., 0., 0., 0., 0., 0., 0., 0., 0., 0., 0., 0., 0., 0.,\n",
            "          0., 0., 0., 0., 0., 0., 0., 0., 0., 0., 0., 0., 0., 0., 0., 0., 0., 0., 0., 0., 0., 0., 0.,\n",
            "          0., 0., 0., 0., 0., 0., 0., 0.]]])\n",
            "tensor([[[0.5000, 0.5000, 0.5000, 0.5000, 0.5000, 0.5000, 0.5000, 0.5000,\n",
            "          0.5000, 0.5000, 0.5000, 0.5000, 0.5000, 0.5000, 0.5000, 0.5000,\n",
            "          0.5000, 0.5000, 0.5000, 0.5000, 0.5000, 0.5000, 0.5000, 0.5000,\n",
            "          0.5000, 0.5000, 0.5000, 0.5000, 0.5000, 0.5000, 0.5000, 0.5000,\n",
            "          0.5000, 0.5000, 0.5000, 0.5000, 0.5000, 0.5000, 0.5000, 0.5000,\n",
            "          0.5000, 0.5000, 0.5000, 0.5000, 0.5000, 0.5000, 0.5000, 0.5000,\n",
            "          0.5000, 0.5000, 0.5000, 0.5000, 0.5000, 0.5000, 0.5000, 0.5000,\n",
            "          0.5000, 0.5000, 0.5000, 0.5000, 0.5000, 0.5000, 0.5000, 0.5000,\n",
            "          0.5000, 0.5000, 0.5000, 0.5000, 0.5000, 0.5000, 0.5000, 0.5000,\n",
            "          0.5000, 0.5000, 0.5000, 0.5000, 0.5000, 0.5000, 0.5000, 0.5000,\n",
            "          0.5000, 0.5000, 0.5000, 0.5000, 0.5000, 0.5000, 0.5000, 0.5000,\n",
            "          0.5000, 0.5000, 0.5000, 0.5000, 0.5000, 0.5000, 0.5000, 0.5000,\n",
            "          0.5000, 0.5000, 0.5000, 0.5000]]], grad_fn=<SigmoidBackward>)\n",
            "tensor([[[0.7311, 0.7311, 0.7311, 0.7311, 0.7311, 0.7311, 0.7311, 0.7311,\n",
            "          0.7311, 0.7311, 0.7311, 0.7311, 0.7311, 0.7311, 0.7311, 0.7311,\n",
            "          0.7311, 0.7311, 0.7311, 0.7311, 0.7311, 0.7311, 0.7311, 0.7311,\n",
            "          0.7311, 0.7311, 0.7311, 0.7311, 0.7311, 0.7311, 0.7311, 0.7311,\n",
            "          0.7311, 0.7311, 0.7311, 0.7311, 0.7311, 0.7311, 0.7311, 0.7311,\n",
            "          0.7311, 0.7311, 0.7311, 0.7311, 0.7311, 0.7311, 0.7311, 0.7311,\n",
            "          0.7311, 0.7311, 0.7311, 0.7311, 0.7311, 0.7311, 0.7311, 0.7311,\n",
            "          0.7311, 0.7311, 0.7311, 0.7311, 0.7311, 0.7311, 0.7311, 0.7311,\n",
            "          0.7311, 0.7311, 0.7311, 0.7311, 0.7311, 0.7311, 0.7311, 0.7311,\n",
            "          0.7311, 0.7311, 0.7311, 0.7311, 0.7311, 0.7311, 0.7311, 0.7311,\n",
            "          0.7311, 0.7311, 0.7311, 0.7311, 0.7311, 0.7311, 0.7311, 0.7311,\n",
            "          0.7311, 0.7311, 0.7311, 0.7311, 0.7311, 0.7311, 0.7311, 0.7311,\n",
            "          0.7311, 0.7311, 0.7311, 0.7311]]], grad_fn=<SigmoidBackward>)\n",
            "tensor([[[1.8602e-16, 2.0699e-40, 1.1965e-16, 1.3257e-40, 1.1295e-16,\n",
            "          1.3257e-40, 1.0580e-16, 1.3257e-40, 1.0702e-16, 1.3257e-40,\n",
            "          1.1448e-16, 1.3257e-40, 1.0941e-16, 1.3257e-40, 1.0138e-16,\n",
            "          1.3257e-40, 1.1043e-16, 1.3257e-40, 1.1212e-16, 1.3257e-40,\n",
            "          1.2046e-16, 1.3257e-40, 1.3225e-16, 1.3257e-40, 1.2886e-16,\n",
            "          1.3257e-40, 1.0297e-16, 1.3257e-40, 1.0338e-16, 1.3257e-40,\n",
            "          1.1110e-16, 1.3257e-40, 9.4982e-17, 1.3257e-40, 1.1919e-16,\n",
            "          1.3257e-40, 1.0191e-16, 1.3257e-40, 9.9011e-17, 1.3257e-40,\n",
            "          1.0164e-16, 1.3257e-40, 1.0645e-16, 1.3257e-40, 1.0160e-16,\n",
            "          1.3257e-40, 1.0737e-16, 1.3257e-40, 1.1461e-16, 1.3257e-40,\n",
            "          1.1016e-16, 1.3257e-40, 1.2272e-16, 1.3257e-40, 1.1973e-16,\n",
            "          1.3257e-40, 8.9650e-17, 1.3257e-40, 1.1742e-16, 1.3257e-40,\n",
            "          1.1836e-16, 1.3257e-40, 1.0210e-16, 1.3257e-40, 1.1058e-16,\n",
            "          1.3257e-40, 1.3316e-16, 1.3257e-40, 1.0223e-16, 1.3257e-40,\n",
            "          1.1910e-16, 1.3257e-40, 1.2863e-16, 1.3257e-40, 1.0624e-16,\n",
            "          1.3257e-40, 1.2033e-16, 1.3257e-40, 1.1576e-16, 1.3257e-40,\n",
            "          1.0915e-16, 1.3257e-40, 1.0917e-16, 1.3257e-40, 9.9388e-17,\n",
            "          1.3257e-40, 9.9137e-17, 1.3257e-40, 1.1690e-16, 1.3257e-40,\n",
            "          1.1913e-16, 1.3257e-40, 1.2457e-16, 1.3257e-40, 8.9278e-17,\n",
            "          1.3257e-40, 1.2040e-16, 1.3257e-40, 1.2604e-16, 1.3257e-40]]],\n",
            "       grad_fn=<TanhBackward>)\n",
            "tensor([[[5.0029e-17, 5.5668e-41, 3.2179e-17, 3.5653e-41, 3.0377e-17,\n",
            "          3.5653e-41, 2.8454e-17, 3.5653e-41, 2.8782e-17, 3.5653e-41,\n",
            "          3.0788e-17, 3.5653e-41, 2.9425e-17, 3.5653e-41, 2.7265e-17,\n",
            "          3.5653e-41, 2.9699e-17, 3.5653e-41, 3.0155e-17, 3.5653e-41,\n",
            "          3.2396e-17, 3.5653e-41, 3.5568e-17, 3.5653e-41, 3.4656e-17,\n",
            "          3.5653e-41, 2.7692e-17, 3.5653e-41, 2.7804e-17, 3.5653e-41,\n",
            "          2.9879e-17, 3.5653e-41, 2.5545e-17, 3.5653e-41, 3.2056e-17,\n",
            "          3.5653e-41, 2.7408e-17, 3.5653e-41, 2.6628e-17, 3.5653e-41,\n",
            "          2.7335e-17, 3.5653e-41, 2.8630e-17, 3.5653e-41, 2.7325e-17,\n",
            "          3.5653e-41, 2.8876e-17, 3.5653e-41, 3.0822e-17, 3.5653e-41,\n",
            "          2.9626e-17, 3.5653e-41, 3.3003e-17, 3.5653e-41, 3.2202e-17,\n",
            "          3.5653e-41, 2.4111e-17, 3.5653e-41, 3.1578e-17, 3.5653e-41,\n",
            "          3.1832e-17, 3.5653e-41, 2.7458e-17, 3.5653e-41, 2.9740e-17,\n",
            "          3.5653e-41, 3.5814e-17, 3.5653e-41, 2.7494e-17, 3.5653e-41,\n",
            "          3.2032e-17, 3.5653e-41, 3.4593e-17, 3.5653e-41, 2.8572e-17,\n",
            "          3.5653e-41, 3.2361e-17, 3.5653e-41, 3.1132e-17, 3.5653e-41,\n",
            "          2.9355e-17, 3.5653e-41, 2.9361e-17, 3.5653e-41, 2.6729e-17,\n",
            "          3.5653e-41, 2.6662e-17, 3.5653e-41, 3.1439e-17, 3.5653e-41,\n",
            "          3.2040e-17, 3.5653e-41, 3.3503e-17, 3.5653e-41, 2.4011e-17,\n",
            "          3.5653e-41, 3.2380e-17, 3.5653e-41, 3.3897e-17, 3.5653e-41]]],\n",
            "       grad_fn=<AddBackward0>)\n"
          ],
          "name": "stdout"
        },
        {
          "output_type": "error",
          "ename": "NameError",
          "evalue": "ignored",
          "traceback": [
            "\u001b[0;31m---------------------------------------------------------------------------\u001b[0m",
            "\u001b[0;31mNameError\u001b[0m                                 Traceback (most recent call last)",
            "\u001b[0;32m<ipython-input-10-8d187d72ea4e>\u001b[0m in \u001b[0;36m<module>\u001b[0;34m()\u001b[0m\n\u001b[1;32m     46\u001b[0m \u001b[0;31m#         running_loss = 0\u001b[0m\u001b[0;34m\u001b[0m\u001b[0;34m\u001b[0m\u001b[0;34m\u001b[0m\u001b[0m\n\u001b[1;32m     47\u001b[0m \u001b[0;34m\u001b[0m\u001b[0m\n\u001b[0;32m---> 48\u001b[0;31m \u001b[0mtrain\u001b[0m\u001b[0;34m(\u001b[0m\u001b[0;36m1\u001b[0m\u001b[0;34m,\u001b[0m \u001b[0;36m.001\u001b[0m\u001b[0;34m)\u001b[0m\u001b[0;34m\u001b[0m\u001b[0;34m\u001b[0m\u001b[0m\n\u001b[0m",
            "\u001b[0;32m<ipython-input-10-8d187d72ea4e>\u001b[0m in \u001b[0;36mtrain\u001b[0;34m(n_layers, lr)\u001b[0m\n\u001b[1;32m     27\u001b[0m       \u001b[0mchar\u001b[0m \u001b[0;34m=\u001b[0m \u001b[0mchar\u001b[0m\u001b[0;34m.\u001b[0m\u001b[0mto\u001b[0m\u001b[0;34m(\u001b[0m\u001b[0mdevice\u001b[0m\u001b[0;34m)\u001b[0m\u001b[0;34m\u001b[0m\u001b[0;34m\u001b[0m\u001b[0m\n\u001b[1;32m     28\u001b[0m       \u001b[0mhidden\u001b[0m \u001b[0;34m=\u001b[0m \u001b[0mhidden\u001b[0m\u001b[0;34m.\u001b[0m\u001b[0mto\u001b[0m\u001b[0;34m(\u001b[0m\u001b[0mdevice\u001b[0m\u001b[0;34m)\u001b[0m\u001b[0;34m\u001b[0m\u001b[0;34m\u001b[0m\u001b[0m\n\u001b[0;32m---> 29\u001b[0;31m       \u001b[0mout_char\u001b[0m\u001b[0;34m,\u001b[0m \u001b[0mhidden\u001b[0m \u001b[0;34m=\u001b[0m \u001b[0mdecoder\u001b[0m\u001b[0;34m(\u001b[0m\u001b[0mchar\u001b[0m\u001b[0;34m,\u001b[0m \u001b[0mhidden\u001b[0m\u001b[0;34m)\u001b[0m\u001b[0;34m\u001b[0m\u001b[0;34m\u001b[0m\u001b[0m\n\u001b[0m\u001b[1;32m     30\u001b[0m       \u001b[0mrunning_loss\u001b[0m \u001b[0;34m+=\u001b[0m \u001b[0mobjective\u001b[0m\u001b[0;34m(\u001b[0m\u001b[0mout_char\u001b[0m\u001b[0;34m.\u001b[0m\u001b[0msqueeze\u001b[0m\u001b[0;34m(\u001b[0m\u001b[0;36m0\u001b[0m\u001b[0;34m)\u001b[0m\u001b[0;34m.\u001b[0m\u001b[0mto\u001b[0m\u001b[0;34m(\u001b[0m\u001b[0mdevice\u001b[0m\u001b[0;34m)\u001b[0m\u001b[0;34m,\u001b[0m \u001b[0mtarget_char\u001b[0m\u001b[0;34m.\u001b[0m\u001b[0munsqueeze\u001b[0m\u001b[0;34m(\u001b[0m\u001b[0;36m0\u001b[0m\u001b[0;34m)\u001b[0m\u001b[0;34m.\u001b[0m\u001b[0mto\u001b[0m\u001b[0;34m(\u001b[0m\u001b[0mdevice\u001b[0m\u001b[0;34m)\u001b[0m\u001b[0;34m)\u001b[0m\u001b[0;34m\u001b[0m\u001b[0;34m\u001b[0m\u001b[0m\n\u001b[1;32m     31\u001b[0m     \u001b[0mloss\u001b[0m \u001b[0;34m=\u001b[0m \u001b[0mrunning_loss\u001b[0m \u001b[0;34m/\u001b[0m \u001b[0mlen\u001b[0m\u001b[0;34m(\u001b[0m\u001b[0mtarget_string\u001b[0m\u001b[0;34m)\u001b[0m\u001b[0;34m\u001b[0m\u001b[0;34m\u001b[0m\u001b[0m\n",
            "\u001b[0;32m/usr/local/lib/python3.6/dist-packages/torch/nn/modules/module.py\u001b[0m in \u001b[0;36m__call__\u001b[0;34m(self, *input, **kwargs)\u001b[0m\n\u001b[1;32m    539\u001b[0m             \u001b[0mresult\u001b[0m \u001b[0;34m=\u001b[0m \u001b[0mself\u001b[0m\u001b[0;34m.\u001b[0m\u001b[0m_slow_forward\u001b[0m\u001b[0;34m(\u001b[0m\u001b[0;34m*\u001b[0m\u001b[0minput\u001b[0m\u001b[0;34m,\u001b[0m \u001b[0;34m**\u001b[0m\u001b[0mkwargs\u001b[0m\u001b[0;34m)\u001b[0m\u001b[0;34m\u001b[0m\u001b[0;34m\u001b[0m\u001b[0m\n\u001b[1;32m    540\u001b[0m         \u001b[0;32melse\u001b[0m\u001b[0;34m:\u001b[0m\u001b[0;34m\u001b[0m\u001b[0;34m\u001b[0m\u001b[0m\n\u001b[0;32m--> 541\u001b[0;31m             \u001b[0mresult\u001b[0m \u001b[0;34m=\u001b[0m \u001b[0mself\u001b[0m\u001b[0;34m.\u001b[0m\u001b[0mforward\u001b[0m\u001b[0;34m(\u001b[0m\u001b[0;34m*\u001b[0m\u001b[0minput\u001b[0m\u001b[0;34m,\u001b[0m \u001b[0;34m**\u001b[0m\u001b[0mkwargs\u001b[0m\u001b[0;34m)\u001b[0m\u001b[0;34m\u001b[0m\u001b[0;34m\u001b[0m\u001b[0m\n\u001b[0m\u001b[1;32m    542\u001b[0m         \u001b[0;32mfor\u001b[0m \u001b[0mhook\u001b[0m \u001b[0;32min\u001b[0m \u001b[0mself\u001b[0m\u001b[0;34m.\u001b[0m\u001b[0m_forward_hooks\u001b[0m\u001b[0;34m.\u001b[0m\u001b[0mvalues\u001b[0m\u001b[0;34m(\u001b[0m\u001b[0;34m)\u001b[0m\u001b[0;34m:\u001b[0m\u001b[0;34m\u001b[0m\u001b[0;34m\u001b[0m\u001b[0m\n\u001b[1;32m    543\u001b[0m             \u001b[0mhook_result\u001b[0m \u001b[0;34m=\u001b[0m \u001b[0mhook\u001b[0m\u001b[0;34m(\u001b[0m\u001b[0mself\u001b[0m\u001b[0;34m,\u001b[0m \u001b[0minput\u001b[0m\u001b[0;34m,\u001b[0m \u001b[0mresult\u001b[0m\u001b[0;34m)\u001b[0m\u001b[0;34m\u001b[0m\u001b[0;34m\u001b[0m\u001b[0m\n",
            "\u001b[0;32m<ipython-input-6-2e02995140a4>\u001b[0m in \u001b[0;36mforward\u001b[0;34m(self, input_char, hidden)\u001b[0m\n\u001b[1;32m     15\u001b[0m   \u001b[0;32mdef\u001b[0m \u001b[0mforward\u001b[0m\u001b[0;34m(\u001b[0m\u001b[0mself\u001b[0m\u001b[0;34m,\u001b[0m \u001b[0minput_char\u001b[0m\u001b[0;34m,\u001b[0m \u001b[0mhidden\u001b[0m\u001b[0;34m)\u001b[0m\u001b[0;34m:\u001b[0m\u001b[0;34m\u001b[0m\u001b[0;34m\u001b[0m\u001b[0m\n\u001b[1;32m     16\u001b[0m     \u001b[0membedding\u001b[0m \u001b[0;34m=\u001b[0m \u001b[0mself\u001b[0m\u001b[0;34m.\u001b[0m\u001b[0membedding\u001b[0m\u001b[0;34m(\u001b[0m\u001b[0minput_char\u001b[0m\u001b[0;34m)\u001b[0m\u001b[0;34m.\u001b[0m\u001b[0mview\u001b[0m\u001b[0;34m(\u001b[0m\u001b[0;36m1\u001b[0m\u001b[0;34m,\u001b[0m\u001b[0;36m1\u001b[0m\u001b[0;34m,\u001b[0m\u001b[0;34m-\u001b[0m\u001b[0;36m1\u001b[0m\u001b[0;34m)\u001b[0m\u001b[0;34m\u001b[0m\u001b[0;34m\u001b[0m\u001b[0m\n\u001b[0;32m---> 17\u001b[0;31m     \u001b[0moutput\u001b[0m\u001b[0;34m,\u001b[0m \u001b[0mhidden\u001b[0m \u001b[0;34m=\u001b[0m \u001b[0mself\u001b[0m\u001b[0;34m.\u001b[0m\u001b[0mgru\u001b[0m\u001b[0;34m(\u001b[0m\u001b[0membedding\u001b[0m\u001b[0;34m,\u001b[0m \u001b[0mhidden\u001b[0m\u001b[0;34m)\u001b[0m\u001b[0;34m\u001b[0m\u001b[0;34m\u001b[0m\u001b[0m\n\u001b[0m\u001b[1;32m     18\u001b[0m     \u001b[0mout_decoded\u001b[0m \u001b[0;34m=\u001b[0m \u001b[0mself\u001b[0m\u001b[0;34m.\u001b[0m\u001b[0mrelu\u001b[0m\u001b[0;34m(\u001b[0m\u001b[0mself\u001b[0m\u001b[0;34m.\u001b[0m\u001b[0mout_layer\u001b[0m\u001b[0;34m(\u001b[0m\u001b[0moutput\u001b[0m\u001b[0;34m)\u001b[0m\u001b[0;34m)\u001b[0m\u001b[0;34m\u001b[0m\u001b[0;34m\u001b[0m\u001b[0m\n\u001b[1;32m     19\u001b[0m     \u001b[0;32mreturn\u001b[0m \u001b[0mout_decoded\u001b[0m\u001b[0;34m,\u001b[0m \u001b[0mhidden\u001b[0m\u001b[0;34m\u001b[0m\u001b[0;34m\u001b[0m\u001b[0m\n",
            "\u001b[0;32m/usr/local/lib/python3.6/dist-packages/torch/nn/modules/module.py\u001b[0m in \u001b[0;36m__call__\u001b[0;34m(self, *input, **kwargs)\u001b[0m\n\u001b[1;32m    539\u001b[0m             \u001b[0mresult\u001b[0m \u001b[0;34m=\u001b[0m \u001b[0mself\u001b[0m\u001b[0;34m.\u001b[0m\u001b[0m_slow_forward\u001b[0m\u001b[0;34m(\u001b[0m\u001b[0;34m*\u001b[0m\u001b[0minput\u001b[0m\u001b[0;34m,\u001b[0m \u001b[0;34m**\u001b[0m\u001b[0mkwargs\u001b[0m\u001b[0;34m)\u001b[0m\u001b[0;34m\u001b[0m\u001b[0;34m\u001b[0m\u001b[0m\n\u001b[1;32m    540\u001b[0m         \u001b[0;32melse\u001b[0m\u001b[0;34m:\u001b[0m\u001b[0;34m\u001b[0m\u001b[0;34m\u001b[0m\u001b[0m\n\u001b[0;32m--> 541\u001b[0;31m             \u001b[0mresult\u001b[0m \u001b[0;34m=\u001b[0m \u001b[0mself\u001b[0m\u001b[0;34m.\u001b[0m\u001b[0mforward\u001b[0m\u001b[0;34m(\u001b[0m\u001b[0;34m*\u001b[0m\u001b[0minput\u001b[0m\u001b[0;34m,\u001b[0m \u001b[0;34m**\u001b[0m\u001b[0mkwargs\u001b[0m\u001b[0;34m)\u001b[0m\u001b[0;34m\u001b[0m\u001b[0;34m\u001b[0m\u001b[0m\n\u001b[0m\u001b[1;32m    542\u001b[0m         \u001b[0;32mfor\u001b[0m \u001b[0mhook\u001b[0m \u001b[0;32min\u001b[0m \u001b[0mself\u001b[0m\u001b[0;34m.\u001b[0m\u001b[0m_forward_hooks\u001b[0m\u001b[0;34m.\u001b[0m\u001b[0mvalues\u001b[0m\u001b[0;34m(\u001b[0m\u001b[0;34m)\u001b[0m\u001b[0;34m:\u001b[0m\u001b[0;34m\u001b[0m\u001b[0;34m\u001b[0m\u001b[0m\n\u001b[1;32m    543\u001b[0m             \u001b[0mhook_result\u001b[0m \u001b[0;34m=\u001b[0m \u001b[0mhook\u001b[0m\u001b[0;34m(\u001b[0m\u001b[0mself\u001b[0m\u001b[0;34m,\u001b[0m \u001b[0minput\u001b[0m\u001b[0;34m,\u001b[0m \u001b[0mresult\u001b[0m\u001b[0;34m)\u001b[0m\u001b[0;34m\u001b[0m\u001b[0;34m\u001b[0m\u001b[0m\n",
            "\u001b[0;32m<ipython-input-9-72cbe90334d7>\u001b[0m in \u001b[0;36mforward\u001b[0;34m(self, inputs, hidden)\u001b[0m\n\u001b[1;32m     39\u001b[0m     \u001b[0mh_t\u001b[0m \u001b[0;34m=\u001b[0m \u001b[0;34m(\u001b[0m\u001b[0mz_t\u001b[0m \u001b[0;34m*\u001b[0m \u001b[0mhidden\u001b[0m\u001b[0;34m)\u001b[0m \u001b[0;34m+\u001b[0m \u001b[0;34m(\u001b[0m\u001b[0;34m(\u001b[0m\u001b[0;36m1\u001b[0m \u001b[0;34m-\u001b[0m \u001b[0mz_t\u001b[0m\u001b[0;34m)\u001b[0m \u001b[0;34m*\u001b[0m \u001b[0mht_t\u001b[0m\u001b[0;34m)\u001b[0m\u001b[0;34m\u001b[0m\u001b[0;34m\u001b[0m\u001b[0m\n\u001b[1;32m     40\u001b[0m     \u001b[0mprint\u001b[0m\u001b[0;34m(\u001b[0m\u001b[0mh_t\u001b[0m\u001b[0;34m)\u001b[0m\u001b[0;34m\u001b[0m\u001b[0;34m\u001b[0m\u001b[0m\n\u001b[0;32m---> 41\u001b[0;31m     \u001b[0mstuff\u001b[0m \u001b[0;34m=\u001b[0m \u001b[0mstuffs\u001b[0m\u001b[0;34m\u001b[0m\u001b[0;34m\u001b[0m\u001b[0m\n\u001b[0m\u001b[1;32m     42\u001b[0m     \u001b[0mhiddens\u001b[0m \u001b[0;34m=\u001b[0m \u001b[0mhidden\u001b[0m \u001b[0;31m#with more layers this would be all of the hidden layers for each t\u001b[0m\u001b[0;34m\u001b[0m\u001b[0;34m\u001b[0m\u001b[0m\n\u001b[1;32m     43\u001b[0m     \u001b[0;32mreturn\u001b[0m \u001b[0mh_t\u001b[0m\u001b[0;34m,\u001b[0m \u001b[0mhiddens\u001b[0m\u001b[0;34m\u001b[0m\u001b[0;34m\u001b[0m\u001b[0m\n",
            "\u001b[0;31mNameError\u001b[0m: name 'stuffs' is not defined"
          ]
        }
      ]
    },
    {
      "cell_type": "markdown",
      "metadata": {
        "colab_type": "text",
        "id": "EN06NUu3YRlz"
      },
      "source": [
        "---\n",
        "\n",
        "## Part 3: Sample text and Training information\n",
        "\n",
        "---\n",
        "\n",
        "You can at this time, if you choose, also write out your train loop boilerplate that samples random sequences and trains your RNN. This will be helpful to have working before writing your own GRU class.\n",
        "\n",
        "If you are finished training, or during training, and you want to sample from the network you may consider using the following function. If your RNN model is instantiated as `decoder`then this will probabilistically sample a sequence of length `predict_len`\n",
        "\n",
        "**TODO:**\n",
        "* Fill out the evaluate function to generate text frome a primed string\n",
        "\n",
        "**DONE:**\n",
        "\n"
      ]
    },
    {
      "cell_type": "code",
      "metadata": {
        "colab_type": "code",
        "id": "B-bp-OZ1KjNh",
        "colab": {}
      },
      "source": [
        "sftmx = nn.Softmax()\n",
        "\n",
        "def evaluate(decoder, prime_str='A', predict_len=100, temperature=0.8):\n",
        "  hidden = decoder.init_hidden()\n",
        "  input_str = char_tensor(prime_str)\n",
        "  \n",
        "  for i in range(len(input_str) - 1):\n",
        "    _, hidden = decoder(input_str[i].to(device), hidden.to(device))\n",
        "    \n",
        "  eval_input = input_str[-1]\n",
        "  \n",
        "  predicted = prime_str\n",
        "  for char in range(predict_len):\n",
        "    out, hidden = decoder(eval_input.to(device), hidden.to(device))\n",
        "#     distribution = out.view(-1)\n",
        "    distribution = out.view(-1)\n",
        "    probs = distribution / temperature\n",
        "    sftmx_probs = sftmx(probs)\n",
        "    candidate = torch.multinomial(sftmx_probs, 1)[0]\n",
        "    next_char = all_characters[candidate]\n",
        "    eval_input = char_tensor(next_char)\n",
        "    predicted += next_char\n",
        "    \n",
        "  return predicted\n",
        "  "
      ],
      "execution_count": 0,
      "outputs": []
    },
    {
      "cell_type": "markdown",
      "metadata": {
        "colab_type": "text",
        "id": "Du4AGA8PcFEW"
      },
      "source": [
        "---\n",
        "\n",
        "## Part 4: (Create a GRU cell, requirements above)\n",
        "\n",
        "---\n"
      ]
    },
    {
      "cell_type": "markdown",
      "metadata": {
        "colab_type": "text",
        "id": "GFS2bpHSZEU6"
      },
      "source": [
        "\n",
        "---\n",
        "\n",
        "## Part 5: Run it and generate some text!\n",
        "\n",
        "---\n",
        "\n",
        "Assuming everything has gone well, you should be able to run the main function in the scaffold code, using either your custom GRU cell or the built in layer, and see output something like this. I trained on the “lotr.txt” dataset, using chunk_length=200, hidden_size=100 for 2000 epochs gave.\n",
        "\n",
        "**TODO:** \n",
        "* Create some cool output\n",
        "\n",
        "**DONE:**\n",
        "\n"
      ]
    },
    {
      "cell_type": "code",
      "metadata": {
        "colab_type": "code",
        "id": "-nXFeCmdKodw",
        "colab": {}
      },
      "source": [
        "train(1, .001)"
      ],
      "execution_count": 0,
      "outputs": []
    },
    {
      "cell_type": "code",
      "metadata": {
        "colab_type": "code",
        "id": "Ee0so6aKJ5L8",
        "colab": {}
      },
      "source": [
        "for i in range(10):\n",
        "  start_strings = [\" Th\", \" wh\", \" he\", \" I \", \" ca\", \" G\", \" lo\", \" ra\"]\n",
        "  start = random.randint(0,len(start_strings)-1)\n",
        "  print(start_strings[start])\n",
        "#   all_characters.index(string[c])\n",
        "  print(evaluate(start_strings[start], 200), '\\n')"
      ],
      "execution_count": 0,
      "outputs": []
    },
    {
      "cell_type": "markdown",
      "metadata": {
        "colab_type": "text",
        "id": "YJhgDc2IauPE"
      },
      "source": [
        "---\n",
        "\n",
        "## Part 6: Generate output on a different dataset\n",
        "\n",
        "---\n",
        "\n",
        "**TODO:**\n",
        "\n",
        "* Choose a textual dataset. Here are some [text datasets](https://www.kaggle.com/datasets?tags=14104-text+data%2C13205-text+mining) from Kaggle \n",
        "\n",
        "* Generate some decent looking results and evaluate your model's performance (say what it did well / not so well)\n",
        "\n",
        "**DONE:**\n",
        "\n"
      ]
    }
  ]
}