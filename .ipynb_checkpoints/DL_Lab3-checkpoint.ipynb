{
 "cells": [
  {
   "cell_type": "markdown",
   "metadata": {
    "colab_type": "text",
    "id": "view-in-github"
   },
   "source": [
    "<a href=\"https://colab.research.google.com/github/ALMerrill/cs474_labs_f2019/blob/master/DL_Lab3.ipynb\" target=\"_parent\"><img src=\"https://colab.research.google.com/assets/colab-badge.svg\" alt=\"Open In Colab\"/></a>"
   ]
  },
  {
   "cell_type": "markdown",
   "metadata": {
    "colab_type": "text",
    "id": "gc6Q2237c4yK"
   },
   "source": [
    "<a href=\"https://colab.research.google.com/github/ALMerrill/cs474_labs_f2019/blob/master/DL_Lab3.ipynb\" target=\"_parent\"><img src=\"https://colab.research.google.com/assets/colab-badge.svg\" alt=\"Open In Colab\"/></a>"
   ]
  },
  {
   "cell_type": "markdown",
   "metadata": {
    "colab_type": "text",
    "id": "view-in-github"
   },
   "source": [
    "# Lab 3: Intro to CNNs and DNNs\n",
    "\n",
    "## Objectives\n",
    "\n",
    "* Build and train a deep conv net\n",
    "* Explore and implement various initialization techniques\n",
    "* Implement a parameterized module in Pytorch\n",
    "* Use a principled loss function\n",
    "\n",
    "## Video Tutorial\n",
    "[https://youtu.be/3TAuTcx-VCc](https://youtu.be/3TAuTcx-VCc)\n",
    "\n",
    "## Deliverable\n",
    "For this lab, you will submit an ipython notebook via learningsuite.\n",
    "This is where you build your first deep neural network!\n",
    "\n",
    "For this lab, we'll be combining several different concepts that we've covered during class,\n",
    "including new layer types, initialization strategies, and an understanding of convolutions.\n",
    "\n",
    "## Grading Standards:\n",
    "* 30% Part 0: Successfully followed lab video and typed in code\n",
    "* 20% Part 1: Re-implement Conv2D and CrossEntropy loss function\n",
    "* 20% Part 2: Implement different initialization strategies\n",
    "* 10% Part 3: Print parameters, plot train/test accuracy\n",
    "* 10% Part 4: Convolution parameters quiz\n",
    "* 10% Tidy and legible figures, including labeled axes where appropriate\n",
    "___\n",
    "\n",
    "### Part 0\n",
    "Watch and follow video tutorial:\n",
    "\n",
    "[https://youtu.be/3TAuTcx-VCc](https://youtu.be/3TAuTcx-VCc)\n",
    "\n",
    "**TODO:**\n",
    "\n",
    "* Watch tutorial\n",
    "\n",
    "**DONE:**\n",
    "\n",
    "* Watch tutorial"
   ]
  },
  {
   "cell_type": "code",
   "execution_count": 0,
   "metadata": {
    "colab": {},
    "colab_type": "code",
    "id": "HNAUhHI0c4yR",
    "pycharm": {
     "name": "#%%\n"
    }
   },
   "outputs": [],
   "source": [
    "!pip3 install torch\n",
    "!pip3 install torchvision\n",
    "!pip3 install tqdm"
   ]
  },
  {
   "cell_type": "code",
   "execution_count": 0,
   "metadata": {
    "colab": {},
    "colab_type": "code",
    "id": "wQOefmcZVgTl"
   },
   "outputs": [],
   "source": [
    "import torch\n",
    "import torch.nn as nn\n",
    "import torch.nn.functional as F\n",
    "import torch.optim as optim\n",
    "from torch.utils.data import Dataset, DataLoader\n",
    "import numpy as np\n",
    "import matplotlib.pyplot as plt\n",
    "from torchvision import transforms, utils, datasets\n",
    "from tqdm import tqdm\n",
    "from torch.nn.parameter import Parameter\n",
    "import pdb\n",
    "from torch.nn.parameter import Parameter\n",
    "import pdb\n",
    "\n",
    "assert torch.cuda.is_available()"
   ]
  },
  {
   "cell_type": "markdown",
   "metadata": {
    "colab_type": "text",
    "id": "QY4owfQwm-Ni"
   },
   "source": [
    "___\n",
    "\n",
    "### Part 1\n",
    "Re-implement a Conv2D module with parameters and a CrossEntropy loss function.\n",
    "\n",
    "**TODO:**\n",
    "\n",
    "* CrossEntropyLoss \n",
    "* Conv2D\n",
    "\n",
    "**DONE:**\n",
    "\n",
    "* CrossEntropyLoss\n",
    "* Conv2D\n",
    "___\n",
    "\n",
    "### Part 2\n",
    "Implement a few initialization strategies which can include Xe initialization\n",
    "(sometimes called Xavier), Orthogonal initialization, and uniform random.\n",
    "You can specify which strategy you want to use with a parameter. \n",
    "\n",
    "\n",
    "\n",
    "Helpful links include:\n",
    "*  [Orthogonal Initialization](https://hjweide.github.io/orthogonal-initialization-in-convolutional-layers) (or the original paper: http://arxiv.org/abs/1312.6120)\n",
    "*  http://andyljones.tumblr.com/post/110998971763/an-explanation-of-xavier-initialization\n",
    "\n",
    "**TODO:**\n",
    "* Parameterize custom Conv2D for different initilization strategies\n",
    "* Xe\n",
    "* Orthogonal\n",
    "* Uniform\n",
    "\n",
    "**DONE:**\n",
    "* Parameterize custom Conv2D for different initilization strategies\n",
    "* Xe\n",
    "* Orthogonal\n",
    "* Uniform\n"
   ]
  },
  {
   "cell_type": "code",
   "execution_count": 0,
   "metadata": {
    "colab": {},
    "colab_type": "code",
    "id": "RkieTbwlYWPS"
   },
   "outputs": [],
   "source": [
    "class Conv2d(nn.Module):\n",
    "  def __init__(self, n_channels, out_channels, kernel_size, stride=1, \n",
    "               padding=0, dilation=1, groups=1, \n",
    "               bias=True, initial='Xe'):\n",
    "    self.__dict__.update(locals())\n",
    "    super(Conv2d, self).__init__()\n",
    "    \n",
    "    self.weight = Parameter(torch.Tensor(out_channels, \n",
    "                               n_channels,\n",
    "                               *kernel_size))\n",
    "    if self.initial == 'Uniform':\n",
    "      self.weight.data.uniform(-1,1)\n",
    "    elif self.initial == 'Xe':\n",
    "      nn.init.xavier_uniform_(self.weight)\n",
    "    elif self.initial == 'Orth':\n",
    "      M = np.random.random((out_channels, n_channels*kernel_size[0]*kernel_size[1])).astype(np.float32)\n",
    "      U, _, Vt = np.linalg.svd(M,full_matrices=False)\n",
    "      if len(M) > len(M[0]):\n",
    "        W = U.reshape((out_channels, n_channels, kernel_size[0], kernel_size[1]))\n",
    "      else:\n",
    "        W = Vt.reshape((out_channels, n_channels, kernel_size[0], kernel_size[1]))\n",
    "      self.weight.data = torch.from_numpy(W)\n",
    "      \n",
    "    \n",
    "    self.bias = Parameter(torch.Tensor(out_channels))\n",
    "    self.bias.data.uniform_(0,0)\n",
    "    \n",
    "  def forward(self, x):\n",
    "    return F.conv2d(x, self.weight, self.bias, self.stride, \n",
    "                    self.padding, self.dilation, self.groups)\n",
    "\n",
    "class CrossEntropyLoss(nn.Module):\n",
    "  def __init__(self, weight=None, size_average=None, ignore_index=-100, reduce=None, reduction='elementwise_mean'):\n",
    "    super(CrossEntropyLoss, self).__init__()\n",
    "  \n",
    "\n",
    "  \n",
    "\n",
    "  def forward(self, y_hat, y_truth):\n",
    "    wrong_class_penalty = torch.log(torch.sum(torch.exp(y_hat), dim=1))\n",
    "    n, classes = y_hat.size()\n",
    "    mask = torch.zeros((n,classes))\n",
    "    mask[np.arange(n), y_truth] = 1\n",
    "    true_class_preds = torch.sum(y_hat * mask.cuda(), dim=1)\n",
    "    return torch.mean(-true_class_preds + wrong_class_penalty) #mean across batch\n",
    "  \n"
   ]
  },
  {
   "cell_type": "code",
   "execution_count": 0,
   "metadata": {
    "colab": {},
    "colab_type": "code",
    "id": "SPibEq4SdRhg"
   },
   "outputs": [],
   "source": [
    "class ConvNetwork(nn.Module):\n",
    "  def __init__(self, dataset):\n",
    "    super(ConvNetwork, self).__init__()\n",
    "    x, y = dataset[0]\n",
    "    c, h, w = x.size()\n",
    "    dim1 = 128\n",
    "    dim2 = 128\n",
    "    dim3 = 128\n",
    "    dim4 = 64\n",
    "    dim5 = 64\n",
    "    dim6 = 64\n",
    "    output = 10\n",
    "    image_size = (28,28)\n",
    "    initial = 'Orth'\n",
    "    self.net = nn.Sequential(\n",
    "        Conv2d(c, dim1, (5,5), padding=(2,2), initial=initial),\n",
    "        nn.ReLU(),\n",
    "        Conv2d(dim1, dim2, (3,3), padding=(1,1), initial=initial),\n",
    "        nn.ReLU(),\n",
    "        Conv2d(dim2, dim3, (3,3), padding=(1,1), initial=initial),\n",
    "        nn.ReLU(),\n",
    "        Conv2d(dim3, dim4, (5,5), padding=(2,2), initial=initial),\n",
    "        nn.ReLU(),\n",
    "        Conv2d(dim4, dim5, (3,3), padding=(1,1), initial=initial),\n",
    "        nn.ReLU(),\n",
    "        Conv2d(dim5, dim6, (3,3), padding=(1,1), initial=initial),\n",
    "        nn.ReLU(),\n",
    "        Conv2d(dim6, output, (28,28), padding=(0,0), initial=initial)\n",
    "    )\n",
    "  \n",
    "  def forward(self, x):\n",
    "    return self.net(x).squeeze(2).squeeze(2)\n",
    "\n",
    "transform = transforms.ToTensor()\n",
    "  \n",
    "  \n",
    "class FashionMNISTProcessedDataset(Dataset):\n",
    "  def __init__(self, root, train=True):\n",
    "    self.data = datasets.FashionMNIST(root, \n",
    "                                      train=train, \n",
    "                                      transform=transform, \n",
    "                                      download=True)\n",
    "    \n",
    "  def __getitem__(self, i):\n",
    "    x, y = self.data[i]\n",
    "    return x, y\n",
    "  \n",
    "  def __len__(self):\n",
    "    return len(self.data)"
   ]
  },
  {
   "cell_type": "code",
   "execution_count": 0,
   "metadata": {
    "colab": {},
    "colab_type": "code",
    "id": "uziQ6wWhdBk-",
    "pycharm": {
     "is_executing": false
    }
   },
   "outputs": [],
   "source": [
    "  \n",
    "train_dataset = FashionMNISTProcessedDataset('/tmp/fashionmnist', train=True)\n",
    "val_dataset = FashionMNISTProcessedDataset('/tmp/fashionmnist', train=False)\n",
    "model = ConvNetwork(train_dataset)\n",
    "model = model.cuda()\n",
    "objective = CrossEntropyLoss()\n",
    "optimizer = optim.Adam(model.parameters(), lr=1e-3)\n",
    "\n",
    "batch_size = 100\n",
    "\n",
    "train_loader = DataLoader(train_dataset,\n",
    "                         batch_size=batch_size,\n",
    "                         pin_memory=True)\n",
    "val_loader = DataLoader(val_dataset,\n",
    "                       batch_size=batch_size,\n",
    "                       pin_memory=True)\n",
    "\n",
    "data_loaders = {'train': train_loader, 'val': val_loader}\n",
    "\n",
    "losses = []\n",
    "validations = []\n",
    "train_acc = []\n",
    "val_acc = []\n"
   ]
  },
  {
   "cell_type": "markdown",
   "metadata": {
    "colab_type": "text",
    "id": "Gr2xYrNldiQH"
   },
   "source": [
    "## Training"
   ]
  },
  {
   "cell_type": "code",
   "execution_count": 21,
   "metadata": {
    "colab": {
     "base_uri": "https://localhost:8080/",
     "height": 269
    },
    "colab_type": "code",
    "id": "XAGmnKZfdBWz",
    "outputId": "10e1ff39-e1ea-4df4-9933-523eba3ac744",
    "pycharm": {
     "is_executing": false
    }
   },
   "outputs": [
    {
     "name": "stderr",
     "output_type": "stream",
     "text": []
    },
    {
     "data": {
      "image/png": "[encoded data removed]",
      "text/plain": [
       "<Figure size 432x288 with 1 Axes>"
      ]
     },
     "metadata": {
      "tags": []
     },
     "output_type": "display_data"
    }
   ],
   "source": [
    "EPOCHS = 3\n",
    "\n",
    "\n",
    "\n",
    "for epoch in range(EPOCHS):\n",
    "  loop = tqdm(total=len(train_loader), position=0, leave=False)\n",
    "  \n",
    "  for batch, (x, y_truth) in enumerate(train_loader):\n",
    "    x, y_truth = x.cuda(async=True), y_truth.cuda(async=True)\n",
    "    optimizer.zero_grad()\n",
    "    y_hat = model(x)\n",
    "    \n",
    "    loss = objective(y_hat, y_truth)\n",
    "    loss.backward()\n",
    "    \n",
    "    losses.append(loss.item())\n",
    "    acc = (y_hat.argmax(1) == y_truth).float().mean()\n",
    "    train_acc.append(acc)\n",
    "    \n",
    "    loop.set_description('epoch: {}, loss: {:.4f}, accuracy: {:.3f}'\n",
    "                         .format(epoch, loss, acc))\n",
    "    loop.update(1)\n",
    "    optimizer.step()\n",
    "    if batch % 20 == 0:\n",
    "      y_hat_val = np.mean([(model(x.cuda()).argmax(1) == y_truth.cuda()).float().mean().item() for x, y_truth in val_loader])\n",
    "      val_acc.append((len(losses), y_hat_val))\n",
    "      val = np.mean([objective(model(x.cuda()), y.cuda()).item() \n",
    "                     for x, y in val_loader])\n",
    "      validations.append((len(losses), val))\n",
    "  loop.close()\n",
    "  \n",
    "a, b = zip(*validations)\n",
    "plt.plot(losses, color='blue', label='train')\n",
    "plt.plot(a,b, color='orange', label='val')\n",
    "plt.legend()\n",
    "plt.show()"
   ]
  },
  {
   "cell_type": "markdown",
   "metadata": {
    "colab_type": "text",
    "id": "ronkEckHiDaU"
   },
   "source": [
    "\n",
    "___\n",
    "\n",
    "### Part 3\n",
    "Print the number of parameters in your network and plot accuracy of your training and validation \n",
    "set over time. You should experiment with some deep networks and see if you can get a network \n",
    "with close to 1,000,000 parameters.\n",
    "\n",
    "**TODO:**\n",
    "* Experiment with Deep Networks\n",
    "* Plot accuracy of training and validation set over time\n",
    "* Print out number of parameters in the model \n",
    "\n",
    "**DONE:**\n",
    "* Experiment with Deep Networks\n",
    "* Plot accuracy of training and validation set over time\n",
    "* Print out number of parameters in the model "
   ]
  },
  {
   "cell_type": "code",
   "execution_count": 20,
   "metadata": {
    "colab": {
     "base_uri": "https://localhost:8080/",
     "height": 269
    },
    "colab_type": "code",
    "id": "PaWCKjxvyRSf",
    "outputId": "b7deaea6-28a5-4891-f092-f55b8efb587e",
    "pycharm": {
     "is_executing": false
    }
   },
   "outputs": [
    {
     "data": {
      "image/png": "[encoded data removed]",
      "text/plain": [
       "<Figure size 432x288 with 1 Axes>"
      ]
     },
     "metadata": {
      "tags": []
     },
     "output_type": "display_data"
    }
   ],
   "source": [
    "a, b = zip(*val_acc)\n",
    "plt.plot(train_acc, color='blue', label='train')\n",
    "plt.plot(a,b, color='orange', label='val')\n",
    "plt.legend()\n",
    "plt.show()"
   ]
  },
  {
   "cell_type": "code",
   "execution_count": 17,
   "metadata": {
    "colab": {
     "base_uri": "https://localhost:8080/",
     "height": 34
    },
    "colab_type": "code",
    "id": "oijCR-JnyS6V",
    "outputId": "1e4dc654-fe8b-42d7-8a1e-159b7e7d2b58",
    "pycharm": {
     "is_executing": false
    }
   },
   "outputs": [
    {
     "name": "stdout",
     "output_type": "stream",
     "text": [
      "1078986\n"
     ]
    }
   ],
   "source": [
    "# Compute and print the number of parameters in the model\n",
    "\n",
    "num_params = sum(p.numel() for p in model.parameters())\n",
    "print(num_params)"
   ]
  },
  {
   "cell_type": "markdown",
   "metadata": {
    "colab_type": "text",
    "id": "7hXGRxUQh9gX"
   },
   "source": [
    "___\n",
    "\n",
    "### Part 4\n",
    "Learn about how convolution layers affect the shape of outputs, and answer the following quiz questions. Include these in a new markdown cell in your jupyter notebook.\n",
    "\n",
    "\n",
    "*Using a Kernel size of 3×3 what should the settings of your 2d convolution be that results in the following mappings (first answer given to you)*\n",
    "\n",
    "* (c=3, h=10, w=10) ⇒ (c=10, h=8, w=8) : (out_channels=10, kernel_size=(3, 3), padding=(0, 0))\n",
    "* (c=3, h=10, w=10) ⇒ (c=22, h=10, w=10) : **(out_channels=22, kernel_size=(3,3), padding=(1, 1))**\n",
    "* (c=3, h=10, w=10) ⇒ (c=65, h=12, w=12) : **(out_channels=65, kernel_size=(3,3), padding=(2, 2))**\n",
    "* (c=3, h=10, w=10) ⇒ (c=7, h=20, w=20) : **(out_channels=7, kernel_size=(3,3), padding=(6, 6))**\n",
    "\n",
    "*Using a Kernel size of 5×5:*)\n",
    "\n",
    "* (c=3, h=10, w=10) ⇒ (c=10, h=8, w=8) : **(out_channels=10, kernel_size=(5, 5), padding=(1, 1))**\n",
    "* (c=3, h=10, w=10) ⇒ (c=100, h=10, w=10) : **(out_channels=100, kernel_size=(5,5), padding=(2, 2))**\n",
    "* (c=3, h=10, w=10) ⇒ (c=23, h=12, w=12) : **(out_channels=23, kernel_size=(5,5), padding=(3, 3))**\n",
    "* (c=3, h=10, w=10) ⇒ (c=5, h=24, w=24) : **(out_channels=5, kernel_size=(5,5), padding=(9, 9))**\n",
    "\n",
    "*Using Kernel size of 5×3:*\n",
    "\n",
    "* (c=3, h=10, w=10) ⇒ (c=10, h=8, w=8) : **(out_channels=10, kernel_size=(5,3), padding=(1, 0))**\n",
    "* (c=3, h=10, w=10) ⇒ (c=100, h=10, w=10) : **(out_channels=100, kernel_size=(5,3), padding=(2,1))**\n",
    "* (c=3, h=10, w=10) ⇒ (c=23, h=12, w=12) : **(out_channels=23, kernel_size=(5,3), padding=(3, 2))**\n",
    "* (c=3, h=10, w=10) ⇒ (c=5, h=24, w=24) : **(out_channels=5, kernel_size=(5,3), padding=(9, 8))**\n",
    "\n",
    "*Determine the kernel that requires the smallest padding size to make the following mappings possible:*\n",
    "\n",
    "* (c=3, h=10, w=10) ⇒ (c=10, h=9, w=7) : **(out_channels=10, kernel_size=(2,4), padding=(0, 0))**\n",
    "* (c=3, h=10, w=10) ⇒ (c=22, h=10, w=10) : **(out_channels=22, kernel_size=(1,1), padding=(0, 0))**\n",
    "\n",
    "**TODO:**\n",
    "\n",
    "* Answer all the questions above \n",
    "\n",
    "**DONE:**\n",
    "\n",
    "* Answer all the questions above \n"
   ]
  },
  {
   "cell_type": "code",
   "execution_count": 13,
   "metadata": {
    "colab": {
     "base_uri": "https://localhost:8080/",
     "height": 347
    },
    "colab_type": "code",
    "id": "XXfG3wClh8an",
    "outputId": "4ac79baa-d1d9-4ca5-df32-e3a6202efafc",
    "pycharm": {
     "is_executing": false
    }
   },
   "outputs": [
    {
     "name": "stdout",
     "output_type": "stream",
     "text": [
      "torch.Size([1, 10, 8, 8])\n",
      "\n",
      "torch.Size([1, 22, 10, 10])\n",
      "torch.Size([1, 65, 12, 12])\n",
      "torch.Size([1, 7, 20, 20])\n",
      "\n",
      "torch.Size([1, 10, 8, 8])\n",
      "torch.Size([1, 100, 10, 10])\n",
      "torch.Size([1, 23, 12, 12])\n",
      "torch.Size([1, 5, 24, 24])\n",
      "\n",
      "torch.Size([1, 10, 8, 8])\n",
      "torch.Size([1, 100, 10, 10])\n",
      "torch.Size([1, 23, 12, 12])\n",
      "torch.Size([1, 5, 24, 24])\n",
      "\n",
      "torch.Size([1, 10, 9, 7])\n",
      "torch.Size([1, 22, 10, 10])\n",
      "\n"
     ]
    }
   ],
   "source": [
    "# output_dim = input_dim - kernel_size + 1\n",
    "\n",
    "# O = ((I - K + 2P) / s) + 1\n",
    "# output = ((input_dim - kernel_size + 2*padding) / stride) + 1\n",
    "\n",
    "\n",
    "# Write some test code for checking the answers for these problems (example shown in the video)\n",
    "#Example\n",
    "c = nn.Conv2d(3, 10, kernel_size=(3,3), padding=(0,0))\n",
    "print(c(torch.zeros(1, 3, 10, 10)).size(), end=\"\\n\\n\")\n",
    "\n",
    "\n",
    "# 3x3 kernels\n",
    "c = nn.Conv2d(3, 22, kernel_size=(3,3), padding=(1,1))\n",
    "print(c(torch.zeros(1, 3, 10, 10)).size())\n",
    "\n",
    "c = nn.Conv2d(3, 65, kernel_size=(3,3), padding=(2,2))\n",
    "print(c(torch.zeros(1, 3, 10, 10)).size())\n",
    "\n",
    "c = nn.Conv2d(3, 7, kernel_size=(3,3), padding=(6,6))\n",
    "print(c(torch.zeros(1, 3, 10, 10)).size(), end=\"\\n\\n\")\n",
    "\n",
    "\n",
    "# 5x5 kernels\n",
    "c = nn.Conv2d(3, 10, kernel_size=(5,5), padding=(1,1))\n",
    "print(c(torch.zeros(1, 3, 10, 10)).size())\n",
    "\n",
    "c = nn.Conv2d(3, 100, kernel_size=(5,5), padding=(2,2))\n",
    "print(c(torch.zeros(1, 3, 10, 10)).size())\n",
    "\n",
    "c = nn.Conv2d(3, 23, kernel_size=(5,5), padding=(3,3))\n",
    "print(c(torch.zeros(1, 3, 10, 10)).size())\n",
    "\n",
    "c = nn.Conv2d(3, 5, kernel_size=(5,5), padding=(9,9))\n",
    "print(c(torch.zeros(1, 3, 10, 10)).size(), end=\"\\n\\n\")\n",
    "\n",
    "\n",
    "# 5x3 kernels\n",
    "c = nn.Conv2d(3, 10, kernel_size=(5,3), padding=(1,0))\n",
    "print(c(torch.zeros(1, 3, 10, 10)).size())\n",
    "\n",
    "c = nn.Conv2d(3, 100, kernel_size=(5,3), padding=(2,1))\n",
    "print(c(torch.zeros(1, 3, 10, 10)).size())\n",
    "\n",
    "c = nn.Conv2d(3, 23, kernel_size=(5,3), padding=(3,2))\n",
    "print(c(torch.zeros(1, 3, 10, 10)).size())\n",
    "\n",
    "c = nn.Conv2d(3, 5, kernel_size=(5,3), padding=(9,8))\n",
    "print(c(torch.zeros(1, 3, 10, 10)).size(), end=\"\\n\\n\")\n",
    "\n",
    "\n",
    "# Smallest padding size\n",
    "c = nn.Conv2d(3, 10, kernel_size=(2,4), padding=(0,0))\n",
    "print(c(torch.zeros(1, 3, 10, 10)).size())\n",
    "\n",
    "c = nn.Conv2d(3, 22, kernel_size=(1,1), padding=(0,0))\n",
    "print(c(torch.zeros(1, 3, 10, 10)).size(), end=\"\\n\\n\")"
   ]
  }
 ],
 "metadata": {
  "accelerator": "GPU",
  "colab": {
   "collapsed_sections": [],
   "include_colab_link": true,
   "name": "DL_Lab3.ipynb",
   "provenance": [],
   "version": "0.3.2"
  },
  "kernelspec": {
   "display_name": "Python 3",
   "language": "python",
   "name": "python3"
  },
  "language_info": {
   "codemirror_mode": {
    "name": "ipython",
    "version": 3
   },
   "file_extension": ".py",
   "mimetype": "text/x-python",
   "name": "python",
   "nbconvert_exporter": "python",
   "pygments_lexer": "ipython3",
   "version": "3.6.5"
  },
  "pycharm": {
   "stem_cell": {
    "cell_type": "raw",
    "metadata": {
     "collapsed": false
    },
    "source": []
   }
  }
 },
 "nbformat": 4,
 "nbformat_minor": 1
}
