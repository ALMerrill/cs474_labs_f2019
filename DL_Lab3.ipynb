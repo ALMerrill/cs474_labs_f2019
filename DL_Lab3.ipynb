{
  "nbformat": 4,
  "nbformat_minor": 0,
  "metadata": {
    "accelerator": "GPU",
    "colab": {
      "name": "DL_Lab3.ipynb",
      "version": "0.3.2",
      "provenance": [],
      "collapsed_sections": [],
      "include_colab_link": true
    },
    "kernelspec": {
      "name": "python3",
      "display_name": "Python 3"
    },
    "language_info": {
      "codemirror_mode": {
        "name": "ipython",
        "version": 3
      },
      "file_extension": ".py",
      "mimetype": "text/x-python",
      "name": "python",
      "nbconvert_exporter": "python",
      "pygments_lexer": "ipython3",
      "version": "3.6.3"
    },
    "pycharm": {
      "stem_cell": {
        "cell_type": "raw",
        "metadata": {
          "collapsed": false
        },
        "source": []
      }
    }
  },
  "cells": [
    {
      "cell_type": "markdown",
      "metadata": {
        "id": "view-in-github",
        "colab_type": "text"
      },
      "source": [
        "<a href=\"https://colab.research.google.com/github/ALMerrill/cs474_labs_f2019/blob/master/DL_Lab3.ipynb\" target=\"_parent\"><img src=\"https://colab.research.google.com/assets/colab-badge.svg\" alt=\"Open In Colab\"/></a>"
      ]
    },
    {
      "cell_type": "markdown",
      "metadata": {
        "id": "gc6Q2237c4yK",
        "colab_type": "text"
      },
      "source": [
        "<a href=\"https://colab.research.google.com/github/ALMerrill/cs474_labs_f2019/blob/master/DL_Lab3.ipynb\" target=\"_parent\"><img src=\"https://colab.research.google.com/assets/colab-badge.svg\" alt=\"Open In Colab\"/></a>"
      ]
    },
    {
      "cell_type": "markdown",
      "metadata": {
        "colab_type": "text",
        "id": "view-in-github"
      },
      "source": [
        "# Lab 3: Intro to CNNs and DNNs\n",
        "\n",
        "## Objectives\n",
        "\n",
        "* Build and train a deep conv net\n",
        "* Explore and implement various initialization techniques\n",
        "* Implement a parameterized module in Pytorch\n",
        "* Use a principled loss function\n",
        "\n",
        "## Video Tutorial\n",
        "[https://youtu.be/3TAuTcx-VCc](https://youtu.be/3TAuTcx-VCc)\n",
        "\n",
        "## Deliverable\n",
        "For this lab, you will submit an ipython notebook via learningsuite.\n",
        "This is where you build your first deep neural network!\n",
        "\n",
        "For this lab, we'll be combining several different concepts that we've covered during class,\n",
        "including new layer types, initialization strategies, and an understanding of convolutions.\n",
        "\n",
        "## Grading Standards:\n",
        "* 30% Part 0: Successfully followed lab video and typed in code\n",
        "* 20% Part 1: Re-implement Conv2D and CrossEntropy loss function\n",
        "* 20% Part 2: Implement different initialization strategies\n",
        "* 10% Part 3: Print parameters, plot train/test accuracy\n",
        "* 10% Part 4: Convolution parameters quiz\n",
        "* 10% Tidy and legible figures, including labeled axes where appropriate\n",
        "___\n",
        "\n",
        "### Part 0\n",
        "Watch and follow video tutorial:\n",
        "\n",
        "[https://youtu.be/3TAuTcx-VCc](https://youtu.be/3TAuTcx-VCc)\n",
        "\n",
        "**TODO:**\n",
        "\n",
        "* Watch tutorial\n",
        "\n",
        "**DONE:**"
      ]
    },
    {
      "cell_type": "code",
      "metadata": {
        "pycharm": {
          "name": "#%%\n"
        },
        "id": "HNAUhHI0c4yR",
        "colab_type": "code",
        "colab": {}
      },
      "source": [
        "!pip3 install torch\n",
        "!pip3 install torchvision\n",
        "!pip3 install tqdm"
      ],
      "execution_count": 0,
      "outputs": []
    },
    {
      "cell_type": "code",
      "metadata": {
        "colab_type": "code",
        "id": "wQOefmcZVgTl",
        "colab": {}
      },
      "source": [
        "import torch\n",
        "import torch.nn as nn\n",
        "import torch.nn.functional as F\n",
        "import torch.optim as optim\n",
        "from torch.utils.data import Dataset, DataLoader\n",
        "import numpy as np\n",
        "import matplotlib.pyplot as plt\n",
        "from torchvision import transforms, utils, datasets\n",
        "from tqdm import tqdm\n",
        "from torch.nn.parameter import Parameter\n",
        "import pdb\n",
        "from torch.nn.parameter import Parameter\n",
        "import pdb\n",
        "\n",
        "assert torch.cuda.is_available()"
      ],
      "execution_count": 0,
      "outputs": []
    },
    {
      "cell_type": "markdown",
      "metadata": {
        "colab_type": "text",
        "id": "QY4owfQwm-Ni"
      },
      "source": [
        "___\n",
        "\n",
        "### Part 1\n",
        "Re-implement a Conv2D module with parameters and a CrossEntropy loss function.\n",
        "\n",
        "**TODO:**\n",
        "\n",
        "* CrossEntropyLoss \n",
        "* Conv2D\n",
        "\n",
        "**DONE:**\n",
        "\n",
        "* Conv2D\n",
        "___\n",
        "\n",
        "### Part 2\n",
        "Implement a few initialization strategies which can include Xe initialization\n",
        "(sometimes called Xavier), Orthogonal initialization, and uniform random.\n",
        "You can specify which strategy you want to use with a parameter. \n",
        "\n",
        "\n",
        "\n",
        "Helpful links include:\n",
        "*  [Orthogonal Initialization](https://hjweide.github.io/orthogonal-initialization-in-convolutional-layers) (or the original paper: http://arxiv.org/abs/1312.6120)\n",
        "*  http://andyljones.tumblr.com/post/110998971763/an-explanation-of-xavier-initialization\n",
        "\n",
        "**TODO:**\n",
        "* Parameterize custom Conv2D for different initilization strategies\n",
        "* Xe\n",
        "* Orthogonal\n",
        "* Uniform\n",
        "\n",
        "**DONE:**\n",
        "\n"
      ]
    },
    {
      "cell_type": "code",
      "metadata": {
        "colab_type": "code",
        "id": "RkieTbwlYWPS",
        "colab": {}
      },
      "source": [
        "def Xe(data):\n",
        "  mu = 0\n",
        "  sigma = 1 / len(data[0])\n",
        "  np.random.normal(mu, sigma, (data.size()))\n",
        "  \n",
        "\n",
        "def orthogonal(data):\n",
        "  pass\n",
        "\n",
        "def uniform(data):\n",
        "  if len(data.size()) > 1:\n",
        "    data.uniform_(-1, 1)\n",
        "  else:\n",
        "    data.uniform_(0,0)\n",
        "  \n",
        "\n",
        "class Conv2d(nn.Module):\n",
        "  def __init__(self, n_channels, out_channels, kernel_size, stride=1, \n",
        "               padding=0, dilation=1, groups=1, \n",
        "               bias=True, initialization=uniform):\n",
        "    self.__dict__.update(locals())\n",
        "    super(Conv2d, self).__init__()\n",
        "    \n",
        "    self.weight = Parameter(torch.Tensor(out_channels, \n",
        "                               n_channels,\n",
        "                               *kernel_size))\n",
        "    initialization(self.weight.data)\n",
        "    \n",
        "    self.bias = Parameter(torch.Tensor(out_channels))\n",
        "    initialization(self.bias.data)\n",
        "    \n",
        "  def forward(self, x):\n",
        "    return F.conv2d(x, self.weight, self.bias, self.stride, \n",
        "                    self.padding, self.dilation, self.groups)\n",
        "  \n",
        "def oneHotEncode(y):\n",
        "  y = y.cpu().detach().numpy()\n",
        "  y_onehot = np.zeros((y.size(0), 10))\n",
        "  y_onehot[np.arange(y.shape[0]).astype(int), y] = 1\n",
        "\n",
        "class CrossEntropyLoss(nn.Module):\n",
        "  def __init__(self, weight=None, size_average=None, ignore_index=-100, reduce=None, reduction='elementwise_mean'):\n",
        "    super(CrossEntropyLoss, self).__init__()\n",
        "  \n",
        "  def forward(self, y_hat, y_truth):\n",
        "    wrong_class_penalty = torch.log(torch.sum(torch.exp(y_hat), dim=1))\n",
        "    n, classes = y_hat.size()\n",
        "    # Make a mask to create the y-truth one-hot vectors\n",
        "    mask = torch.zeros((n, classes))\n",
        "    mask[np.arange(n), y_truth] = 1\n",
        "    # Pointwise multiply the mask with the output probabilities\n",
        "    true_class_preds = torch.sum(y_hat * mask.cuda(), dim=1)\n",
        "    return torch.mean(-true_class_preds + wrong_class_penalty, dim=0)\n",
        "    \n",
        "#     maxes, _ = torch.max(y_hat, 1, keepdim=True) #Log sum x trick to prevent overflow\n",
        "#     y_hat = y_hat - maxes\n",
        "#     y_hat = torch.exp(y_hat)\n",
        "#     y_hat = y_hat / torch.sum(y_hat, 1, keepdim=True)\n",
        "#     y_hat = oneHotEncode(y_hat)\n",
        "#     return -torch.sum((torch.mul(y_truth.float(), torch.log(y_hat).float()))) #actual cross entropy loss part after the trick\n",
        "  \n"
      ],
      "execution_count": 0,
      "outputs": []
    },
    {
      "cell_type": "code",
      "metadata": {
        "id": "SPibEq4SdRhg",
        "colab_type": "code",
        "colab": {}
      },
      "source": [
        "class ConvNetwork(nn.Module):\n",
        "  def __init__(self, dataset):\n",
        "    super(ConvNetwork, self).__init__()\n",
        "    x, y = dataset[0]\n",
        "    c, h, w = x.size()\n",
        "    output = 10\n",
        "    dim1 = 50\n",
        "    dim2 = 25\n",
        "    dim3 = 40\n",
        "    image_size = (28,28)\n",
        "    init = uniform\n",
        "    self.net = nn.Sequential(\n",
        "        Conv2d(c, dim1, (3,3), padding=(1,1), initialization=init),\n",
        "        nn.ReLU(),\n",
        "        Conv2d(dim1, dim2, (3,3), padding=(1,1), initialization=init),\n",
        "        nn.ReLU(),\n",
        "        Conv2d(dim2, dim3, (3,3), padding=(1,1), initialization=init),\n",
        "        nn.ReLU(),\n",
        "        Conv2d(dim3, output, (28,28), padding=(0,0), initialization=init)\n",
        "    )\n",
        "  \n",
        "  def forward(self, x):\n",
        "    return self.net(x).squeeze(2).squeeze(2)\n",
        "\n",
        "transform = transforms.ToTensor()\n",
        "  \n",
        "  \n",
        "class FashionMNISTProcessedDataset(Dataset):\n",
        "  def __init__(self, root, train=True):\n",
        "    self.data = datasets.FashionMNIST(root, \n",
        "                                      train=train, \n",
        "                                      transform=transform, \n",
        "                                      download=True)\n",
        "    \n",
        "  def __getitem__(self, i):\n",
        "    x, y = self.data[i]\n",
        "    return x, y\n",
        "  \n",
        "  def __len__(self):\n",
        "    return len(self.data)"
      ],
      "execution_count": 0,
      "outputs": []
    },
    {
      "cell_type": "code",
      "metadata": {
        "colab_type": "code",
        "pycharm": {
          "is_executing": false
        },
        "id": "uziQ6wWhdBk-",
        "colab": {}
      },
      "source": [
        "  \n",
        "train_dataset = FashionMNISTProcessedDataset('/tmp/fashionmnist', train=True)\n",
        "val_dataset = FashionMNISTProcessedDataset('/tmp/fashionmnist', train=False)\n",
        "model = ConvNetwork(train_dataset)\n",
        "model = model.cuda()\n",
        "objective = CrossEntropyLoss()\n",
        "optimizer = optim.Adam(model.parameters(), lr=1e-3)\n",
        "\n",
        "train_loader = DataLoader(train_dataset,\n",
        "                         batch_size=100,\n",
        "                         pin_memory=True)\n",
        "val_loader = DataLoader(val_dataset,\n",
        "                       batch_size=100,\n",
        "                       pin_memory=True)\n",
        "\n",
        "data_loaders = {'train': train_loader, 'val': val_loader}\n",
        "\n",
        "losses = []\n",
        "validations = []\n",
        "train_acc = []\n",
        "val_acc = []\n"
      ],
      "execution_count": 0,
      "outputs": []
    },
    {
      "cell_type": "markdown",
      "metadata": {
        "id": "Gr2xYrNldiQH",
        "colab_type": "text"
      },
      "source": [
        "## Training"
      ]
    },
    {
      "cell_type": "code",
      "metadata": {
        "colab_type": "code",
        "pycharm": {
          "is_executing": false
        },
        "id": "XAGmnKZfdBWz",
        "outputId": "6d0f2b65-6a5b-4c4e-e9a9-c009e536a54e",
        "colab": {
          "base_uri": "https://localhost:8080/",
          "height": 1000
        }
      },
      "source": [
        "EPOCHS = 1\n",
        "\n",
        "\n",
        "\n",
        "for epoch in range(EPOCHS):\n",
        "  loop = tqdm(total=len(train_loader), position=0, leave=False)\n",
        "  \n",
        "  for batch, (x, y_truth) in enumerate(train_loader):\n",
        "    x, y_truth = x.cuda(async=True), y_truth.cuda(async=True)\n",
        "    optimizer.zero_grad()\n",
        "    y_hat = model(x)\n",
        "    \n",
        "    loss = objective(y_hat, y_truth)\n",
        "    loss.backward()\n",
        "    \n",
        "    losses.append(loss.item())\n",
        "    acc = (y_hat.argmax(1) == y_truth).float().mean()\n",
        "    train_acc.append(acc)\n",
        "    #### Just plot the accuracy of each batch? Or running accuracy? Or something else?\n",
        "    \n",
        "    \n",
        "    loop.set_description('epoch: {}, loss: {:.4f}, accuracy: {:.3f}'\n",
        "                         .format(epoch, loss, acc))\n",
        "    loop.update(1)\n",
        "    \n",
        "    optimizer.step()\n",
        "    \n",
        "    if batch % 100 == 0:\n",
        "\n",
        "      y_hat_val = np.mean([(model(x.cuda()).argmax(1) == y_truth.cuda()).float().mean().item() for x, y_truth in val_loader])\n",
        "      val_acc.append((len(losses), y_hat_val))\n",
        "      val = np.mean([objective(model(x.cuda()), y.cuda()).item() \n",
        "                     for x, y in val_loader])\n",
        "      validations.append((len(losses), val))\n",
        "  loop.close()\n",
        "  \n",
        "a, b = zip(*validations)\n",
        "plt.plot(losses, label='train')\n",
        "plt.plot(a,b, label='val')\n",
        "plt.legend()\n",
        "plt.show()"
      ],
      "execution_count": 9,
      "outputs": [
        {
          "output_type": "stream",
          "text": [
            "epoch: 0, loss: inf, accuracy: 0.150:   0%|          | 0/600 [00:00<?, ?it/s]"
          ],
          "name": "stderr"
        },
        {
          "output_type": "stream",
          "text": [
            "tensor(inf, device='cuda:0', grad_fn=<MeanBackward2>)\n"
          ],
          "name": "stdout"
        },
        {
          "output_type": "stream",
          "text": [
            "epoch: 0, loss: nan, accuracy: 0.090:   1%|          | 4/600 [00:04<14:33,  1.47s/it]"
          ],
          "name": "stderr"
        },
        {
          "output_type": "stream",
          "text": [
            "tensor(nan, device='cuda:0', grad_fn=<MeanBackward2>)\n",
            "tensor(nan, device='cuda:0', grad_fn=<MeanBackward2>)\n",
            "tensor(nan, device='cuda:0', grad_fn=<MeanBackward2>)\n",
            "tensor(nan, device='cuda:0', grad_fn=<MeanBackward2>)\n"
          ],
          "name": "stdout"
        },
        {
          "output_type": "stream",
          "text": [
            "epoch: 0, loss: nan, accuracy: 0.160:   1%|▏         | 8/600 [00:04<07:20,  1.34it/s]"
          ],
          "name": "stderr"
        },
        {
          "output_type": "stream",
          "text": [
            "tensor(nan, device='cuda:0', grad_fn=<MeanBackward2>)\n",
            "tensor(nan, device='cuda:0', grad_fn=<MeanBackward2>)\n",
            "tensor(nan, device='cuda:0', grad_fn=<MeanBackward2>)\n",
            "tensor(nan, device='cuda:0', grad_fn=<MeanBackward2>)\n"
          ],
          "name": "stdout"
        },
        {
          "output_type": "stream",
          "text": [
            "epoch: 0, loss: nan, accuracy: 0.060:   2%|▏         | 13/600 [00:04<03:49,  2.55it/s]"
          ],
          "name": "stderr"
        },
        {
          "output_type": "stream",
          "text": [
            "tensor(nan, device='cuda:0', grad_fn=<MeanBackward2>)\n",
            "tensor(nan, device='cuda:0', grad_fn=<MeanBackward2>)\n",
            "tensor(nan, device='cuda:0', grad_fn=<MeanBackward2>)\n",
            "tensor(nan, device='cuda:0', grad_fn=<MeanBackward2>)\n"
          ],
          "name": "stdout"
        },
        {
          "output_type": "stream",
          "text": [
            "epoch: 0, loss: nan, accuracy: 0.090:   3%|▎         | 17/600 [00:04<02:06,  4.59it/s]"
          ],
          "name": "stderr"
        },
        {
          "output_type": "stream",
          "text": [
            "tensor(nan, device='cuda:0', grad_fn=<MeanBackward2>)\n",
            "tensor(nan, device='cuda:0', grad_fn=<MeanBackward2>)\n",
            "tensor(nan, device='cuda:0', grad_fn=<MeanBackward2>)\n",
            "tensor(nan, device='cuda:0', grad_fn=<MeanBackward2>)\n"
          ],
          "name": "stdout"
        },
        {
          "output_type": "stream",
          "text": [
            "epoch: 0, loss: nan, accuracy: 0.090:   4%|▎         | 21/600 [00:05<01:17,  7.51it/s]"
          ],
          "name": "stderr"
        },
        {
          "output_type": "stream",
          "text": [
            "tensor(nan, device='cuda:0', grad_fn=<MeanBackward2>)\n",
            "tensor(nan, device='cuda:0', grad_fn=<MeanBackward2>)\n",
            "tensor(nan, device='cuda:0', grad_fn=<MeanBackward2>)\n",
            "tensor(nan, device='cuda:0', grad_fn=<MeanBackward2>)\n"
          ],
          "name": "stdout"
        },
        {
          "output_type": "stream",
          "text": [
            "epoch: 0, loss: nan, accuracy: 0.130:   4%|▍         | 25/600 [00:05<00:52, 10.95it/s]"
          ],
          "name": "stderr"
        },
        {
          "output_type": "stream",
          "text": [
            "tensor(nan, device='cuda:0', grad_fn=<MeanBackward2>)\n",
            "tensor(nan, device='cuda:0', grad_fn=<MeanBackward2>)\n",
            "tensor(nan, device='cuda:0', grad_fn=<MeanBackward2>)\n",
            "tensor(nan, device='cuda:0', grad_fn=<MeanBackward2>)\n"
          ],
          "name": "stdout"
        },
        {
          "output_type": "stream",
          "text": [
            "epoch: 0, loss: nan, accuracy: 0.060:   5%|▍         | 29/600 [00:05<00:40, 14.09it/s]"
          ],
          "name": "stderr"
        },
        {
          "output_type": "stream",
          "text": [
            "tensor(nan, device='cuda:0', grad_fn=<MeanBackward2>)\n",
            "tensor(nan, device='cuda:0', grad_fn=<MeanBackward2>)\n",
            "tensor(nan, device='cuda:0', grad_fn=<MeanBackward2>)\n",
            "tensor(nan, device='cuda:0', grad_fn=<MeanBackward2>)\n"
          ],
          "name": "stdout"
        },
        {
          "output_type": "stream",
          "text": [
            "epoch: 0, loss: nan, accuracy: 0.070:   5%|▌         | 32/600 [00:05<00:36, 15.38it/s]"
          ],
          "name": "stderr"
        },
        {
          "output_type": "stream",
          "text": [
            "tensor(nan, device='cuda:0', grad_fn=<MeanBackward2>)\n",
            "tensor(nan, device='cuda:0', grad_fn=<MeanBackward2>)\n",
            "tensor(nan, device='cuda:0', grad_fn=<MeanBackward2>)\n",
            "tensor(nan, device='cuda:0', grad_fn=<MeanBackward2>)\n",
            "tensor(nan, device='cuda:0', grad_fn=<MeanBackward2>)\n"
          ],
          "name": "stdout"
        },
        {
          "output_type": "stream",
          "text": [
            "epoch: 0, loss: nan, accuracy: 0.100:   6%|▌         | 37/600 [00:05<00:31, 17.67it/s]"
          ],
          "name": "stderr"
        },
        {
          "output_type": "stream",
          "text": [
            "tensor(nan, device='cuda:0', grad_fn=<MeanBackward2>)\n",
            "tensor(nan, device='cuda:0', grad_fn=<MeanBackward2>)\n",
            "tensor(nan, device='cuda:0', grad_fn=<MeanBackward2>)\n",
            "tensor(nan, device='cuda:0', grad_fn=<MeanBackward2>)\n",
            "tensor(nan, device='cuda:0', grad_fn=<MeanBackward2>)\n"
          ],
          "name": "stdout"
        },
        {
          "output_type": "stream",
          "text": [
            "epoch: 0, loss: nan, accuracy: 0.090:   7%|▋         | 43/600 [00:06<00:29, 18.91it/s]"
          ],
          "name": "stderr"
        },
        {
          "output_type": "stream",
          "text": [
            "tensor(nan, device='cuda:0', grad_fn=<MeanBackward2>)\n",
            "tensor(nan, device='cuda:0', grad_fn=<MeanBackward2>)\n",
            "tensor(nan, device='cuda:0', grad_fn=<MeanBackward2>)\n",
            "tensor(nan, device='cuda:0', grad_fn=<MeanBackward2>)\n",
            "tensor(nan, device='cuda:0', grad_fn=<MeanBackward2>)\n"
          ],
          "name": "stdout"
        },
        {
          "output_type": "stream",
          "text": [
            "epoch: 0, loss: nan, accuracy: 0.090:   8%|▊         | 47/600 [00:06<00:28, 19.45it/s]"
          ],
          "name": "stderr"
        },
        {
          "output_type": "stream",
          "text": [
            "tensor(nan, device='cuda:0', grad_fn=<MeanBackward2>)\n",
            "tensor(nan, device='cuda:0', grad_fn=<MeanBackward2>)\n",
            "tensor(nan, device='cuda:0', grad_fn=<MeanBackward2>)\n",
            "tensor(nan, device='cuda:0', grad_fn=<MeanBackward2>)\n",
            "tensor(nan, device='cuda:0', grad_fn=<MeanBackward2>)\n"
          ],
          "name": "stdout"
        },
        {
          "output_type": "stream",
          "text": [
            "epoch: 0, loss: nan, accuracy: 0.110:   9%|▊         | 52/600 [00:06<00:27, 20.22it/s]"
          ],
          "name": "stderr"
        },
        {
          "output_type": "stream",
          "text": [
            "tensor(nan, device='cuda:0', grad_fn=<MeanBackward2>)\n",
            "tensor(nan, device='cuda:0', grad_fn=<MeanBackward2>)\n",
            "tensor(nan, device='cuda:0', grad_fn=<MeanBackward2>)\n",
            "tensor(nan, device='cuda:0', grad_fn=<MeanBackward2>)\n",
            "tensor(nan, device='cuda:0', grad_fn=<MeanBackward2>)\n"
          ],
          "name": "stdout"
        },
        {
          "output_type": "stream",
          "text": [
            "epoch: 0, loss: nan, accuracy: 0.130:  10%|▉         | 58/600 [00:06<00:26, 20.24it/s]"
          ],
          "name": "stderr"
        },
        {
          "output_type": "stream",
          "text": [
            "tensor(nan, device='cuda:0', grad_fn=<MeanBackward2>)\n",
            "tensor(nan, device='cuda:0', grad_fn=<MeanBackward2>)\n",
            "tensor(nan, device='cuda:0', grad_fn=<MeanBackward2>)\n",
            "tensor(nan, device='cuda:0', grad_fn=<MeanBackward2>)\n",
            "tensor(nan, device='cuda:0', grad_fn=<MeanBackward2>)\n"
          ],
          "name": "stdout"
        },
        {
          "output_type": "stream",
          "text": [
            "epoch: 0, loss: nan, accuracy: 0.110:  10%|█         | 62/600 [00:07<00:26, 20.36it/s]"
          ],
          "name": "stderr"
        },
        {
          "output_type": "stream",
          "text": [
            "tensor(nan, device='cuda:0', grad_fn=<MeanBackward2>)\n",
            "tensor(nan, device='cuda:0', grad_fn=<MeanBackward2>)\n",
            "tensor(nan, device='cuda:0', grad_fn=<MeanBackward2>)\n",
            "tensor(nan, device='cuda:0', grad_fn=<MeanBackward2>)\n",
            "tensor(nan, device='cuda:0', grad_fn=<MeanBackward2>)\n"
          ],
          "name": "stdout"
        },
        {
          "output_type": "stream",
          "text": [
            "epoch: 0, loss: nan, accuracy: 0.120:  11%|█         | 67/600 [00:07<00:25, 20.59it/s]"
          ],
          "name": "stderr"
        },
        {
          "output_type": "stream",
          "text": [
            "tensor(nan, device='cuda:0', grad_fn=<MeanBackward2>)\n",
            "tensor(nan, device='cuda:0', grad_fn=<MeanBackward2>)\n",
            "tensor(nan, device='cuda:0', grad_fn=<MeanBackward2>)\n",
            "tensor(nan, device='cuda:0', grad_fn=<MeanBackward2>)\n",
            "tensor(nan, device='cuda:0', grad_fn=<MeanBackward2>)\n"
          ],
          "name": "stdout"
        },
        {
          "output_type": "stream",
          "text": [
            "epoch: 0, loss: nan, accuracy: 0.150:  12%|█▏        | 73/600 [00:07<00:25, 20.48it/s]"
          ],
          "name": "stderr"
        },
        {
          "output_type": "stream",
          "text": [
            "tensor(nan, device='cuda:0', grad_fn=<MeanBackward2>)\n",
            "tensor(nan, device='cuda:0', grad_fn=<MeanBackward2>)\n",
            "tensor(nan, device='cuda:0', grad_fn=<MeanBackward2>)\n",
            "tensor(nan, device='cuda:0', grad_fn=<MeanBackward2>)\n"
          ],
          "name": "stdout"
        },
        {
          "output_type": "stream",
          "text": [
            "epoch: 0, loss: nan, accuracy: 0.120:  13%|█▎        | 76/600 [00:07<00:25, 20.45it/s]"
          ],
          "name": "stderr"
        },
        {
          "output_type": "stream",
          "text": [
            "tensor(nan, device='cuda:0', grad_fn=<MeanBackward2>)\n",
            "tensor(nan, device='cuda:0', grad_fn=<MeanBackward2>)\n",
            "tensor(nan, device='cuda:0', grad_fn=<MeanBackward2>)\n",
            "tensor(nan, device='cuda:0', grad_fn=<MeanBackward2>)\n",
            "tensor(nan, device='cuda:0', grad_fn=<MeanBackward2>)\n"
          ],
          "name": "stdout"
        },
        {
          "output_type": "stream",
          "text": [
            "epoch: 0, loss: nan, accuracy: 0.080:  14%|█▎        | 82/600 [00:08<00:25, 20.34it/s]"
          ],
          "name": "stderr"
        },
        {
          "output_type": "stream",
          "text": [
            "tensor(nan, device='cuda:0', grad_fn=<MeanBackward2>)\n",
            "tensor(nan, device='cuda:0', grad_fn=<MeanBackward2>)\n",
            "tensor(nan, device='cuda:0', grad_fn=<MeanBackward2>)\n",
            "tensor(nan, device='cuda:0', grad_fn=<MeanBackward2>)\n",
            "tensor(nan, device='cuda:0', grad_fn=<MeanBackward2>)\n"
          ],
          "name": "stdout"
        },
        {
          "output_type": "stream",
          "text": [
            "epoch: 0, loss: nan, accuracy: 0.100:  14%|█▍        | 86/600 [00:08<00:25, 20.47it/s]"
          ],
          "name": "stderr"
        },
        {
          "output_type": "stream",
          "text": [
            "tensor(nan, device='cuda:0', grad_fn=<MeanBackward2>)\n",
            "tensor(nan, device='cuda:0', grad_fn=<MeanBackward2>)\n",
            "tensor(nan, device='cuda:0', grad_fn=<MeanBackward2>)\n",
            "tensor(nan, device='cuda:0', grad_fn=<MeanBackward2>)\n",
            "tensor(nan, device='cuda:0', grad_fn=<MeanBackward2>)\n"
          ],
          "name": "stdout"
        },
        {
          "output_type": "stream",
          "text": [
            "epoch: 0, loss: nan, accuracy: 0.100:  15%|█▌        | 91/600 [00:08<00:24, 20.79it/s]"
          ],
          "name": "stderr"
        },
        {
          "output_type": "stream",
          "text": [
            "tensor(nan, device='cuda:0', grad_fn=<MeanBackward2>)\n",
            "tensor(nan, device='cuda:0', grad_fn=<MeanBackward2>)\n",
            "tensor(nan, device='cuda:0', grad_fn=<MeanBackward2>)\n",
            "tensor(nan, device='cuda:0', grad_fn=<MeanBackward2>)\n",
            "tensor(nan, device='cuda:0', grad_fn=<MeanBackward2>)\n"
          ],
          "name": "stdout"
        },
        {
          "output_type": "stream",
          "text": [
            "epoch: 0, loss: nan, accuracy: 0.070:  16%|█▌        | 97/600 [00:08<00:24, 20.87it/s]"
          ],
          "name": "stderr"
        },
        {
          "output_type": "stream",
          "text": [
            "tensor(nan, device='cuda:0', grad_fn=<MeanBackward2>)\n",
            "tensor(nan, device='cuda:0', grad_fn=<MeanBackward2>)\n",
            "tensor(nan, device='cuda:0', grad_fn=<MeanBackward2>)\n",
            "tensor(nan, device='cuda:0', grad_fn=<MeanBackward2>)\n",
            "tensor(nan, device='cuda:0', grad_fn=<MeanBackward2>)\n"
          ],
          "name": "stdout"
        },
        {
          "output_type": "stream",
          "text": [
            "epoch: 0, loss: nan, accuracy: 0.070:  17%|█▋        | 100/600 [00:09<00:23, 20.86it/s]"
          ],
          "name": "stderr"
        },
        {
          "output_type": "stream",
          "text": [
            "tensor(nan, device='cuda:0', grad_fn=<MeanBackward2>)\n",
            "tensor(nan, device='cuda:0', grad_fn=<MeanBackward2>)\n",
            "tensor(nan, device='cuda:0', grad_fn=<MeanBackward2>)\n"
          ],
          "name": "stdout"
        },
        {
          "output_type": "stream",
          "text": [
            "epoch: 0, loss: nan, accuracy: 0.110:  18%|█▊        | 105/600 [00:13<02:40,  3.09it/s]"
          ],
          "name": "stderr"
        },
        {
          "output_type": "stream",
          "text": [
            "tensor(nan, device='cuda:0', grad_fn=<MeanBackward2>)\n",
            "tensor(nan, device='cuda:0', grad_fn=<MeanBackward2>)\n",
            "tensor(nan, device='cuda:0', grad_fn=<MeanBackward2>)\n",
            "tensor(nan, device='cuda:0', grad_fn=<MeanBackward2>)\n"
          ],
          "name": "stdout"
        },
        {
          "output_type": "stream",
          "text": [
            "epoch: 0, loss: nan, accuracy: 0.070:  18%|█▊        | 109/600 [00:13<01:31,  5.36it/s]"
          ],
          "name": "stderr"
        },
        {
          "output_type": "stream",
          "text": [
            "tensor(nan, device='cuda:0', grad_fn=<MeanBackward2>)\n",
            "tensor(nan, device='cuda:0', grad_fn=<MeanBackward2>)\n",
            "tensor(nan, device='cuda:0', grad_fn=<MeanBackward2>)\n",
            "tensor(nan, device='cuda:0', grad_fn=<MeanBackward2>)\n"
          ],
          "name": "stdout"
        },
        {
          "output_type": "stream",
          "text": [
            "epoch: 0, loss: nan, accuracy: 0.090:  19%|█▉        | 113/600 [00:13<00:57,  8.42it/s]"
          ],
          "name": "stderr"
        },
        {
          "output_type": "stream",
          "text": [
            "tensor(nan, device='cuda:0', grad_fn=<MeanBackward2>)\n",
            "tensor(nan, device='cuda:0', grad_fn=<MeanBackward2>)\n",
            "tensor(nan, device='cuda:0', grad_fn=<MeanBackward2>)\n",
            "tensor(nan, device='cuda:0', grad_fn=<MeanBackward2>)\n"
          ],
          "name": "stdout"
        },
        {
          "output_type": "stream",
          "text": [
            "epoch: 0, loss: nan, accuracy: 0.080:  20%|█▉        | 117/600 [00:13<00:40, 11.90it/s]"
          ],
          "name": "stderr"
        },
        {
          "output_type": "stream",
          "text": [
            "tensor(nan, device='cuda:0', grad_fn=<MeanBackward2>)\n",
            "tensor(nan, device='cuda:0', grad_fn=<MeanBackward2>)\n",
            "tensor(nan, device='cuda:0', grad_fn=<MeanBackward2>)\n",
            "tensor(nan, device='cuda:0', grad_fn=<MeanBackward2>)\n"
          ],
          "name": "stdout"
        },
        {
          "output_type": "stream",
          "text": [
            "epoch: 0, loss: nan, accuracy: 0.120:  20%|██        | 121/600 [00:13<00:32, 14.87it/s]"
          ],
          "name": "stderr"
        },
        {
          "output_type": "stream",
          "text": [
            "tensor(nan, device='cuda:0', grad_fn=<MeanBackward2>)\n",
            "tensor(nan, device='cuda:0', grad_fn=<MeanBackward2>)\n",
            "tensor(nan, device='cuda:0', grad_fn=<MeanBackward2>)\n",
            "tensor(nan, device='cuda:0', grad_fn=<MeanBackward2>)\n"
          ],
          "name": "stdout"
        },
        {
          "output_type": "stream",
          "text": [
            "epoch: 0, loss: nan, accuracy: 0.140:  21%|██        | 125/600 [00:14<00:28, 16.86it/s]"
          ],
          "name": "stderr"
        },
        {
          "output_type": "stream",
          "text": [
            "tensor(nan, device='cuda:0', grad_fn=<MeanBackward2>)\n",
            "tensor(nan, device='cuda:0', grad_fn=<MeanBackward2>)\n",
            "tensor(nan, device='cuda:0', grad_fn=<MeanBackward2>)\n",
            "tensor(nan, device='cuda:0', grad_fn=<MeanBackward2>)\n"
          ],
          "name": "stdout"
        },
        {
          "output_type": "stream",
          "text": [
            "epoch: 0, loss: nan, accuracy: 0.100:  22%|██▏       | 129/600 [00:14<00:26, 18.00it/s]"
          ],
          "name": "stderr"
        },
        {
          "output_type": "stream",
          "text": [
            "tensor(nan, device='cuda:0', grad_fn=<MeanBackward2>)\n",
            "tensor(nan, device='cuda:0', grad_fn=<MeanBackward2>)\n",
            "tensor(nan, device='cuda:0', grad_fn=<MeanBackward2>)\n",
            "tensor(nan, device='cuda:0', grad_fn=<MeanBackward2>)\n"
          ],
          "name": "stdout"
        },
        {
          "output_type": "stream",
          "text": [
            "epoch: 0, loss: nan, accuracy: 0.070:  22%|██▏       | 133/600 [00:14<00:25, 18.43it/s]"
          ],
          "name": "stderr"
        },
        {
          "output_type": "stream",
          "text": [
            "tensor(nan, device='cuda:0', grad_fn=<MeanBackward2>)\n",
            "tensor(nan, device='cuda:0', grad_fn=<MeanBackward2>)\n",
            "tensor(nan, device='cuda:0', grad_fn=<MeanBackward2>)\n",
            "tensor(nan, device='cuda:0', grad_fn=<MeanBackward2>)\n"
          ],
          "name": "stdout"
        },
        {
          "output_type": "stream",
          "text": [
            "epoch: 0, loss: nan, accuracy: 0.070:  23%|██▎       | 136/600 [00:14<00:24, 18.86it/s]"
          ],
          "name": "stderr"
        },
        {
          "output_type": "stream",
          "text": [
            "tensor(nan, device='cuda:0', grad_fn=<MeanBackward2>)\n",
            "tensor(nan, device='cuda:0', grad_fn=<MeanBackward2>)\n",
            "tensor(nan, device='cuda:0', grad_fn=<MeanBackward2>)\n",
            "tensor(nan, device='cuda:0', grad_fn=<MeanBackward2>)\n",
            "tensor(nan, device='cuda:0', grad_fn=<MeanBackward2>)\n"
          ],
          "name": "stdout"
        },
        {
          "output_type": "stream",
          "text": [
            "epoch: 0, loss: nan, accuracy: 0.060:  24%|██▎       | 142/600 [00:15<00:23, 19.32it/s]"
          ],
          "name": "stderr"
        },
        {
          "output_type": "stream",
          "text": [
            "tensor(nan, device='cuda:0', grad_fn=<MeanBackward2>)\n",
            "tensor(nan, device='cuda:0', grad_fn=<MeanBackward2>)\n",
            "tensor(nan, device='cuda:0', grad_fn=<MeanBackward2>)\n",
            "tensor(nan, device='cuda:0', grad_fn=<MeanBackward2>)\n"
          ],
          "name": "stdout"
        },
        {
          "output_type": "stream",
          "text": [
            "epoch: 0, loss: nan, accuracy: 0.130:  24%|██▍       | 146/600 [00:15<00:23, 19.19it/s]"
          ],
          "name": "stderr"
        },
        {
          "output_type": "stream",
          "text": [
            "tensor(nan, device='cuda:0', grad_fn=<MeanBackward2>)\n",
            "tensor(nan, device='cuda:0', grad_fn=<MeanBackward2>)\n",
            "tensor(nan, device='cuda:0', grad_fn=<MeanBackward2>)\n",
            "tensor(nan, device='cuda:0', grad_fn=<MeanBackward2>)\n"
          ],
          "name": "stdout"
        },
        {
          "output_type": "stream",
          "text": [
            "epoch: 0, loss: nan, accuracy: 0.160:  25%|██▍       | 149/600 [00:15<00:23, 19.28it/s]"
          ],
          "name": "stderr"
        },
        {
          "output_type": "stream",
          "text": [
            "tensor(nan, device='cuda:0', grad_fn=<MeanBackward2>)\n",
            "tensor(nan, device='cuda:0', grad_fn=<MeanBackward2>)\n",
            "tensor(nan, device='cuda:0', grad_fn=<MeanBackward2>)\n",
            "tensor(nan, device='cuda:0', grad_fn=<MeanBackward2>)\n",
            "tensor(nan, device='cuda:0', grad_fn=<MeanBackward2>)\n"
          ],
          "name": "stdout"
        },
        {
          "output_type": "stream",
          "text": [
            "epoch: 0, loss: nan, accuracy: 0.090:  26%|██▌       | 155/600 [00:15<00:22, 19.61it/s]"
          ],
          "name": "stderr"
        },
        {
          "output_type": "stream",
          "text": [
            "tensor(nan, device='cuda:0', grad_fn=<MeanBackward2>)\n",
            "tensor(nan, device='cuda:0', grad_fn=<MeanBackward2>)\n",
            "tensor(nan, device='cuda:0', grad_fn=<MeanBackward2>)\n",
            "tensor(nan, device='cuda:0', grad_fn=<MeanBackward2>)\n"
          ],
          "name": "stdout"
        },
        {
          "output_type": "stream",
          "text": [
            "epoch: 0, loss: nan, accuracy: 0.030:  26%|██▋       | 159/600 [00:15<00:22, 19.57it/s]"
          ],
          "name": "stderr"
        },
        {
          "output_type": "stream",
          "text": [
            "tensor(nan, device='cuda:0', grad_fn=<MeanBackward2>)\n",
            "tensor(nan, device='cuda:0', grad_fn=<MeanBackward2>)\n",
            "tensor(nan, device='cuda:0', grad_fn=<MeanBackward2>)\n",
            "tensor(nan, device='cuda:0', grad_fn=<MeanBackward2>)\n"
          ],
          "name": "stdout"
        },
        {
          "output_type": "stream",
          "text": [
            "epoch: 0, loss: nan, accuracy: 0.100:  27%|██▋       | 163/600 [00:16<00:22, 19.67it/s]"
          ],
          "name": "stderr"
        },
        {
          "output_type": "stream",
          "text": [
            "tensor(nan, device='cuda:0', grad_fn=<MeanBackward2>)\n",
            "tensor(nan, device='cuda:0', grad_fn=<MeanBackward2>)\n",
            "tensor(nan, device='cuda:0', grad_fn=<MeanBackward2>)\n",
            "tensor(nan, device='cuda:0', grad_fn=<MeanBackward2>)\n"
          ],
          "name": "stdout"
        },
        {
          "output_type": "stream",
          "text": [
            "epoch: 0, loss: nan, accuracy: 0.050:  28%|██▊       | 166/600 [00:16<00:22, 19.62it/s]"
          ],
          "name": "stderr"
        },
        {
          "output_type": "stream",
          "text": [
            "tensor(nan, device='cuda:0', grad_fn=<MeanBackward2>)\n",
            "tensor(nan, device='cuda:0', grad_fn=<MeanBackward2>)\n",
            "tensor(nan, device='cuda:0', grad_fn=<MeanBackward2>)\n",
            "tensor(nan, device='cuda:0', grad_fn=<MeanBackward2>)\n"
          ],
          "name": "stdout"
        },
        {
          "output_type": "stream",
          "text": [
            "epoch: 0, loss: nan, accuracy: 0.120:  28%|██▊       | 171/600 [00:16<00:21, 19.70it/s]"
          ],
          "name": "stderr"
        },
        {
          "output_type": "stream",
          "text": [
            "tensor(nan, device='cuda:0', grad_fn=<MeanBackward2>)\n",
            "tensor(nan, device='cuda:0', grad_fn=<MeanBackward2>)\n",
            "tensor(nan, device='cuda:0', grad_fn=<MeanBackward2>)\n",
            "tensor(nan, device='cuda:0', grad_fn=<MeanBackward2>)\n"
          ],
          "name": "stdout"
        },
        {
          "output_type": "stream",
          "text": [
            "epoch: 0, loss: nan, accuracy: 0.090:  29%|██▉       | 175/600 [00:16<00:21, 19.37it/s]"
          ],
          "name": "stderr"
        },
        {
          "output_type": "stream",
          "text": [
            "tensor(nan, device='cuda:0', grad_fn=<MeanBackward2>)\n",
            "tensor(nan, device='cuda:0', grad_fn=<MeanBackward2>)\n",
            "tensor(nan, device='cuda:0', grad_fn=<MeanBackward2>)\n",
            "tensor(nan, device='cuda:0', grad_fn=<MeanBackward2>)\n"
          ],
          "name": "stdout"
        },
        {
          "output_type": "stream",
          "text": [
            "epoch: 0, loss: nan, accuracy: 0.090:  30%|██▉       | 179/600 [00:16<00:21, 19.56it/s]"
          ],
          "name": "stderr"
        },
        {
          "output_type": "stream",
          "text": [
            "tensor(nan, device='cuda:0', grad_fn=<MeanBackward2>)\n",
            "tensor(nan, device='cuda:0', grad_fn=<MeanBackward2>)\n",
            "tensor(nan, device='cuda:0', grad_fn=<MeanBackward2>)\n",
            "tensor(nan, device='cuda:0', grad_fn=<MeanBackward2>)\n"
          ],
          "name": "stdout"
        },
        {
          "output_type": "stream",
          "text": [
            "epoch: 0, loss: nan, accuracy: 0.140:  30%|███       | 182/600 [00:17<00:21, 19.88it/s]"
          ],
          "name": "stderr"
        },
        {
          "output_type": "stream",
          "text": [
            "tensor(nan, device='cuda:0', grad_fn=<MeanBackward2>)\n",
            "tensor(nan, device='cuda:0', grad_fn=<MeanBackward2>)\n",
            "tensor(nan, device='cuda:0', grad_fn=<MeanBackward2>)\n",
            "tensor(nan, device='cuda:0', grad_fn=<MeanBackward2>)\n",
            "tensor(nan, device='cuda:0', grad_fn=<MeanBackward2>)\n"
          ],
          "name": "stdout"
        },
        {
          "output_type": "stream",
          "text": [
            "epoch: 0, loss: nan, accuracy: 0.080:  31%|███       | 187/600 [00:17<00:20, 19.83it/s]"
          ],
          "name": "stderr"
        },
        {
          "output_type": "stream",
          "text": [
            "tensor(nan, device='cuda:0', grad_fn=<MeanBackward2>)\n",
            "tensor(nan, device='cuda:0', grad_fn=<MeanBackward2>)\n",
            "tensor(nan, device='cuda:0', grad_fn=<MeanBackward2>)\n",
            "tensor(nan, device='cuda:0', grad_fn=<MeanBackward2>)\n",
            "tensor(nan, device='cuda:0', grad_fn=<MeanBackward2>)\n"
          ],
          "name": "stdout"
        },
        {
          "output_type": "stream",
          "text": [
            "epoch: 0, loss: nan, accuracy: 0.080:  32%|███▏      | 192/600 [00:17<00:20, 19.48it/s]"
          ],
          "name": "stderr"
        },
        {
          "output_type": "stream",
          "text": [
            "tensor(nan, device='cuda:0', grad_fn=<MeanBackward2>)\n",
            "tensor(nan, device='cuda:0', grad_fn=<MeanBackward2>)\n",
            "tensor(nan, device='cuda:0', grad_fn=<MeanBackward2>)\n",
            "tensor(nan, device='cuda:0', grad_fn=<MeanBackward2>)\n"
          ],
          "name": "stdout"
        },
        {
          "output_type": "stream",
          "text": [
            "epoch: 0, loss: nan, accuracy: 0.070:  33%|███▎      | 196/600 [00:17<00:21, 19.21it/s]"
          ],
          "name": "stderr"
        },
        {
          "output_type": "stream",
          "text": [
            "tensor(nan, device='cuda:0', grad_fn=<MeanBackward2>)\n",
            "tensor(nan, device='cuda:0', grad_fn=<MeanBackward2>)\n",
            "tensor(nan, device='cuda:0', grad_fn=<MeanBackward2>)\n",
            "tensor(nan, device='cuda:0', grad_fn=<MeanBackward2>)\n"
          ],
          "name": "stdout"
        },
        {
          "output_type": "stream",
          "text": [
            "epoch: 0, loss: nan, accuracy: 0.130:  34%|███▎      | 201/600 [00:18<00:20, 19.66it/s]"
          ],
          "name": "stderr"
        },
        {
          "output_type": "stream",
          "text": [
            "tensor(nan, device='cuda:0', grad_fn=<MeanBackward2>)\n",
            "tensor(nan, device='cuda:0', grad_fn=<MeanBackward2>)\n",
            "tensor(nan, device='cuda:0', grad_fn=<MeanBackward2>)\n",
            "tensor(nan, device='cuda:0', grad_fn=<MeanBackward2>)\n"
          ],
          "name": "stdout"
        },
        {
          "output_type": "stream",
          "text": [
            "epoch: 0, loss: nan, accuracy: 0.120:  34%|███▍      | 205/600 [00:22<03:03,  2.15it/s]"
          ],
          "name": "stderr"
        },
        {
          "output_type": "stream",
          "text": [
            "tensor(nan, device='cuda:0', grad_fn=<MeanBackward2>)\n",
            "tensor(nan, device='cuda:0', grad_fn=<MeanBackward2>)\n",
            "tensor(nan, device='cuda:0', grad_fn=<MeanBackward2>)\n",
            "tensor(nan, device='cuda:0', grad_fn=<MeanBackward2>)\n"
          ],
          "name": "stdout"
        },
        {
          "output_type": "stream",
          "text": [
            "epoch: 0, loss: nan, accuracy: 0.080:  35%|███▍      | 208/600 [00:22<02:13,  2.93it/s]"
          ],
          "name": "stderr"
        },
        {
          "output_type": "stream",
          "text": [
            "tensor(nan, device='cuda:0', grad_fn=<MeanBackward2>)\n",
            "tensor(nan, device='cuda:0', grad_fn=<MeanBackward2>)\n",
            "tensor(nan, device='cuda:0', grad_fn=<MeanBackward2>)\n",
            "tensor(nan, device='cuda:0', grad_fn=<MeanBackward2>)\n"
          ],
          "name": "stdout"
        },
        {
          "output_type": "stream",
          "text": [
            "epoch: 0, loss: nan, accuracy: 0.140:  35%|███▌      | 212/600 [00:22<01:14,  5.17it/s]"
          ],
          "name": "stderr"
        },
        {
          "output_type": "stream",
          "text": [
            "tensor(nan, device='cuda:0', grad_fn=<MeanBackward2>)\n",
            "tensor(nan, device='cuda:0', grad_fn=<MeanBackward2>)\n",
            "tensor(nan, device='cuda:0', grad_fn=<MeanBackward2>)\n",
            "tensor(nan, device='cuda:0', grad_fn=<MeanBackward2>)\n",
            "tensor(nan, device='cuda:0', grad_fn=<MeanBackward2>)"
          ],
          "name": "stdout"
        },
        {
          "output_type": "stream",
          "text": [
            "epoch: 0, loss: nan, accuracy: 0.100:  36%|███▌      | 216/600 [00:22<00:57,  6.67it/s]"
          ],
          "name": "stderr"
        },
        {
          "output_type": "stream",
          "text": [
            "\n",
            "tensor(nan, device='cuda:0', grad_fn=<MeanBackward2>)\n",
            "tensor(nan, device='cuda:0', grad_fn=<MeanBackward2>)\n",
            "tensor(nan, device='cuda:0', grad_fn=<MeanBackward2>)\n",
            "tensor(nan, device='cuda:0', grad_fn=<MeanBackward2>)\n"
          ],
          "name": "stdout"
        },
        {
          "output_type": "stream",
          "text": [
            "epoch: 0, loss: nan, accuracy: 0.140:  37%|███▋      | 222/600 [00:23<00:31, 11.91it/s]"
          ],
          "name": "stderr"
        },
        {
          "output_type": "stream",
          "text": [
            "tensor(nan, device='cuda:0', grad_fn=<MeanBackward2>)\n",
            "tensor(nan, device='cuda:0', grad_fn=<MeanBackward2>)\n",
            "tensor(nan, device='cuda:0', grad_fn=<MeanBackward2>)\n",
            "tensor(nan, device='cuda:0', grad_fn=<MeanBackward2>)\n",
            "tensor(nan, device='cuda:0', grad_fn=<MeanBackward2>)\n"
          ],
          "name": "stdout"
        },
        {
          "output_type": "stream",
          "text": [
            "epoch: 0, loss: nan, accuracy: 0.130:  38%|███▊      | 226/600 [00:23<00:25, 14.92it/s]"
          ],
          "name": "stderr"
        },
        {
          "output_type": "stream",
          "text": [
            "tensor(nan, device='cuda:0', grad_fn=<MeanBackward2>)\n",
            "tensor(nan, device='cuda:0', grad_fn=<MeanBackward2>)\n",
            "tensor(nan, device='cuda:0', grad_fn=<MeanBackward2>)\n",
            "tensor(nan, device='cuda:0', grad_fn=<MeanBackward2>)\n",
            "tensor(nan, device='cuda:0', grad_fn=<MeanBackward2>)"
          ],
          "name": "stdout"
        },
        {
          "output_type": "stream",
          "text": [
            "epoch: 0, loss: nan, accuracy: 0.120:  38%|███▊      | 231/600 [00:23<00:21, 17.13it/s]"
          ],
          "name": "stderr"
        },
        {
          "output_type": "stream",
          "text": [
            "\n",
            "tensor(nan, device='cuda:0', grad_fn=<MeanBackward2>)\n",
            "tensor(nan, device='cuda:0', grad_fn=<MeanBackward2>)\n",
            "tensor(nan, device='cuda:0', grad_fn=<MeanBackward2>)\n",
            "tensor(nan, device='cuda:0', grad_fn=<MeanBackward2>)\n"
          ],
          "name": "stdout"
        },
        {
          "output_type": "stream",
          "text": [
            "epoch: 0, loss: nan, accuracy: 0.090:  39%|███▉      | 236/600 [00:23<00:19, 18.50it/s]"
          ],
          "name": "stderr"
        },
        {
          "output_type": "stream",
          "text": [
            "tensor(nan, device='cuda:0', grad_fn=<MeanBackward2>)\n",
            "tensor(nan, device='cuda:0', grad_fn=<MeanBackward2>)\n",
            "tensor(nan, device='cuda:0', grad_fn=<MeanBackward2>)\n",
            "tensor(nan, device='cuda:0', grad_fn=<MeanBackward2>)\n"
          ],
          "name": "stdout"
        },
        {
          "output_type": "stream",
          "text": [
            "epoch: 0, loss: nan, accuracy: 0.120:  40%|███▉      | 239/600 [00:23<00:18, 19.08it/s]"
          ],
          "name": "stderr"
        },
        {
          "output_type": "stream",
          "text": [
            "tensor(nan, device='cuda:0', grad_fn=<MeanBackward2>)\n",
            "tensor(nan, device='cuda:0', grad_fn=<MeanBackward2>)\n",
            "tensor(nan, device='cuda:0', grad_fn=<MeanBackward2>)\n",
            "tensor(nan, device='cuda:0', grad_fn=<MeanBackward2>)\n",
            "tensor(nan, device='cuda:0', grad_fn=<MeanBackward2>)\n"
          ],
          "name": "stdout"
        },
        {
          "output_type": "stream",
          "text": [
            "epoch: 0, loss: nan, accuracy: 0.110:  41%|████      | 245/600 [00:24<00:18, 19.69it/s]"
          ],
          "name": "stderr"
        },
        {
          "output_type": "stream",
          "text": [
            "tensor(nan, device='cuda:0', grad_fn=<MeanBackward2>)\n",
            "tensor(nan, device='cuda:0', grad_fn=<MeanBackward2>)\n",
            "tensor(nan, device='cuda:0', grad_fn=<MeanBackward2>)\n",
            "tensor(nan, device='cuda:0', grad_fn=<MeanBackward2>)\n",
            "tensor(nan, device='cuda:0', grad_fn=<MeanBackward2>)\n"
          ],
          "name": "stdout"
        },
        {
          "output_type": "stream",
          "text": [
            "epoch: 0, loss: nan, accuracy: 0.140:  42%|████▏     | 249/600 [00:24<00:17, 19.72it/s]"
          ],
          "name": "stderr"
        },
        {
          "output_type": "stream",
          "text": [
            "tensor(nan, device='cuda:0', grad_fn=<MeanBackward2>)\n",
            "tensor(nan, device='cuda:0', grad_fn=<MeanBackward2>)\n",
            "tensor(nan, device='cuda:0', grad_fn=<MeanBackward2>)\n",
            "tensor(nan, device='cuda:0', grad_fn=<MeanBackward2>)\n"
          ],
          "name": "stdout"
        },
        {
          "output_type": "stream",
          "text": [
            "epoch: 0, loss: nan, accuracy: 0.100:  42%|████▏     | 253/600 [00:24<00:17, 19.75it/s]"
          ],
          "name": "stderr"
        },
        {
          "output_type": "stream",
          "text": [
            "tensor(nan, device='cuda:0', grad_fn=<MeanBackward2>)\n",
            "tensor(nan, device='cuda:0', grad_fn=<MeanBackward2>)\n",
            "tensor(nan, device='cuda:0', grad_fn=<MeanBackward2>)\n",
            "tensor(nan, device='cuda:0', grad_fn=<MeanBackward2>)\n",
            "tensor(nan, device='cuda:0', grad_fn=<MeanBackward2>)\n"
          ],
          "name": "stdout"
        },
        {
          "output_type": "stream",
          "text": [
            "epoch: 0, loss: nan, accuracy: 0.140:  43%|████▎     | 259/600 [00:24<00:16, 20.14it/s]"
          ],
          "name": "stderr"
        },
        {
          "output_type": "stream",
          "text": [
            "tensor(nan, device='cuda:0', grad_fn=<MeanBackward2>)\n",
            "tensor(nan, device='cuda:0', grad_fn=<MeanBackward2>)\n",
            "tensor(nan, device='cuda:0', grad_fn=<MeanBackward2>)\n",
            "tensor(nan, device='cuda:0', grad_fn=<MeanBackward2>)\n",
            "tensor(nan, device='cuda:0', grad_fn=<MeanBackward2>)\n"
          ],
          "name": "stdout"
        },
        {
          "output_type": "stream",
          "text": [
            "epoch: 0, loss: nan, accuracy: 0.070:  44%|████▍     | 263/600 [00:25<00:16, 20.19it/s]"
          ],
          "name": "stderr"
        },
        {
          "output_type": "stream",
          "text": [
            "tensor(nan, device='cuda:0', grad_fn=<MeanBackward2>)\n",
            "tensor(nan, device='cuda:0', grad_fn=<MeanBackward2>)\n",
            "tensor(nan, device='cuda:0', grad_fn=<MeanBackward2>)\n",
            "tensor(nan, device='cuda:0', grad_fn=<MeanBackward2>)\n",
            "tensor(nan, device='cuda:0', grad_fn=<MeanBackward2>)\n"
          ],
          "name": "stdout"
        },
        {
          "output_type": "stream",
          "text": [
            "epoch: 0, loss: nan, accuracy: 0.080:  45%|████▍     | 268/600 [00:25<00:16, 20.34it/s]"
          ],
          "name": "stderr"
        },
        {
          "output_type": "stream",
          "text": [
            "tensor(nan, device='cuda:0', grad_fn=<MeanBackward2>)\n",
            "tensor(nan, device='cuda:0', grad_fn=<MeanBackward2>)\n",
            "tensor(nan, device='cuda:0', grad_fn=<MeanBackward2>)\n",
            "tensor(nan, device='cuda:0', grad_fn=<MeanBackward2>)\n",
            "tensor(nan, device='cuda:0', grad_fn=<MeanBackward2>)\n"
          ],
          "name": "stdout"
        },
        {
          "output_type": "stream",
          "text": [
            "epoch: 0, loss: nan, accuracy: 0.110:  46%|████▌     | 274/600 [00:25<00:15, 20.74it/s]"
          ],
          "name": "stderr"
        },
        {
          "output_type": "stream",
          "text": [
            "tensor(nan, device='cuda:0', grad_fn=<MeanBackward2>)\n",
            "tensor(nan, device='cuda:0', grad_fn=<MeanBackward2>)\n",
            "tensor(nan, device='cuda:0', grad_fn=<MeanBackward2>)\n",
            "tensor(nan, device='cuda:0', grad_fn=<MeanBackward2>)\n",
            "tensor(nan, device='cuda:0', grad_fn=<MeanBackward2>)\n"
          ],
          "name": "stdout"
        },
        {
          "output_type": "stream",
          "text": [
            "epoch: 0, loss: nan, accuracy: 0.080:  46%|████▋     | 278/600 [00:25<00:15, 20.82it/s]"
          ],
          "name": "stderr"
        },
        {
          "output_type": "stream",
          "text": [
            "tensor(nan, device='cuda:0', grad_fn=<MeanBackward2>)\n",
            "tensor(nan, device='cuda:0', grad_fn=<MeanBackward2>)\n",
            "tensor(nan, device='cuda:0', grad_fn=<MeanBackward2>)\n",
            "tensor(nan, device='cuda:0', grad_fn=<MeanBackward2>)\n",
            "tensor(nan, device='cuda:0', grad_fn=<MeanBackward2>)\n"
          ],
          "name": "stdout"
        },
        {
          "output_type": "stream",
          "text": [
            "epoch: 0, loss: nan, accuracy: 0.090:  47%|████▋     | 283/600 [00:26<00:15, 20.77it/s]"
          ],
          "name": "stderr"
        },
        {
          "output_type": "stream",
          "text": [
            "tensor(nan, device='cuda:0', grad_fn=<MeanBackward2>)\n",
            "tensor(nan, device='cuda:0', grad_fn=<MeanBackward2>)\n",
            "tensor(nan, device='cuda:0', grad_fn=<MeanBackward2>)\n",
            "tensor(nan, device='cuda:0', grad_fn=<MeanBackward2>)\n",
            "tensor(nan, device='cuda:0', grad_fn=<MeanBackward2>)\n"
          ],
          "name": "stdout"
        },
        {
          "output_type": "stream",
          "text": [
            "epoch: 0, loss: nan, accuracy: 0.080:  48%|████▊     | 289/600 [00:26<00:15, 20.43it/s]"
          ],
          "name": "stderr"
        },
        {
          "output_type": "stream",
          "text": [
            "tensor(nan, device='cuda:0', grad_fn=<MeanBackward2>)\n",
            "tensor(nan, device='cuda:0', grad_fn=<MeanBackward2>)\n",
            "tensor(nan, device='cuda:0', grad_fn=<MeanBackward2>)\n",
            "tensor(nan, device='cuda:0', grad_fn=<MeanBackward2>)\n"
          ],
          "name": "stdout"
        },
        {
          "output_type": "stream",
          "text": [
            "epoch: 0, loss: nan, accuracy: 0.090:  49%|████▊     | 292/600 [00:26<00:15, 20.36it/s]"
          ],
          "name": "stderr"
        },
        {
          "output_type": "stream",
          "text": [
            "tensor(nan, device='cuda:0', grad_fn=<MeanBackward2>)\n",
            "tensor(nan, device='cuda:0', grad_fn=<MeanBackward2>)\n",
            "tensor(nan, device='cuda:0', grad_fn=<MeanBackward2>)\n",
            "tensor(nan, device='cuda:0', grad_fn=<MeanBackward2>)\n",
            "tensor(nan, device='cuda:0', grad_fn=<MeanBackward2>)\n"
          ],
          "name": "stdout"
        },
        {
          "output_type": "stream",
          "text": [
            "epoch: 0, loss: nan, accuracy: 0.140:  50%|████▉     | 298/600 [00:26<00:14, 20.39it/s]"
          ],
          "name": "stderr"
        },
        {
          "output_type": "stream",
          "text": [
            "tensor(nan, device='cuda:0', grad_fn=<MeanBackward2>)\n",
            "tensor(nan, device='cuda:0', grad_fn=<MeanBackward2>)\n",
            "tensor(nan, device='cuda:0', grad_fn=<MeanBackward2>)\n",
            "tensor(nan, device='cuda:0', grad_fn=<MeanBackward2>)\n"
          ],
          "name": "stdout"
        },
        {
          "output_type": "stream",
          "text": [
            "epoch: 0, loss: nan, accuracy: 0.080:  50%|█████     | 301/600 [00:26<00:14, 20.32it/s]"
          ],
          "name": "stderr"
        },
        {
          "output_type": "stream",
          "text": [
            "tensor(nan, device='cuda:0', grad_fn=<MeanBackward2>)\n",
            "tensor(nan, device='cuda:0', grad_fn=<MeanBackward2>)\n",
            "tensor(nan, device='cuda:0', grad_fn=<MeanBackward2>)\n"
          ],
          "name": "stdout"
        },
        {
          "output_type": "stream",
          "text": [
            "epoch: 0, loss: nan, accuracy: 0.080:  51%|█████     | 304/600 [00:31<02:09,  2.29it/s]"
          ],
          "name": "stderr"
        },
        {
          "output_type": "stream",
          "text": [
            "tensor(nan, device='cuda:0', grad_fn=<MeanBackward2>)\n",
            "tensor(nan, device='cuda:0', grad_fn=<MeanBackward2>)\n",
            "tensor(nan, device='cuda:0', grad_fn=<MeanBackward2>)\n",
            "tensor(nan, device='cuda:0', grad_fn=<MeanBackward2>)\n",
            "tensor(nan, device='cuda:0', grad_fn=<MeanBackward2>)\n"
          ],
          "name": "stdout"
        },
        {
          "output_type": "stream",
          "text": [
            "epoch: 0, loss: nan, accuracy: 0.160:  52%|█████▏    | 310/600 [00:31<00:53,  5.46it/s]"
          ],
          "name": "stderr"
        },
        {
          "output_type": "stream",
          "text": [
            "tensor(nan, device='cuda:0', grad_fn=<MeanBackward2>)\n",
            "tensor(nan, device='cuda:0', grad_fn=<MeanBackward2>)\n",
            "tensor(nan, device='cuda:0', grad_fn=<MeanBackward2>)\n",
            "tensor(nan, device='cuda:0', grad_fn=<MeanBackward2>)\n"
          ],
          "name": "stdout"
        },
        {
          "output_type": "stream",
          "text": [
            "epoch: 0, loss: nan, accuracy: 0.080:  52%|█████▏    | 313/600 [00:31<00:40,  7.00it/s]"
          ],
          "name": "stderr"
        },
        {
          "output_type": "stream",
          "text": [
            "tensor(nan, device='cuda:0', grad_fn=<MeanBackward2>)\n",
            "tensor(nan, device='cuda:0', grad_fn=<MeanBackward2>)\n",
            "tensor(nan, device='cuda:0', grad_fn=<MeanBackward2>)\n",
            "tensor(nan, device='cuda:0', grad_fn=<MeanBackward2>)\n",
            "tensor(nan, device='cuda:0', grad_fn=<MeanBackward2>)\n"
          ],
          "name": "stdout"
        },
        {
          "output_type": "stream",
          "text": [
            "epoch: 0, loss: nan, accuracy: 0.110:  53%|█████▎    | 319/600 [00:31<00:26, 10.58it/s]"
          ],
          "name": "stderr"
        },
        {
          "output_type": "stream",
          "text": [
            "tensor(nan, device='cuda:0', grad_fn=<MeanBackward2>)\n",
            "tensor(nan, device='cuda:0', grad_fn=<MeanBackward2>)\n",
            "tensor(nan, device='cuda:0', grad_fn=<MeanBackward2>)\n",
            "tensor(nan, device='cuda:0', grad_fn=<MeanBackward2>)\n",
            "tensor(nan, device='cuda:0', grad_fn=<MeanBackward2>)\n"
          ],
          "name": "stdout"
        },
        {
          "output_type": "stream",
          "text": [
            "epoch: 0, loss: nan, accuracy: 0.070:  54%|█████▍    | 323/600 [00:31<00:22, 12.45it/s]"
          ],
          "name": "stderr"
        },
        {
          "output_type": "stream",
          "text": [
            "tensor(nan, device='cuda:0', grad_fn=<MeanBackward2>)\n",
            "tensor(nan, device='cuda:0', grad_fn=<MeanBackward2>)\n",
            "tensor(nan, device='cuda:0', grad_fn=<MeanBackward2>)\n",
            "tensor(nan, device='cuda:0', grad_fn=<MeanBackward2>)\n",
            "tensor(nan, device='cuda:0', grad_fn=<MeanBackward2>)\n"
          ],
          "name": "stdout"
        },
        {
          "output_type": "stream",
          "text": [
            "epoch: 0, loss: nan, accuracy: 0.140:  55%|█████▍    | 328/600 [00:32<00:17, 15.44it/s]"
          ],
          "name": "stderr"
        },
        {
          "output_type": "stream",
          "text": [
            "tensor(nan, device='cuda:0', grad_fn=<MeanBackward2>)\n",
            "tensor(nan, device='cuda:0', grad_fn=<MeanBackward2>)\n",
            "tensor(nan, device='cuda:0', grad_fn=<MeanBackward2>)\n",
            "tensor(nan, device='cuda:0', grad_fn=<MeanBackward2>)\n",
            "tensor(nan, device='cuda:0', grad_fn=<MeanBackward2>)\n"
          ],
          "name": "stdout"
        },
        {
          "output_type": "stream",
          "text": [
            "epoch: 0, loss: nan, accuracy: 0.100:  56%|█████▌    | 334/600 [00:32<00:15, 17.73it/s]"
          ],
          "name": "stderr"
        },
        {
          "output_type": "stream",
          "text": [
            "tensor(nan, device='cuda:0', grad_fn=<MeanBackward2>)\n",
            "tensor(nan, device='cuda:0', grad_fn=<MeanBackward2>)\n",
            "tensor(nan, device='cuda:0', grad_fn=<MeanBackward2>)\n",
            "tensor(nan, device='cuda:0', grad_fn=<MeanBackward2>)\n",
            "tensor(nan, device='cuda:0', grad_fn=<MeanBackward2>)\n"
          ],
          "name": "stdout"
        },
        {
          "output_type": "stream",
          "text": [
            "epoch: 0, loss: nan, accuracy: 0.120:  56%|█████▋    | 338/600 [00:32<00:14, 18.48it/s]"
          ],
          "name": "stderr"
        },
        {
          "output_type": "stream",
          "text": [
            "tensor(nan, device='cuda:0', grad_fn=<MeanBackward2>)\n",
            "tensor(nan, device='cuda:0', grad_fn=<MeanBackward2>)\n",
            "tensor(nan, device='cuda:0', grad_fn=<MeanBackward2>)\n",
            "tensor(nan, device='cuda:0', grad_fn=<MeanBackward2>)\n",
            "tensor(nan, device='cuda:0', grad_fn=<MeanBackward2>)\n"
          ],
          "name": "stdout"
        },
        {
          "output_type": "stream",
          "text": [
            "epoch: 0, loss: nan, accuracy: 0.090:  57%|█████▋    | 343/600 [00:32<00:13, 19.64it/s]"
          ],
          "name": "stderr"
        },
        {
          "output_type": "stream",
          "text": [
            "tensor(nan, device='cuda:0', grad_fn=<MeanBackward2>)\n",
            "tensor(nan, device='cuda:0', grad_fn=<MeanBackward2>)\n",
            "tensor(nan, device='cuda:0', grad_fn=<MeanBackward2>)\n",
            "tensor(nan, device='cuda:0', grad_fn=<MeanBackward2>)\n",
            "tensor(nan, device='cuda:0', grad_fn=<MeanBackward2>)\n"
          ],
          "name": "stdout"
        },
        {
          "output_type": "stream",
          "text": [
            "epoch: 0, loss: nan, accuracy: 0.120:  58%|█████▊    | 349/600 [00:33<00:12, 20.22it/s]"
          ],
          "name": "stderr"
        },
        {
          "output_type": "stream",
          "text": [
            "tensor(nan, device='cuda:0', grad_fn=<MeanBackward2>)\n",
            "tensor(nan, device='cuda:0', grad_fn=<MeanBackward2>)\n",
            "tensor(nan, device='cuda:0', grad_fn=<MeanBackward2>)\n",
            "tensor(nan, device='cuda:0', grad_fn=<MeanBackward2>)\n",
            "tensor(nan, device='cuda:0', grad_fn=<MeanBackward2>)\n"
          ],
          "name": "stdout"
        },
        {
          "output_type": "stream",
          "text": [
            "epoch: 0, loss: nan, accuracy: 0.160:  59%|█████▉    | 353/600 [00:33<00:12, 20.12it/s]"
          ],
          "name": "stderr"
        },
        {
          "output_type": "stream",
          "text": [
            "tensor(nan, device='cuda:0', grad_fn=<MeanBackward2>)\n",
            "tensor(nan, device='cuda:0', grad_fn=<MeanBackward2>)\n",
            "tensor(nan, device='cuda:0', grad_fn=<MeanBackward2>)\n",
            "tensor(nan, device='cuda:0', grad_fn=<MeanBackward2>)\n",
            "tensor(nan, device='cuda:0', grad_fn=<MeanBackward2>)\n"
          ],
          "name": "stdout"
        },
        {
          "output_type": "stream",
          "text": [
            "epoch: 0, loss: nan, accuracy: 0.090:  60%|█████▉    | 358/600 [00:33<00:12, 19.95it/s]"
          ],
          "name": "stderr"
        },
        {
          "output_type": "stream",
          "text": [
            "tensor(nan, device='cuda:0', grad_fn=<MeanBackward2>)\n",
            "tensor(nan, device='cuda:0', grad_fn=<MeanBackward2>)\n",
            "tensor(nan, device='cuda:0', grad_fn=<MeanBackward2>)\n",
            "tensor(nan, device='cuda:0', grad_fn=<MeanBackward2>)\n",
            "tensor(nan, device='cuda:0', grad_fn=<MeanBackward2>)\n"
          ],
          "name": "stdout"
        },
        {
          "output_type": "stream",
          "text": [
            "epoch: 0, loss: nan, accuracy: 0.140:  61%|██████    | 364/600 [00:33<00:11, 20.53it/s]"
          ],
          "name": "stderr"
        },
        {
          "output_type": "stream",
          "text": [
            "tensor(nan, device='cuda:0', grad_fn=<MeanBackward2>)\n",
            "tensor(nan, device='cuda:0', grad_fn=<MeanBackward2>)\n",
            "tensor(nan, device='cuda:0', grad_fn=<MeanBackward2>)\n",
            "tensor(nan, device='cuda:0', grad_fn=<MeanBackward2>)\n",
            "tensor(nan, device='cuda:0', grad_fn=<MeanBackward2>)\n"
          ],
          "name": "stdout"
        },
        {
          "output_type": "stream",
          "text": [
            "epoch: 0, loss: nan, accuracy: 0.080:  61%|██████▏   | 368/600 [00:34<00:11, 20.80it/s]"
          ],
          "name": "stderr"
        },
        {
          "output_type": "stream",
          "text": [
            "tensor(nan, device='cuda:0', grad_fn=<MeanBackward2>)\n",
            "tensor(nan, device='cuda:0', grad_fn=<MeanBackward2>)\n",
            "tensor(nan, device='cuda:0', grad_fn=<MeanBackward2>)\n",
            "tensor(nan, device='cuda:0', grad_fn=<MeanBackward2>)\n",
            "tensor(nan, device='cuda:0', grad_fn=<MeanBackward2>)\n"
          ],
          "name": "stdout"
        },
        {
          "output_type": "stream",
          "text": [
            "epoch: 0, loss: nan, accuracy: 0.100:  62%|██████▏   | 373/600 [00:34<00:10, 20.65it/s]"
          ],
          "name": "stderr"
        },
        {
          "output_type": "stream",
          "text": [
            "tensor(nan, device='cuda:0', grad_fn=<MeanBackward2>)\n",
            "tensor(nan, device='cuda:0', grad_fn=<MeanBackward2>)\n",
            "tensor(nan, device='cuda:0', grad_fn=<MeanBackward2>)\n",
            "tensor(nan, device='cuda:0', grad_fn=<MeanBackward2>)\n",
            "tensor(nan, device='cuda:0', grad_fn=<MeanBackward2>)\n"
          ],
          "name": "stdout"
        },
        {
          "output_type": "stream",
          "text": [
            "epoch: 0, loss: nan, accuracy: 0.140:  63%|██████▎   | 379/600 [00:34<00:10, 20.26it/s]"
          ],
          "name": "stderr"
        },
        {
          "output_type": "stream",
          "text": [
            "tensor(nan, device='cuda:0', grad_fn=<MeanBackward2>)\n",
            "tensor(nan, device='cuda:0', grad_fn=<MeanBackward2>)\n",
            "tensor(nan, device='cuda:0', grad_fn=<MeanBackward2>)\n",
            "tensor(nan, device='cuda:0', grad_fn=<MeanBackward2>)\n"
          ],
          "name": "stdout"
        },
        {
          "output_type": "stream",
          "text": [
            "epoch: 0, loss: nan, accuracy: 0.090:  64%|██████▎   | 382/600 [00:34<00:10, 20.19it/s]"
          ],
          "name": "stderr"
        },
        {
          "output_type": "stream",
          "text": [
            "tensor(nan, device='cuda:0', grad_fn=<MeanBackward2>)\n",
            "tensor(nan, device='cuda:0', grad_fn=<MeanBackward2>)\n",
            "tensor(nan, device='cuda:0', grad_fn=<MeanBackward2>)\n",
            "tensor(nan, device='cuda:0', grad_fn=<MeanBackward2>)\n"
          ],
          "name": "stdout"
        },
        {
          "output_type": "stream",
          "text": [
            "epoch: 0, loss: nan, accuracy: 0.090:  64%|██████▍   | 386/600 [00:35<00:10, 20.06it/s]"
          ],
          "name": "stderr"
        },
        {
          "output_type": "stream",
          "text": [
            "tensor(nan, device='cuda:0', grad_fn=<MeanBackward2>)\n",
            "tensor(nan, device='cuda:0', grad_fn=<MeanBackward2>)\n",
            "tensor(nan, device='cuda:0', grad_fn=<MeanBackward2>)\n",
            "tensor(nan, device='cuda:0', grad_fn=<MeanBackward2>)\n",
            "tensor(nan, device='cuda:0', grad_fn=<MeanBackward2>)\n"
          ],
          "name": "stdout"
        },
        {
          "output_type": "stream",
          "text": [
            "epoch: 0, loss: nan, accuracy: 0.170:  65%|██████▌   | 391/600 [00:35<00:10, 20.12it/s]"
          ],
          "name": "stderr"
        },
        {
          "output_type": "stream",
          "text": [
            "tensor(nan, device='cuda:0', grad_fn=<MeanBackward2>)\n",
            "tensor(nan, device='cuda:0', grad_fn=<MeanBackward2>)\n",
            "tensor(nan, device='cuda:0', grad_fn=<MeanBackward2>)\n",
            "tensor(nan, device='cuda:0', grad_fn=<MeanBackward2>)\n",
            "tensor(nan, device='cuda:0', grad_fn=<MeanBackward2>)\n"
          ],
          "name": "stdout"
        },
        {
          "output_type": "stream",
          "text": [
            "epoch: 0, loss: nan, accuracy: 0.120:  66%|██████▌   | 397/600 [00:35<00:09, 20.52it/s]"
          ],
          "name": "stderr"
        },
        {
          "output_type": "stream",
          "text": [
            "tensor(nan, device='cuda:0', grad_fn=<MeanBackward2>)\n",
            "tensor(nan, device='cuda:0', grad_fn=<MeanBackward2>)\n",
            "tensor(nan, device='cuda:0', grad_fn=<MeanBackward2>)\n",
            "tensor(nan, device='cuda:0', grad_fn=<MeanBackward2>)\n",
            "tensor(nan, device='cuda:0', grad_fn=<MeanBackward2>)\n"
          ],
          "name": "stdout"
        },
        {
          "output_type": "stream",
          "text": [
            "epoch: 0, loss: nan, accuracy: 0.130:  67%|██████▋   | 400/600 [00:35<00:09, 20.24it/s]"
          ],
          "name": "stderr"
        },
        {
          "output_type": "stream",
          "text": [
            "tensor(nan, device='cuda:0', grad_fn=<MeanBackward2>)\n",
            "tensor(nan, device='cuda:0', grad_fn=<MeanBackward2>)\n",
            "tensor(nan, device='cuda:0', grad_fn=<MeanBackward2>)\n"
          ],
          "name": "stdout"
        },
        {
          "output_type": "stream",
          "text": [
            "epoch: 0, loss: nan, accuracy: 0.160:  68%|██████▊   | 405/600 [00:39<01:02,  3.11it/s]"
          ],
          "name": "stderr"
        },
        {
          "output_type": "stream",
          "text": [
            "tensor(nan, device='cuda:0', grad_fn=<MeanBackward2>)\n",
            "tensor(nan, device='cuda:0', grad_fn=<MeanBackward2>)\n",
            "tensor(nan, device='cuda:0', grad_fn=<MeanBackward2>)\n",
            "tensor(nan, device='cuda:0', grad_fn=<MeanBackward2>)\n"
          ],
          "name": "stdout"
        },
        {
          "output_type": "stream",
          "text": [
            "epoch: 0, loss: nan, accuracy: 0.140:  68%|██████▊   | 408/600 [00:39<00:45,  4.19it/s]"
          ],
          "name": "stderr"
        },
        {
          "output_type": "stream",
          "text": [
            "tensor(nan, device='cuda:0', grad_fn=<MeanBackward2>)\n",
            "tensor(nan, device='cuda:0', grad_fn=<MeanBackward2>)\n",
            "tensor(nan, device='cuda:0', grad_fn=<MeanBackward2>)\n",
            "tensor(nan, device='cuda:0', grad_fn=<MeanBackward2>)\n",
            "tensor(nan, device='cuda:0', grad_fn=<MeanBackward2>)\n"
          ],
          "name": "stdout"
        },
        {
          "output_type": "stream",
          "text": [
            "epoch: 0, loss: nan, accuracy: 0.060:  69%|██████▉   | 414/600 [00:40<00:26,  7.09it/s]"
          ],
          "name": "stderr"
        },
        {
          "output_type": "stream",
          "text": [
            "tensor(nan, device='cuda:0', grad_fn=<MeanBackward2>)\n",
            "tensor(nan, device='cuda:0', grad_fn=<MeanBackward2>)\n",
            "tensor(nan, device='cuda:0', grad_fn=<MeanBackward2>)\n",
            "tensor(nan, device='cuda:0', grad_fn=<MeanBackward2>)\n",
            "tensor(nan, device='cuda:0', grad_fn=<MeanBackward2>)\n"
          ],
          "name": "stdout"
        },
        {
          "output_type": "stream",
          "text": [
            "epoch: 0, loss: nan, accuracy: 0.050:  70%|██████▉   | 418/600 [00:40<00:20,  8.88it/s]"
          ],
          "name": "stderr"
        },
        {
          "output_type": "stream",
          "text": [
            "tensor(nan, device='cuda:0', grad_fn=<MeanBackward2>)\n",
            "tensor(nan, device='cuda:0', grad_fn=<MeanBackward2>)\n",
            "tensor(nan, device='cuda:0', grad_fn=<MeanBackward2>)\n",
            "tensor(nan, device='cuda:0', grad_fn=<MeanBackward2>)\n",
            "tensor(nan, device='cuda:0', grad_fn=<MeanBackward2>)\n"
          ],
          "name": "stdout"
        },
        {
          "output_type": "stream",
          "text": [
            "epoch: 0, loss: nan, accuracy: 0.160:  70%|███████   | 423/600 [00:40<00:13, 12.69it/s]"
          ],
          "name": "stderr"
        },
        {
          "output_type": "stream",
          "text": [
            "tensor(nan, device='cuda:0', grad_fn=<MeanBackward2>)\n",
            "tensor(nan, device='cuda:0', grad_fn=<MeanBackward2>)\n",
            "tensor(nan, device='cuda:0', grad_fn=<MeanBackward2>)\n",
            "tensor(nan, device='cuda:0', grad_fn=<MeanBackward2>)\n",
            "tensor(nan, device='cuda:0', grad_fn=<MeanBackward2>)\n"
          ],
          "name": "stdout"
        },
        {
          "output_type": "stream",
          "text": [
            "epoch: 0, loss: nan, accuracy: 0.080:  72%|███████▏  | 429/600 [00:40<00:10, 15.92it/s]"
          ],
          "name": "stderr"
        },
        {
          "output_type": "stream",
          "text": [
            "tensor(nan, device='cuda:0', grad_fn=<MeanBackward2>)\n",
            "tensor(nan, device='cuda:0', grad_fn=<MeanBackward2>)\n",
            "tensor(nan, device='cuda:0', grad_fn=<MeanBackward2>)\n",
            "tensor(nan, device='cuda:0', grad_fn=<MeanBackward2>)\n",
            "tensor(nan, device='cuda:0', grad_fn=<MeanBackward2>)\n"
          ],
          "name": "stdout"
        },
        {
          "output_type": "stream",
          "text": [
            "epoch: 0, loss: nan, accuracy: 0.130:  72%|███████▏  | 433/600 [00:41<00:09, 17.13it/s]"
          ],
          "name": "stderr"
        },
        {
          "output_type": "stream",
          "text": [
            "tensor(nan, device='cuda:0', grad_fn=<MeanBackward2>)\n",
            "tensor(nan, device='cuda:0', grad_fn=<MeanBackward2>)\n",
            "tensor(nan, device='cuda:0', grad_fn=<MeanBackward2>)\n",
            "tensor(nan, device='cuda:0', grad_fn=<MeanBackward2>)\n",
            "tensor(nan, device='cuda:0', grad_fn=<MeanBackward2>)\n"
          ],
          "name": "stdout"
        },
        {
          "output_type": "stream",
          "text": [
            "epoch: 0, loss: nan, accuracy: 0.130:  73%|███████▎  | 438/600 [00:41<00:08, 18.99it/s]"
          ],
          "name": "stderr"
        },
        {
          "output_type": "stream",
          "text": [
            "tensor(nan, device='cuda:0', grad_fn=<MeanBackward2>)\n",
            "tensor(nan, device='cuda:0', grad_fn=<MeanBackward2>)\n",
            "tensor(nan, device='cuda:0', grad_fn=<MeanBackward2>)\n",
            "tensor(nan, device='cuda:0', grad_fn=<MeanBackward2>)\n",
            "tensor(nan, device='cuda:0', grad_fn=<MeanBackward2>)\n"
          ],
          "name": "stdout"
        },
        {
          "output_type": "stream",
          "text": [
            "epoch: 0, loss: nan, accuracy: 0.100:  74%|███████▍  | 444/600 [00:41<00:07, 19.87it/s]"
          ],
          "name": "stderr"
        },
        {
          "output_type": "stream",
          "text": [
            "tensor(nan, device='cuda:0', grad_fn=<MeanBackward2>)\n",
            "tensor(nan, device='cuda:0', grad_fn=<MeanBackward2>)\n",
            "tensor(nan, device='cuda:0', grad_fn=<MeanBackward2>)\n",
            "tensor(nan, device='cuda:0', grad_fn=<MeanBackward2>)\n",
            "tensor(nan, device='cuda:0', grad_fn=<MeanBackward2>)\n"
          ],
          "name": "stdout"
        },
        {
          "output_type": "stream",
          "text": [
            "epoch: 0, loss: nan, accuracy: 0.100:  75%|███████▍  | 448/600 [00:41<00:07, 19.98it/s]"
          ],
          "name": "stderr"
        },
        {
          "output_type": "stream",
          "text": [
            "tensor(nan, device='cuda:0', grad_fn=<MeanBackward2>)\n",
            "tensor(nan, device='cuda:0', grad_fn=<MeanBackward2>)\n",
            "tensor(nan, device='cuda:0', grad_fn=<MeanBackward2>)\n",
            "tensor(nan, device='cuda:0', grad_fn=<MeanBackward2>)\n",
            "tensor(nan, device='cuda:0', grad_fn=<MeanBackward2>)\n"
          ],
          "name": "stdout"
        },
        {
          "output_type": "stream",
          "text": [
            "epoch: 0, loss: nan, accuracy: 0.050:  76%|███████▌  | 453/600 [00:42<00:07, 20.04it/s]"
          ],
          "name": "stderr"
        },
        {
          "output_type": "stream",
          "text": [
            "tensor(nan, device='cuda:0', grad_fn=<MeanBackward2>)\n",
            "tensor(nan, device='cuda:0', grad_fn=<MeanBackward2>)\n",
            "tensor(nan, device='cuda:0', grad_fn=<MeanBackward2>)\n",
            "tensor(nan, device='cuda:0', grad_fn=<MeanBackward2>)\n",
            "tensor(nan, device='cuda:0', grad_fn=<MeanBackward2>)\n"
          ],
          "name": "stdout"
        },
        {
          "output_type": "stream",
          "text": [
            "epoch: 0, loss: nan, accuracy: 0.110:  76%|███████▋  | 459/600 [00:42<00:07, 20.06it/s]"
          ],
          "name": "stderr"
        },
        {
          "output_type": "stream",
          "text": [
            "tensor(nan, device='cuda:0', grad_fn=<MeanBackward2>)\n",
            "tensor(nan, device='cuda:0', grad_fn=<MeanBackward2>)\n",
            "tensor(nan, device='cuda:0', grad_fn=<MeanBackward2>)\n",
            "tensor(nan, device='cuda:0', grad_fn=<MeanBackward2>)\n",
            "tensor(nan, device='cuda:0', grad_fn=<MeanBackward2>)\n"
          ],
          "name": "stdout"
        },
        {
          "output_type": "stream",
          "text": [
            "epoch: 0, loss: nan, accuracy: 0.070:  77%|███████▋  | 463/600 [00:42<00:06, 20.21it/s]"
          ],
          "name": "stderr"
        },
        {
          "output_type": "stream",
          "text": [
            "tensor(nan, device='cuda:0', grad_fn=<MeanBackward2>)\n",
            "tensor(nan, device='cuda:0', grad_fn=<MeanBackward2>)\n",
            "tensor(nan, device='cuda:0', grad_fn=<MeanBackward2>)\n",
            "tensor(nan, device='cuda:0', grad_fn=<MeanBackward2>)\n",
            "tensor(nan, device='cuda:0', grad_fn=<MeanBackward2>)\n"
          ],
          "name": "stdout"
        },
        {
          "output_type": "stream",
          "text": [
            "epoch: 0, loss: nan, accuracy: 0.070:  78%|███████▊  | 468/600 [00:42<00:06, 20.42it/s]"
          ],
          "name": "stderr"
        },
        {
          "output_type": "stream",
          "text": [
            "tensor(nan, device='cuda:0', grad_fn=<MeanBackward2>)\n",
            "tensor(nan, device='cuda:0', grad_fn=<MeanBackward2>)\n",
            "tensor(nan, device='cuda:0', grad_fn=<MeanBackward2>)\n",
            "tensor(nan, device='cuda:0', grad_fn=<MeanBackward2>)\n",
            "tensor(nan, device='cuda:0', grad_fn=<MeanBackward2>)\n"
          ],
          "name": "stdout"
        },
        {
          "output_type": "stream",
          "text": [
            "epoch: 0, loss: nan, accuracy: 0.120:  79%|███████▉  | 474/600 [00:43<00:06, 20.62it/s]"
          ],
          "name": "stderr"
        },
        {
          "output_type": "stream",
          "text": [
            "tensor(nan, device='cuda:0', grad_fn=<MeanBackward2>)\n",
            "tensor(nan, device='cuda:0', grad_fn=<MeanBackward2>)\n",
            "tensor(nan, device='cuda:0', grad_fn=<MeanBackward2>)\n",
            "tensor(nan, device='cuda:0', grad_fn=<MeanBackward2>)\n",
            "tensor(nan, device='cuda:0', grad_fn=<MeanBackward2>)\n"
          ],
          "name": "stdout"
        },
        {
          "output_type": "stream",
          "text": [
            "epoch: 0, loss: nan, accuracy: 0.130:  80%|███████▉  | 478/600 [00:43<00:05, 20.70it/s]"
          ],
          "name": "stderr"
        },
        {
          "output_type": "stream",
          "text": [
            "tensor(nan, device='cuda:0', grad_fn=<MeanBackward2>)\n",
            "tensor(nan, device='cuda:0', grad_fn=<MeanBackward2>)\n",
            "tensor(nan, device='cuda:0', grad_fn=<MeanBackward2>)\n",
            "tensor(nan, device='cuda:0', grad_fn=<MeanBackward2>)\n",
            "tensor(nan, device='cuda:0', grad_fn=<MeanBackward2>)\n"
          ],
          "name": "stdout"
        },
        {
          "output_type": "stream",
          "text": [
            "epoch: 0, loss: nan, accuracy: 0.150:  80%|████████  | 483/600 [00:43<00:05, 20.36it/s]"
          ],
          "name": "stderr"
        },
        {
          "output_type": "stream",
          "text": [
            "tensor(nan, device='cuda:0', grad_fn=<MeanBackward2>)\n",
            "tensor(nan, device='cuda:0', grad_fn=<MeanBackward2>)\n",
            "tensor(nan, device='cuda:0', grad_fn=<MeanBackward2>)\n",
            "tensor(nan, device='cuda:0', grad_fn=<MeanBackward2>)\n",
            "tensor(nan, device='cuda:0', grad_fn=<MeanBackward2>)\n"
          ],
          "name": "stdout"
        },
        {
          "output_type": "stream",
          "text": [
            "epoch: 0, loss: nan, accuracy: 0.120:  82%|████████▏ | 489/600 [00:43<00:05, 20.36it/s]"
          ],
          "name": "stderr"
        },
        {
          "output_type": "stream",
          "text": [
            "tensor(nan, device='cuda:0', grad_fn=<MeanBackward2>)\n",
            "tensor(nan, device='cuda:0', grad_fn=<MeanBackward2>)\n",
            "tensor(nan, device='cuda:0', grad_fn=<MeanBackward2>)\n",
            "tensor(nan, device='cuda:0', grad_fn=<MeanBackward2>)\n",
            "tensor(nan, device='cuda:0', grad_fn=<MeanBackward2>)"
          ],
          "name": "stdout"
        },
        {
          "output_type": "stream",
          "text": [
            "epoch: 0, loss: nan, accuracy: 0.100:  82%|████████▏ | 492/600 [00:44<00:05, 20.63it/s]"
          ],
          "name": "stderr"
        },
        {
          "output_type": "stream",
          "text": [
            "\n",
            "tensor(nan, device='cuda:0', grad_fn=<MeanBackward2>)\n",
            "tensor(nan, device='cuda:0', grad_fn=<MeanBackward2>)\n",
            "tensor(nan, device='cuda:0', grad_fn=<MeanBackward2>)\n",
            "tensor(nan, device='cuda:0', grad_fn=<MeanBackward2>)\n"
          ],
          "name": "stdout"
        },
        {
          "output_type": "stream",
          "text": [
            "epoch: 0, loss: nan, accuracy: 0.150:  83%|████████▎ | 498/600 [00:44<00:04, 20.77it/s]"
          ],
          "name": "stderr"
        },
        {
          "output_type": "stream",
          "text": [
            "tensor(nan, device='cuda:0', grad_fn=<MeanBackward2>)\n",
            "tensor(nan, device='cuda:0', grad_fn=<MeanBackward2>)\n",
            "tensor(nan, device='cuda:0', grad_fn=<MeanBackward2>)\n",
            "tensor(nan, device='cuda:0', grad_fn=<MeanBackward2>)\n",
            "tensor(nan, device='cuda:0', grad_fn=<MeanBackward2>)\n"
          ],
          "name": "stdout"
        },
        {
          "output_type": "stream",
          "text": [
            "epoch: 0, loss: nan, accuracy: 0.100:  84%|████████▎ | 501/600 [00:44<00:04, 20.82it/s]"
          ],
          "name": "stderr"
        },
        {
          "output_type": "stream",
          "text": [
            "tensor(nan, device='cuda:0', grad_fn=<MeanBackward2>)\n",
            "tensor(nan, device='cuda:0', grad_fn=<MeanBackward2>)\n"
          ],
          "name": "stdout"
        },
        {
          "output_type": "stream",
          "text": [
            "epoch: 0, loss: nan, accuracy: 0.090:  84%|████████▍ | 504/600 [00:48<00:41,  2.30it/s]"
          ],
          "name": "stderr"
        },
        {
          "output_type": "stream",
          "text": [
            "tensor(nan, device='cuda:0', grad_fn=<MeanBackward2>)\n",
            "tensor(nan, device='cuda:0', grad_fn=<MeanBackward2>)\n",
            "tensor(nan, device='cuda:0', grad_fn=<MeanBackward2>)\n",
            "tensor(nan, device='cuda:0', grad_fn=<MeanBackward2>)\n",
            "tensor(nan, device='cuda:0', grad_fn=<MeanBackward2>)\n"
          ],
          "name": "stdout"
        },
        {
          "output_type": "stream",
          "text": [
            "epoch: 0, loss: nan, accuracy: 0.080:  85%|████████▌ | 510/600 [00:48<00:21,  4.20it/s]"
          ],
          "name": "stderr"
        },
        {
          "output_type": "stream",
          "text": [
            "tensor(nan, device='cuda:0', grad_fn=<MeanBackward2>)\n",
            "tensor(nan, device='cuda:0', grad_fn=<MeanBackward2>)\n",
            "tensor(nan, device='cuda:0', grad_fn=<MeanBackward2>)\n",
            "tensor(nan, device='cuda:0', grad_fn=<MeanBackward2>)\n",
            "tensor(nan, device='cuda:0', grad_fn=<MeanBackward2>)\n"
          ],
          "name": "stdout"
        },
        {
          "output_type": "stream",
          "text": [
            "epoch: 0, loss: nan, accuracy: 0.110:  86%|████████▌ | 514/600 [00:48<00:15,  5.52it/s]"
          ],
          "name": "stderr"
        },
        {
          "output_type": "stream",
          "text": [
            "tensor(nan, device='cuda:0', grad_fn=<MeanBackward2>)\n",
            "tensor(nan, device='cuda:0', grad_fn=<MeanBackward2>)\n",
            "tensor(nan, device='cuda:0', grad_fn=<MeanBackward2>)\n",
            "tensor(nan, device='cuda:0', grad_fn=<MeanBackward2>)\n",
            "tensor(nan, device='cuda:0', grad_fn=<MeanBackward2>)\n"
          ],
          "name": "stdout"
        },
        {
          "output_type": "stream",
          "text": [
            "epoch: 0, loss: nan, accuracy: 0.080:  86%|████████▋ | 519/600 [00:49<00:09,  8.72it/s]"
          ],
          "name": "stderr"
        },
        {
          "output_type": "stream",
          "text": [
            "tensor(nan, device='cuda:0', grad_fn=<MeanBackward2>)\n",
            "tensor(nan, device='cuda:0', grad_fn=<MeanBackward2>)\n",
            "tensor(nan, device='cuda:0', grad_fn=<MeanBackward2>)\n",
            "tensor(nan, device='cuda:0', grad_fn=<MeanBackward2>)\n",
            "tensor(nan, device='cuda:0', grad_fn=<MeanBackward2>)\n"
          ],
          "name": "stdout"
        },
        {
          "output_type": "stream",
          "text": [
            "epoch: 0, loss: nan, accuracy: 0.080:  87%|████████▋ | 524/600 [00:49<00:06, 12.31it/s]"
          ],
          "name": "stderr"
        },
        {
          "output_type": "stream",
          "text": [
            "tensor(nan, device='cuda:0', grad_fn=<MeanBackward2>)\n",
            "tensor(nan, device='cuda:0', grad_fn=<MeanBackward2>)\n",
            "tensor(nan, device='cuda:0', grad_fn=<MeanBackward2>)\n",
            "tensor(nan, device='cuda:0', grad_fn=<MeanBackward2>)\n",
            "tensor(nan, device='cuda:0', grad_fn=<MeanBackward2>)\n"
          ],
          "name": "stdout"
        },
        {
          "output_type": "stream",
          "text": [
            "epoch: 0, loss: nan, accuracy: 0.050:  88%|████████▊ | 529/600 [00:49<00:04, 15.71it/s]"
          ],
          "name": "stderr"
        },
        {
          "output_type": "stream",
          "text": [
            "tensor(nan, device='cuda:0', grad_fn=<MeanBackward2>)\n",
            "tensor(nan, device='cuda:0', grad_fn=<MeanBackward2>)\n",
            "tensor(nan, device='cuda:0', grad_fn=<MeanBackward2>)\n",
            "tensor(nan, device='cuda:0', grad_fn=<MeanBackward2>)\n",
            "tensor(nan, device='cuda:0', grad_fn=<MeanBackward2>)\n"
          ],
          "name": "stdout"
        },
        {
          "output_type": "stream",
          "text": [
            "epoch: 0, loss: nan, accuracy: 0.090:  89%|████████▉ | 535/600 [00:49<00:03, 18.03it/s]"
          ],
          "name": "stderr"
        },
        {
          "output_type": "stream",
          "text": [
            "tensor(nan, device='cuda:0', grad_fn=<MeanBackward2>)\n",
            "tensor(nan, device='cuda:0', grad_fn=<MeanBackward2>)\n",
            "tensor(nan, device='cuda:0', grad_fn=<MeanBackward2>)\n",
            "tensor(nan, device='cuda:0', grad_fn=<MeanBackward2>)\n",
            "tensor(nan, device='cuda:0', grad_fn=<MeanBackward2>)\n"
          ],
          "name": "stdout"
        },
        {
          "output_type": "stream",
          "text": [
            "epoch: 0, loss: nan, accuracy: 0.120:  90%|████████▉ | 539/600 [00:50<00:03, 18.59it/s]"
          ],
          "name": "stderr"
        },
        {
          "output_type": "stream",
          "text": [
            "tensor(nan, device='cuda:0', grad_fn=<MeanBackward2>)\n",
            "tensor(nan, device='cuda:0', grad_fn=<MeanBackward2>)\n",
            "tensor(nan, device='cuda:0', grad_fn=<MeanBackward2>)\n",
            "tensor(nan, device='cuda:0', grad_fn=<MeanBackward2>)\n",
            "tensor(nan, device='cuda:0', grad_fn=<MeanBackward2>)\n"
          ],
          "name": "stdout"
        },
        {
          "output_type": "stream",
          "text": [
            "epoch: 0, loss: nan, accuracy: 0.100:  91%|█████████ | 544/600 [00:50<00:02, 19.64it/s]"
          ],
          "name": "stderr"
        },
        {
          "output_type": "stream",
          "text": [
            "tensor(nan, device='cuda:0', grad_fn=<MeanBackward2>)\n",
            "tensor(nan, device='cuda:0', grad_fn=<MeanBackward2>)\n",
            "tensor(nan, device='cuda:0', grad_fn=<MeanBackward2>)\n",
            "tensor(nan, device='cuda:0', grad_fn=<MeanBackward2>)\n",
            "tensor(nan, device='cuda:0', grad_fn=<MeanBackward2>)\n"
          ],
          "name": "stdout"
        },
        {
          "output_type": "stream",
          "text": [
            "epoch: 0, loss: nan, accuracy: 0.060:  92%|█████████▏| 550/600 [00:50<00:02, 20.19it/s]"
          ],
          "name": "stderr"
        },
        {
          "output_type": "stream",
          "text": [
            "tensor(nan, device='cuda:0', grad_fn=<MeanBackward2>)\n",
            "tensor(nan, device='cuda:0', grad_fn=<MeanBackward2>)\n",
            "tensor(nan, device='cuda:0', grad_fn=<MeanBackward2>)\n",
            "tensor(nan, device='cuda:0', grad_fn=<MeanBackward2>)\n",
            "tensor(nan, device='cuda:0', grad_fn=<MeanBackward2>)\n"
          ],
          "name": "stdout"
        },
        {
          "output_type": "stream",
          "text": [
            "epoch: 0, loss: nan, accuracy: 0.150:  92%|█████████▏| 554/600 [00:50<00:02, 20.36it/s]"
          ],
          "name": "stderr"
        },
        {
          "output_type": "stream",
          "text": [
            "tensor(nan, device='cuda:0', grad_fn=<MeanBackward2>)\n",
            "tensor(nan, device='cuda:0', grad_fn=<MeanBackward2>)\n",
            "tensor(nan, device='cuda:0', grad_fn=<MeanBackward2>)\n",
            "tensor(nan, device='cuda:0', grad_fn=<MeanBackward2>)\n",
            "tensor(nan, device='cuda:0', grad_fn=<MeanBackward2>)\n"
          ],
          "name": "stdout"
        },
        {
          "output_type": "stream",
          "text": [
            "epoch: 0, loss: nan, accuracy: 0.130:  93%|█████████▎| 559/600 [00:51<00:02, 20.33it/s]"
          ],
          "name": "stderr"
        },
        {
          "output_type": "stream",
          "text": [
            "tensor(nan, device='cuda:0', grad_fn=<MeanBackward2>)\n",
            "tensor(nan, device='cuda:0', grad_fn=<MeanBackward2>)\n",
            "tensor(nan, device='cuda:0', grad_fn=<MeanBackward2>)\n",
            "tensor(nan, device='cuda:0', grad_fn=<MeanBackward2>)\n",
            "tensor(nan, device='cuda:0', grad_fn=<MeanBackward2>)\n"
          ],
          "name": "stdout"
        },
        {
          "output_type": "stream",
          "text": [
            "epoch: 0, loss: nan, accuracy: 0.090:  94%|█████████▍| 565/600 [00:51<00:01, 20.49it/s]"
          ],
          "name": "stderr"
        },
        {
          "output_type": "stream",
          "text": [
            "tensor(nan, device='cuda:0', grad_fn=<MeanBackward2>)\n",
            "tensor(nan, device='cuda:0', grad_fn=<MeanBackward2>)\n",
            "tensor(nan, device='cuda:0', grad_fn=<MeanBackward2>)\n",
            "tensor(nan, device='cuda:0', grad_fn=<MeanBackward2>)\n",
            "tensor(nan, device='cuda:0', grad_fn=<MeanBackward2>)\n"
          ],
          "name": "stdout"
        },
        {
          "output_type": "stream",
          "text": [
            "epoch: 0, loss: nan, accuracy: 0.090:  95%|█████████▍| 569/600 [00:51<00:01, 20.53it/s]"
          ],
          "name": "stderr"
        },
        {
          "output_type": "stream",
          "text": [
            "tensor(nan, device='cuda:0', grad_fn=<MeanBackward2>)\n",
            "tensor(nan, device='cuda:0', grad_fn=<MeanBackward2>)\n",
            "tensor(nan, device='cuda:0', grad_fn=<MeanBackward2>)\n",
            "tensor(nan, device='cuda:0', grad_fn=<MeanBackward2>)\n",
            "tensor(nan, device='cuda:0', grad_fn=<MeanBackward2>)\n"
          ],
          "name": "stdout"
        },
        {
          "output_type": "stream",
          "text": [
            "epoch: 0, loss: nan, accuracy: 0.140:  96%|█████████▌| 574/600 [00:51<00:01, 20.48it/s]"
          ],
          "name": "stderr"
        },
        {
          "output_type": "stream",
          "text": [
            "tensor(nan, device='cuda:0', grad_fn=<MeanBackward2>)\n",
            "tensor(nan, device='cuda:0', grad_fn=<MeanBackward2>)\n",
            "tensor(nan, device='cuda:0', grad_fn=<MeanBackward2>)\n",
            "tensor(nan, device='cuda:0', grad_fn=<MeanBackward2>)\n",
            "tensor(nan, device='cuda:0', grad_fn=<MeanBackward2>)\n"
          ],
          "name": "stdout"
        },
        {
          "output_type": "stream",
          "text": [
            "epoch: 0, loss: nan, accuracy: 0.120:  97%|█████████▋| 580/600 [00:52<00:00, 20.57it/s]"
          ],
          "name": "stderr"
        },
        {
          "output_type": "stream",
          "text": [
            "tensor(nan, device='cuda:0', grad_fn=<MeanBackward2>)\n",
            "tensor(nan, device='cuda:0', grad_fn=<MeanBackward2>)\n",
            "tensor(nan, device='cuda:0', grad_fn=<MeanBackward2>)\n",
            "tensor(nan, device='cuda:0', grad_fn=<MeanBackward2>)\n",
            "tensor(nan, device='cuda:0', grad_fn=<MeanBackward2>)\n"
          ],
          "name": "stdout"
        },
        {
          "output_type": "stream",
          "text": [
            "epoch: 0, loss: nan, accuracy: 0.120:  97%|█████████▋| 584/600 [00:52<00:00, 20.43it/s]"
          ],
          "name": "stderr"
        },
        {
          "output_type": "stream",
          "text": [
            "tensor(nan, device='cuda:0', grad_fn=<MeanBackward2>)\n",
            "tensor(nan, device='cuda:0', grad_fn=<MeanBackward2>)\n",
            "tensor(nan, device='cuda:0', grad_fn=<MeanBackward2>)\n",
            "tensor(nan, device='cuda:0', grad_fn=<MeanBackward2>)\n",
            "tensor(nan, device='cuda:0', grad_fn=<MeanBackward2>)\n"
          ],
          "name": "stdout"
        },
        {
          "output_type": "stream",
          "text": [
            "epoch: 0, loss: nan, accuracy: 0.070:  98%|█████████▊| 589/600 [00:52<00:00, 20.24it/s]"
          ],
          "name": "stderr"
        },
        {
          "output_type": "stream",
          "text": [
            "tensor(nan, device='cuda:0', grad_fn=<MeanBackward2>)\n",
            "tensor(nan, device='cuda:0', grad_fn=<MeanBackward2>)\n",
            "tensor(nan, device='cuda:0', grad_fn=<MeanBackward2>)\n",
            "tensor(nan, device='cuda:0', grad_fn=<MeanBackward2>)\n",
            "tensor(nan, device='cuda:0', grad_fn=<MeanBackward2>)\n"
          ],
          "name": "stdout"
        },
        {
          "output_type": "stream",
          "text": [
            "epoch: 0, loss: nan, accuracy: 0.100:  99%|█████████▉| 595/600 [00:52<00:00, 20.61it/s]"
          ],
          "name": "stderr"
        },
        {
          "output_type": "stream",
          "text": [
            "tensor(nan, device='cuda:0', grad_fn=<MeanBackward2>)\n",
            "tensor(nan, device='cuda:0', grad_fn=<MeanBackward2>)\n",
            "tensor(nan, device='cuda:0', grad_fn=<MeanBackward2>)\n",
            "tensor(nan, device='cuda:0', grad_fn=<MeanBackward2>)\n",
            "tensor(nan, device='cuda:0', grad_fn=<MeanBackward2>)\n"
          ],
          "name": "stdout"
        },
        {
          "output_type": "stream",
          "text": [
            ""
          ],
          "name": "stderr"
        },
        {
          "output_type": "stream",
          "text": [
            "tensor(nan, device='cuda:0', grad_fn=<MeanBackward2>)\n",
            "tensor(nan, device='cuda:0', grad_fn=<MeanBackward2>)\n",
            "tensor(nan, device='cuda:0', grad_fn=<MeanBackward2>)\n",
            "tensor(nan, device='cuda:0', grad_fn=<MeanBackward2>)\n"
          ],
          "name": "stdout"
        },
        {
          "output_type": "display_data",
          "data": {
            "image/png": "[encoded data removed]",
            "text/plain": [
              "<Figure size 432x288 with 1 Axes>"
            ]
          },
          "metadata": {
            "tags": []
          }
        }
      ]
    },
    {
      "cell_type": "code",
      "metadata": {
        "id": "s6e6msC6FJIA",
        "colab_type": "code",
        "colab": {
          "base_uri": "https://localhost:8080/",
          "height": 269
        },
        "outputId": "c75ad001-d2ee-4fbd-e4fd-10d3ada47d04"
      },
      "source": [
        "a, b = zip(*val_acc)\n",
        "plt.plot(a,b, label='val')\n",
        "plt.plot(train_acc, label='train')\n",
        "plt.legend()\n",
        "plt.show()"
      ],
      "execution_count": 53,
      "outputs": [
        {
          "output_type": "display_data",
          "data": {
            "image/png": "[encoded data removed]",
            "text/plain": [
              "<Figure size 432x288 with 1 Axes>"
            ]
          },
          "metadata": {
            "tags": []
          }
        }
      ]
    },
    {
      "cell_type": "code",
      "metadata": {
        "id": "GsVRXrwTgHme",
        "colab_type": "code",
        "outputId": "e11c5490-ec0d-49e6-b4fd-5f482045f047",
        "colab": {
          "base_uri": "https://localhost:8080/",
          "height": 260
        }
      },
      "source": [
        "# model = ConvNetwork(train_dataset)\n",
        "# model.net[0].weight.data.uniform_(-1,1)\n",
        "# model.net[0].weight\n",
        "\n",
        "a = torch.from_numpy(np.random.randn(3,10,1).astype(np.float32))\n",
        "\n",
        "b = torch.exp(a)\n",
        "\n",
        "z = a / b.sum(1, keepdim=True)\n",
        "\n",
        "#indeces wanted from batches (i[0] says it wants the i[o] index from the first batch, and so on)\n",
        "i = y_truth[:3]\n",
        "row = torch.arange(b.size(0)) # tensor([0, 1, 2]\n",
        "col = i # tensor([3, 2, 4]\n",
        "b[row, col].mean()\n",
        "\n",
        "\n",
        "\n",
        "# # first batch\n",
        "# print(b[0])\n",
        "\n",
        "# # first index of each batch\n",
        "# print(b[:,0])\n"
      ],
      "execution_count": 0,
      "outputs": [
        {
          "output_type": "stream",
          "text": [
            "tensor([[0.3060],\n",
            "        [0.6013],\n",
            "        [2.6325],\n",
            "        [1.4179],\n",
            "        [0.9850],\n",
            "        [7.1304],\n",
            "        [1.7246],\n",
            "        [0.8546],\n",
            "        [0.6553],\n",
            "        [0.2452]])\n",
            "tensor([[0.3060],\n",
            "        [0.2126],\n",
            "        [0.3982]])\n"
          ],
          "name": "stdout"
        },
        {
          "output_type": "execute_result",
          "data": {
            "text/plain": [
              "(tensor([0, 1, 2]), tensor([3, 2, 4], device='cuda:0'))"
            ]
          },
          "metadata": {
            "tags": []
          },
          "execution_count": 17
        }
      ]
    },
    {
      "cell_type": "markdown",
      "metadata": {
        "colab_type": "text",
        "id": "ronkEckHiDaU"
      },
      "source": [
        "\n",
        "___\n",
        "\n",
        "### Part 3\n",
        "Print the number of parameters in your network and plot accuracy of your training and validation \n",
        "set over time. You should experiment with some deep networks and see if you can get a network \n",
        "with close to 1,000,000 parameters.\n",
        "\n",
        "**TODO:**\n",
        "* Experiment with Deep Networks\n",
        "* Plot accuracy of training and validation set over time\n",
        "* Print out number of parameters in the model \n",
        "\n",
        "**DONE:**\n"
      ]
    },
    {
      "cell_type": "code",
      "metadata": {
        "colab_type": "code",
        "id": "PaWCKjxvyRSf",
        "pycharm": {
          "is_executing": false
        },
        "colab": {}
      },
      "source": [
        "\n",
        "# Go back up and try a few different networks and initialization strategies\n",
        "# Plot loss if you want\n",
        "# Plot accuracy\n",
        "\n"
      ],
      "execution_count": 0,
      "outputs": []
    },
    {
      "cell_type": "code",
      "metadata": {
        "colab_type": "code",
        "id": "oijCR-JnyS6V",
        "pycharm": {
          "is_executing": false
        },
        "outputId": "cea2ebec-79bc-4ae5-8132-e10f0062ff9f",
        "colab": {
          "base_uri": "https://localhost:8080/",
          "height": 34
        }
      },
      "source": [
        "# Compute and print the number of parameters in the model\n",
        "\n",
        "num_params = sum(p.numel() for p in model.parameters())\n",
        "num_params"
      ],
      "execution_count": 0,
      "outputs": [
        {
          "output_type": "execute_result",
          "data": {
            "text/plain": [
              "334425"
            ]
          },
          "metadata": {
            "tags": []
          },
          "execution_count": 63
        }
      ]
    },
    {
      "cell_type": "markdown",
      "metadata": {
        "colab_type": "text",
        "id": "7hXGRxUQh9gX"
      },
      "source": [
        "___\n",
        "\n",
        "### Part 4\n",
        "Learn about how convolution layers affect the shape of outputs, and answer the following quiz questions. Include these in a new markdown cell in your jupyter notebook.\n",
        "\n",
        "\n",
        "*Using a Kernel size of 3×3 what should the settings of your 2d convolution be that results in the following mappings (first answer given to you)*\n",
        "\n",
        "* (c=3, h=10, w=10) ⇒ (c=10, h=8, w=8) : (out_channels=10, kernel_size=(3, 3), padding=(0, 0))\n",
        "* (c=3, h=10, w=10) ⇒ (c=22, h=10, w=10) : **(out_channels=22, kernel_size=(3,3), padding=(1, 1))**\n",
        "* (c=3, h=10, w=10) ⇒ (c=65, h=12, w=12) : **(out_channels=65, kernel_size=(3,3), padding=(2, 2))**\n",
        "* (c=3, h=10, w=10) ⇒ (c=7, h=20, w=20) : **(out_channels=7, kernel_size=(3,3), padding=(6, 6))**\n",
        "\n",
        "*Using a Kernel size of 5×5:*)\n",
        "\n",
        "* (c=3, h=10, w=10) ⇒ (c=10, h=8, w=8) : **(out_channels=10, kernel_size=(5, 5), padding=(1, 1))**\n",
        "* (c=3, h=10, w=10) ⇒ (c=100, h=10, w=10) : **(out_channels=100, kernel_size=(5,5), padding=(2, 2))**\n",
        "* (c=3, h=10, w=10) ⇒ (c=23, h=12, w=12) : **(out_channels=23, kernel_size=(5,5), padding=(3, 3))**\n",
        "* (c=3, h=10, w=10) ⇒ (c=5, h=24, w=24) : **(out_channels=5, kernel_size=(5,5), padding=(9, 9))**\n",
        "\n",
        "*Using Kernel size of 5×3:*\n",
        "\n",
        "* (c=3, h=10, w=10) ⇒ (c=10, h=8, w=8) : **(out_channels=10, kernel_size=(5,3), padding=(1, 0))**\n",
        "* (c=3, h=10, w=10) ⇒ (c=100, h=10, w=10) : **(out_channels=100, kernel_size=(5,3), padding=(2,1))**\n",
        "* (c=3, h=10, w=10) ⇒ (c=23, h=12, w=12) : **(out_channels=23, kernel_size=(5,3), padding=(3, 2))**\n",
        "* (c=3, h=10, w=10) ⇒ (c=5, h=24, w=24) : **(out_channels=5, kernel_size=(5,3), padding=(9, 8))**\n",
        "\n",
        "*Determine the kernel that requires the smallest padding size to make the following mappings possible:*\n",
        "\n",
        "* (c=3, h=10, w=10) ⇒ (c=10, h=9, w=7) : **(out_channels=10, kernel_size=(2,4), padding=(0, 0))**\n",
        "* (c=3, h=10, w=10) ⇒ (c=22, h=10, w=10) : **(out_channels=22, kernel_size=(1,1), padding=(0, 0))**\n",
        "\n",
        "**TODO:**\n",
        "\n",
        "* Answer all the questions above \n",
        "\n",
        "**DONE:**\n",
        "\n",
        "* Answer all the questions above \n"
      ]
    },
    {
      "cell_type": "code",
      "metadata": {
        "colab_type": "code",
        "id": "XXfG3wClh8an",
        "pycharm": {
          "is_executing": false
        },
        "outputId": "4ac79baa-d1d9-4ca5-df32-e3a6202efafc",
        "colab": {
          "base_uri": "https://localhost:8080/",
          "height": 347
        }
      },
      "source": [
        "# output_dim = input_dim - kernel_size + 1\n",
        "\n",
        "# O = ((I - K + 2P) / s) + 1\n",
        "# output = ((input_dim - kernel_size + 2*padding) / stride) + 1\n",
        "\n",
        "\n",
        "# Write some test code for checking the answers for these problems (example shown in the video)\n",
        "#Example\n",
        "c = nn.Conv2d(3, 10, kernel_size=(3,3), padding=(0,0))\n",
        "print(c(torch.zeros(1, 3, 10, 10)).size(), end=\"\\n\\n\")\n",
        "\n",
        "\n",
        "# 3x3 kernels\n",
        "c = nn.Conv2d(3, 22, kernel_size=(3,3), padding=(1,1))\n",
        "print(c(torch.zeros(1, 3, 10, 10)).size())\n",
        "\n",
        "c = nn.Conv2d(3, 65, kernel_size=(3,3), padding=(2,2))\n",
        "print(c(torch.zeros(1, 3, 10, 10)).size())\n",
        "\n",
        "c = nn.Conv2d(3, 7, kernel_size=(3,3), padding=(6,6))\n",
        "print(c(torch.zeros(1, 3, 10, 10)).size(), end=\"\\n\\n\")\n",
        "\n",
        "\n",
        "# 5x5 kernels\n",
        "c = nn.Conv2d(3, 10, kernel_size=(5,5), padding=(1,1))\n",
        "print(c(torch.zeros(1, 3, 10, 10)).size())\n",
        "\n",
        "c = nn.Conv2d(3, 100, kernel_size=(5,5), padding=(2,2))\n",
        "print(c(torch.zeros(1, 3, 10, 10)).size())\n",
        "\n",
        "c = nn.Conv2d(3, 23, kernel_size=(5,5), padding=(3,3))\n",
        "print(c(torch.zeros(1, 3, 10, 10)).size())\n",
        "\n",
        "c = nn.Conv2d(3, 5, kernel_size=(5,5), padding=(9,9))\n",
        "print(c(torch.zeros(1, 3, 10, 10)).size(), end=\"\\n\\n\")\n",
        "\n",
        "\n",
        "# 5x3 kernels\n",
        "c = nn.Conv2d(3, 10, kernel_size=(5,3), padding=(1,0))\n",
        "print(c(torch.zeros(1, 3, 10, 10)).size())\n",
        "\n",
        "c = nn.Conv2d(3, 100, kernel_size=(5,3), padding=(2,1))\n",
        "print(c(torch.zeros(1, 3, 10, 10)).size())\n",
        "\n",
        "c = nn.Conv2d(3, 23, kernel_size=(5,3), padding=(3,2))\n",
        "print(c(torch.zeros(1, 3, 10, 10)).size())\n",
        "\n",
        "c = nn.Conv2d(3, 5, kernel_size=(5,3), padding=(9,8))\n",
        "print(c(torch.zeros(1, 3, 10, 10)).size(), end=\"\\n\\n\")\n",
        "\n",
        "\n",
        "# Smallest padding size\n",
        "c = nn.Conv2d(3, 10, kernel_size=(2,4), padding=(0,0))\n",
        "print(c(torch.zeros(1, 3, 10, 10)).size())\n",
        "\n",
        "c = nn.Conv2d(3, 22, kernel_size=(1,1), padding=(0,0))\n",
        "print(c(torch.zeros(1, 3, 10, 10)).size(), end=\"\\n\\n\")"
      ],
      "execution_count": 13,
      "outputs": [
        {
          "output_type": "stream",
          "text": [
            "torch.Size([1, 10, 8, 8])\n",
            "\n",
            "torch.Size([1, 22, 10, 10])\n",
            "torch.Size([1, 65, 12, 12])\n",
            "torch.Size([1, 7, 20, 20])\n",
            "\n",
            "torch.Size([1, 10, 8, 8])\n",
            "torch.Size([1, 100, 10, 10])\n",
            "torch.Size([1, 23, 12, 12])\n",
            "torch.Size([1, 5, 24, 24])\n",
            "\n",
            "torch.Size([1, 10, 8, 8])\n",
            "torch.Size([1, 100, 10, 10])\n",
            "torch.Size([1, 23, 12, 12])\n",
            "torch.Size([1, 5, 24, 24])\n",
            "\n",
            "torch.Size([1, 10, 9, 7])\n",
            "torch.Size([1, 22, 10, 10])\n",
            "\n"
          ],
          "name": "stdout"
        }
      ]
    },
    {
      "cell_type": "code",
      "metadata": {
        "id": "_4O6mvvSrnTS",
        "colab_type": "code",
        "colab": {}
      },
      "source": [
        ""
      ],
      "execution_count": 0,
      "outputs": []
    }
  ]
}